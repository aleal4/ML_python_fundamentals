{
 "cells": [
  {
   "cell_type": "code",
   "execution_count": 5,
   "id": "2a2606e8-082d-4827-a8ea-0309478b9103",
   "metadata": {},
   "outputs": [],
   "source": [
    "import numpy as np"
   ]
  },
  {
   "cell_type": "code",
   "execution_count": 6,
   "id": "046b886d-41b4-45e3-a530-45bea362e714",
   "metadata": {},
   "outputs": [
    {
     "data": {
      "text/plain": [
       "16"
      ]
     },
     "execution_count": 6,
     "metadata": {},
     "output_type": "execute_result"
    }
   ],
   "source": [
    "4*4"
   ]
  },
  {
   "cell_type": "code",
   "execution_count": 7,
   "id": "dcd9e86f-89ad-4e61-bc81-61ce70d9dee6",
   "metadata": {},
   "outputs": [
    {
     "data": {
      "text/plain": [
       "42"
      ]
     },
     "execution_count": 7,
     "metadata": {},
     "output_type": "execute_result"
    }
   ],
   "source": [
    "4*4+2*4+9*2"
   ]
  },
  {
   "cell_type": "markdown",
   "id": "630ddd3c-1aa6-4f15-a95b-3ea2a1a48c1a",
   "metadata": {},
   "source": [
    "(4*2)+(8*7)\n"
   ]
  },
  {
   "cell_type": "code",
   "execution_count": 8,
   "id": "4e5b8737-1526-4ee1-82f9-242d096adc35",
   "metadata": {},
   "outputs": [
    {
     "data": {
      "text/plain": [
       "64"
      ]
     },
     "execution_count": 8,
     "metadata": {},
     "output_type": "execute_result"
    }
   ],
   "source": [
    "(4*2)+(8*7)"
   ]
  },
  {
   "cell_type": "code",
   "execution_count": 9,
   "id": "6153c45b-58de-4bae-951a-c337146dc947",
   "metadata": {},
   "outputs": [
    {
     "data": {
      "text/plain": [
       "1000"
      ]
     },
     "execution_count": 9,
     "metadata": {},
     "output_type": "execute_result"
    }
   ],
   "source": [
    "10**3"
   ]
  },
  {
   "cell_type": "code",
   "execution_count": 10,
   "id": "87a74fdb-a2db-407f-85cf-096928270c5a",
   "metadata": {},
   "outputs": [
    {
     "data": {
      "text/plain": [
       "1"
      ]
     },
     "execution_count": 10,
     "metadata": {},
     "output_type": "execute_result"
    }
   ],
   "source": [
    "13%2"
   ]
  },
  {
   "cell_type": "code",
   "execution_count": 11,
   "id": "f07b848b-85ff-4af6-8250-5e071fece52d",
   "metadata": {},
   "outputs": [
    {
     "data": {
      "text/plain": [
       "600"
      ]
     },
     "execution_count": 11,
     "metadata": {},
     "output_type": "execute_result"
    }
   ],
   "source": [
    "x=100\n",
    "y=200\n",
    "z=300\n",
    "d=x+y+z\n",
    "d"
   ]
  },
  {
   "cell_type": "code",
   "execution_count": 12,
   "id": "58867502-39f7-47ee-8c8c-6f95c8c72296",
   "metadata": {},
   "outputs": [],
   "source": [
    "y=\"Oil_Gas\"\n"
   ]
  },
  {
   "cell_type": "code",
   "execution_count": 13,
   "id": "50d61999-5f80-45f3-9db2-a553630fd659",
   "metadata": {},
   "outputs": [
    {
     "data": {
      "text/plain": [
       "'O'"
      ]
     },
     "execution_count": 13,
     "metadata": {},
     "output_type": "execute_result"
    }
   ],
   "source": [
    "y[0]"
   ]
  },
  {
   "cell_type": "code",
   "execution_count": 14,
   "id": "29874ade-9eb4-4e49-acee-7a30ade57225",
   "metadata": {},
   "outputs": [
    {
     "data": {
      "text/plain": [
       "'a'"
      ]
     },
     "execution_count": 14,
     "metadata": {},
     "output_type": "execute_result"
    }
   ],
   "source": [
    "y[5]\n"
   ]
  },
  {
   "cell_type": "code",
   "execution_count": 15,
   "id": "a5c5193e-afef-4870-aa63-2eb70a6e9359",
   "metadata": {},
   "outputs": [
    {
     "data": {
      "text/plain": [
       "'Oil_'"
      ]
     },
     "execution_count": 15,
     "metadata": {},
     "output_type": "execute_result"
    }
   ],
   "source": [
    "y[0:4]"
   ]
  },
  {
   "cell_type": "code",
   "execution_count": 16,
   "id": "3f747db2-70cc-4302-ab3f-5ff93e5a9be5",
   "metadata": {},
   "outputs": [
    {
     "data": {
      "text/plain": [
       "'Oil_Gas'"
      ]
     },
     "execution_count": 16,
     "metadata": {},
     "output_type": "execute_result"
    }
   ],
   "source": [
    "y[:]"
   ]
  },
  {
   "cell_type": "code",
   "execution_count": 17,
   "id": "ee28baec-b67a-4145-9fb3-c1eb460205ff",
   "metadata": {},
   "outputs": [
    {
     "data": {
      "text/plain": [
       "'Oil_Ga'"
      ]
     },
     "execution_count": 17,
     "metadata": {},
     "output_type": "execute_result"
    }
   ],
   "source": [
    "y[:6]\n"
   ]
  },
  {
   "cell_type": "code",
   "execution_count": 18,
   "id": "7bb69662-0c3a-4de5-894f-cdc797c05862",
   "metadata": {},
   "outputs": [
    {
     "data": {
      "text/plain": [
       "'l_Gas'"
      ]
     },
     "execution_count": 18,
     "metadata": {},
     "output_type": "execute_result"
    }
   ],
   "source": [
    "y[2:]"
   ]
  },
  {
   "cell_type": "code",
   "execution_count": 20,
   "id": "c43920c6-8a4f-47ad-af75-363e32651505",
   "metadata": {},
   "outputs": [
    {
     "data": {
      "text/plain": [
       "34"
      ]
     },
     "execution_count": 20,
     "metadata": {},
     "output_type": "execute_result"
    }
   ],
   "source": [
    "z='The optimum well spacing is 950 ft'\n",
    "len(z)"
   ]
  },
  {
   "cell_type": "code",
   "execution_count": 22,
   "id": "41f9e4c0-cb28-4814-a598-b6e9ece727b8",
   "metadata": {},
   "outputs": [],
   "source": [
    "list=['Land','Geology','Drilling']"
   ]
  },
  {
   "cell_type": "code",
   "execution_count": 23,
   "id": "bf49d555-6451-4260-a44c-2f59d8a40484",
   "metadata": {},
   "outputs": [
    {
     "data": {
      "text/plain": [
       "['Land', 'Geology', 'Drilling']"
      ]
     },
     "execution_count": 23,
     "metadata": {},
     "output_type": "execute_result"
    }
   ],
   "source": [
    "list\n"
   ]
  },
  {
   "cell_type": "code",
   "execution_count": 24,
   "id": "eb11df1b-5938-4f8e-8791-5dc67938b6ae",
   "metadata": {},
   "outputs": [],
   "source": [
    "list.append('Frac')"
   ]
  },
  {
   "cell_type": "code",
   "execution_count": 25,
   "id": "b627cc8a-a885-4399-8a61-60c9885acbe0",
   "metadata": {},
   "outputs": [
    {
     "data": {
      "text/plain": [
       "['Land', 'Geology', 'Drilling', 'Frac']"
      ]
     },
     "execution_count": 25,
     "metadata": {},
     "output_type": "execute_result"
    }
   ],
   "source": [
    "list"
   ]
  },
  {
   "cell_type": "code",
   "execution_count": 26,
   "id": "3e214721-e052-4e64-bcf1-908236fdea4b",
   "metadata": {},
   "outputs": [
    {
     "ename": "SyntaxError",
     "evalue": "incomplete input (4130884942.py, line 1)",
     "output_type": "error",
     "traceback": [
      "\u001b[0;36m  Cell \u001b[0;32mIn[26], line 1\u001b[0;36m\u001b[0m\n\u001b[0;31m    list.append(1000\u001b[0m\n\u001b[0m                    ^\u001b[0m\n\u001b[0;31mSyntaxError\u001b[0m\u001b[0;31m:\u001b[0m incomplete input\n"
     ]
    }
   ],
   "source": [
    "list.append(1000"
   ]
  },
  {
   "cell_type": "code",
   "execution_count": 27,
   "id": "d038754c-79d4-4333-aff7-babd2d042aaf",
   "metadata": {},
   "outputs": [],
   "source": [
    "list.append(100)"
   ]
  },
  {
   "cell_type": "code",
   "execution_count": 28,
   "id": "a689983c-a8d0-414b-a77d-659e294a8758",
   "metadata": {},
   "outputs": [
    {
     "data": {
      "text/plain": [
       "['Land', 'Geology', 'Drilling', 'Frac', 100]"
      ]
     },
     "execution_count": 28,
     "metadata": {},
     "output_type": "execute_result"
    }
   ],
   "source": [
    "list"
   ]
  },
  {
   "cell_type": "code",
   "execution_count": 29,
   "id": "bafb67b5-2788-4146-abe6-78a083c21de1",
   "metadata": {},
   "outputs": [
    {
     "name": "stdout",
     "output_type": "stream",
     "text": [
      "Land\n",
      "Drilling\n",
      "100\n"
     ]
    }
   ],
   "source": [
    "print(list[0])\n",
    "print(list[2])\n",
    "print(list[len(list)-1])\n"
   ]
  },
  {
   "cell_type": "code",
   "execution_count": 30,
   "id": "710ea0ef-91b8-4788-b906-a531512fd921",
   "metadata": {},
   "outputs": [],
   "source": [
    "list[0]='Title Search'\n"
   ]
  },
  {
   "cell_type": "code",
   "execution_count": 31,
   "id": "a1a25f87-5469-44b4-ba9c-7eb2aa231602",
   "metadata": {},
   "outputs": [
    {
     "data": {
      "text/plain": [
       "['Title Search', 'Geology', 'Drilling', 'Frac', 100]"
      ]
     },
     "execution_count": 31,
     "metadata": {},
     "output_type": "execute_result"
    }
   ],
   "source": [
    "list\n"
   ]
  },
  {
   "cell_type": "code",
   "execution_count": 32,
   "id": "04fdc79b-8746-4712-ac9d-af92ef08d96f",
   "metadata": {},
   "outputs": [],
   "source": [
    "list[2]='Augusto'"
   ]
  },
  {
   "cell_type": "code",
   "execution_count": 33,
   "id": "c3a41333-f834-4f96-96ad-9684d2f1b34a",
   "metadata": {},
   "outputs": [
    {
     "data": {
      "text/plain": [
       "['Title Search', 'Geology', 'Augusto', 'Frac', 100]"
      ]
     },
     "execution_count": 33,
     "metadata": {},
     "output_type": "execute_result"
    }
   ],
   "source": [
    "list"
   ]
  },
  {
   "cell_type": "code",
   "execution_count": 34,
   "id": "4990fee1-8288-419e-af96-87064c794365",
   "metadata": {},
   "outputs": [],
   "source": [
    "nested_list=[10,20, [30,40,50,60]]"
   ]
  },
  {
   "cell_type": "code",
   "execution_count": 35,
   "id": "c24db795-d77d-4d32-86f6-acd650bad939",
   "metadata": {},
   "outputs": [
    {
     "data": {
      "text/plain": [
       "40"
      ]
     },
     "execution_count": 35,
     "metadata": {},
     "output_type": "execute_result"
    }
   ],
   "source": [
    "nested_list[2][1]"
   ]
  },
  {
   "cell_type": "code",
   "execution_count": 39,
   "id": "a5ac5d56-7ff8-4118-9eb2-5d26e42e4d23",
   "metadata": {},
   "outputs": [],
   "source": [
    "nested_list2=[10,20, [30,40,50,60, [4,3,1]]]"
   ]
  },
  {
   "cell_type": "code",
   "execution_count": 40,
   "id": "0eb0ca96-fb80-466c-ba34-2caf23cf01a3",
   "metadata": {},
   "outputs": [
    {
     "data": {
      "text/plain": [
       "10"
      ]
     },
     "execution_count": 40,
     "metadata": {},
     "output_type": "execute_result"
    }
   ],
   "source": [
    "nested_list2[0]\n"
   ]
  },
  {
   "cell_type": "code",
   "execution_count": 41,
   "id": "f6b29dc9-6649-4f8a-ad2d-34298af8aed0",
   "metadata": {},
   "outputs": [
    {
     "data": {
      "text/plain": [
       "[30, 40, 50, 60, [4, 3, 1]]"
      ]
     },
     "execution_count": 41,
     "metadata": {},
     "output_type": "execute_result"
    }
   ],
   "source": [
    "nested_list2[2]"
   ]
  },
  {
   "cell_type": "code",
   "execution_count": 42,
   "id": "88450df4-7579-4b8e-bfc3-6690d79e5ac1",
   "metadata": {},
   "outputs": [
    {
     "ename": "IndexError",
     "evalue": "list index out of range",
     "output_type": "error",
     "traceback": [
      "\u001b[0;31m---------------------------------------------------------------------------\u001b[0m",
      "\u001b[0;31mIndexError\u001b[0m                                Traceback (most recent call last)",
      "Cell \u001b[0;32mIn[42], line 1\u001b[0m\n\u001b[0;32m----> 1\u001b[0m nested_list2[\u001b[38;5;241m3\u001b[39m]\n",
      "\u001b[0;31mIndexError\u001b[0m: list index out of range"
     ]
    }
   ],
   "source": [
    "nested_list2[3]"
   ]
  },
  {
   "cell_type": "code",
   "execution_count": 44,
   "id": "6bf97bc9-becf-488a-9f47-a1fb2336061c",
   "metadata": {},
   "outputs": [
    {
     "data": {
      "text/plain": [
       "3"
      ]
     },
     "execution_count": 44,
     "metadata": {},
     "output_type": "execute_result"
    }
   ],
   "source": [
    "nested_list2[2][4][1]\n"
   ]
  },
  {
   "cell_type": "code",
   "execution_count": 45,
   "id": "16cbe31a-eb83-4224-9bb7-836551d5e66f",
   "metadata": {},
   "outputs": [],
   "source": [
    "a={'ML_Models':['ANN','SVM','RF','GB','XGB'],\n",
    "'Score':[90,85,95,90,100]}"
   ]
  },
  {
   "cell_type": "code",
   "execution_count": 46,
   "id": "c15ea814-6706-4dea-894b-7c37d11b8ea5",
   "metadata": {},
   "outputs": [
    {
     "data": {
      "text/plain": [
       "{'ML_Models': ['ANN', 'SVM', 'RF', 'GB', 'XGB'],\n",
       " 'Score': [90, 85, 95, 90, 100]}"
      ]
     },
     "execution_count": 46,
     "metadata": {},
     "output_type": "execute_result"
    }
   ],
   "source": [
    "a"
   ]
  },
  {
   "cell_type": "code",
   "execution_count": 47,
   "id": "a7020bba-5c29-4461-899b-3083bf5f6764",
   "metadata": {},
   "outputs": [
    {
     "data": {
      "text/plain": [
       "['ANN', 'SVM', 'RF', 'GB', 'XGB']"
      ]
     },
     "execution_count": 47,
     "metadata": {},
     "output_type": "execute_result"
    }
   ],
   "source": [
    "a['ML_Models']"
   ]
  },
  {
   "cell_type": "code",
   "execution_count": 48,
   "id": "c2dccedd-85cb-4937-b8df-21dde6556971",
   "metadata": {},
   "outputs": [
    {
     "data": {
      "text/plain": [
       "[90, 85, 95, 90, 100]"
      ]
     },
     "execution_count": 48,
     "metadata": {},
     "output_type": "execute_result"
    }
   ],
   "source": [
    "a['Score']"
   ]
  },
  {
   "cell_type": "code",
   "execution_count": 49,
   "id": "b86b6ece-ad50-4572-a342-c6ed59770204",
   "metadata": {},
   "outputs": [],
   "source": [
    "d={'a':{'inner_a':[1,2,3]}}"
   ]
  },
  {
   "cell_type": "code",
   "execution_count": 51,
   "id": "6f99d4a7-ea74-418b-bed2-adc46579727c",
   "metadata": {},
   "outputs": [
    {
     "data": {
      "text/plain": [
       "{'a': {'inner_a': [1, 2, 3]}}"
      ]
     },
     "execution_count": 51,
     "metadata": {},
     "output_type": "execute_result"
    }
   ],
   "source": [
    "d"
   ]
  },
  {
   "cell_type": "code",
   "execution_count": 53,
   "id": "09126e90-9a20-4da8-b191-b2f7a21cd30c",
   "metadata": {},
   "outputs": [
    {
     "data": {
      "text/plain": [
       "[1, 2, 3]"
      ]
     },
     "execution_count": 53,
     "metadata": {},
     "output_type": "execute_result"
    }
   ],
   "source": [
    "d['a']['inner_a']\n"
   ]
  },
  {
   "cell_type": "code",
   "execution_count": 54,
   "id": "b7116703-d625-4a1d-8ede-564845b5d857",
   "metadata": {},
   "outputs": [],
   "source": [
    "t=(100,200,300,400)"
   ]
  },
  {
   "cell_type": "code",
   "execution_count": 55,
   "id": "95090107-dd85-442d-8e80-769c61adc724",
   "metadata": {},
   "outputs": [
    {
     "data": {
      "text/plain": [
       "(100, 200, 300, 400)"
      ]
     },
     "execution_count": 55,
     "metadata": {},
     "output_type": "execute_result"
    }
   ],
   "source": [
    "t"
   ]
  },
  {
   "cell_type": "code",
   "execution_count": 56,
   "id": "ba599cb1-88b2-4356-9de9-3c6e1fcd6f30",
   "metadata": {},
   "outputs": [
    {
     "ename": "TypeError",
     "evalue": "'tuple' object does not support item assignment",
     "output_type": "error",
     "traceback": [
      "\u001b[0;31m---------------------------------------------------------------------------\u001b[0m",
      "\u001b[0;31mTypeError\u001b[0m                                 Traceback (most recent call last)",
      "Cell \u001b[0;32mIn[56], line 1\u001b[0m\n\u001b[0;32m----> 1\u001b[0m t[\u001b[38;5;241m0\u001b[39m]\u001b[38;5;241m=\u001b[39m\u001b[38;5;124m'\u001b[39m\u001b[38;5;124mNew\u001b[39m\u001b[38;5;124m'\u001b[39m\n",
      "\u001b[0;31mTypeError\u001b[0m: 'tuple' object does not support item assignment"
     ]
    }
   ],
   "source": [
    "t[0]='New'"
   ]
  },
  {
   "cell_type": "code",
   "execution_count": 58,
   "id": "090599fb-a0dd-488c-b707-0511fa1213d7",
   "metadata": {},
   "outputs": [
    {
     "name": "stdout",
     "output_type": "stream",
     "text": [
      "Not good!\n"
     ]
    }
   ],
   "source": [
    "if 100==200:\n",
    "    print('Good job')\n",
    "else:\n",
    "    print('Not good!')"
   ]
  },
  {
   "cell_type": "code",
   "execution_count": 64,
   "id": "2f378bd0-fd44-45ef-8e98-4959ea6f9aaa",
   "metadata": {},
   "outputs": [
    {
     "data": {
      "text/plain": [
       "1200"
      ]
     },
     "execution_count": 64,
     "metadata": {},
     "output_type": "execute_result"
    }
   ],
   "source": [
    "X=100\n",
    "Y=200\n",
    "Z=300\n",
    "\n",
    "if X>Y:\n",
    "    A=X+Y\n",
    "elif Z<Y:\n",
    "    B=X+Y+Z\n",
    "else:\n",
    "    C=2*(X+Y+Z)\n",
    "C"
   ]
  },
  {
   "cell_type": "code",
   "execution_count": 69,
   "id": "abc8ca0a-5a81-4fd8-bb4f-f482833d9f3e",
   "metadata": {},
   "outputs": [
    {
     "name": "stdin",
     "output_type": "stream",
     "text": [
      "Enter any number 0\n"
     ]
    },
    {
     "name": "stdout",
     "output_type": "stream",
     "text": [
      "Zero\n"
     ]
    }
   ],
   "source": [
    "n=float(input(\"Enter any number\"))\n",
    "if n ==0:\n",
    "    print('Zero')\n",
    "elif n>0:\n",
    "    print('Positive Number')\n",
    "else:\n",
    "    print('Negative Number')\n"
   ]
  },
  {
   "cell_type": "code",
   "execution_count": 70,
   "id": "29f6c24a-111d-47d3-8e0f-2d8cb03febad",
   "metadata": {},
   "outputs": [
    {
     "name": "stdout",
     "output_type": "stream",
     "text": [
      "0\n",
      "1\n",
      "2\n",
      "3\n",
      "4\n"
     ]
    }
   ],
   "source": [
    "i=range(0,5)\n",
    "for x in i:\n",
    "    print(x)"
   ]
  },
  {
   "cell_type": "code",
   "execution_count": 72,
   "id": "a06657f3-4e3d-4080-9041-a4e356e28c2c",
   "metadata": {},
   "outputs": [
    {
     "name": "stdout",
     "output_type": "stream",
     "text": [
      "edge computing\n",
      "edge computing\n",
      "edge computing\n"
     ]
    }
   ],
   "source": [
    "for x in range(0,3):\n",
    "    print('edge computing')"
   ]
  },
  {
   "cell_type": "code",
   "execution_count": 75,
   "id": "7c2a2d1c-ab90-48be-a3a1-312700408022",
   "metadata": {},
   "outputs": [
    {
     "name": "stdout",
     "output_type": "stream",
     "text": [
      "Frac_Crew_1\n",
      "Frac_Crew_3\n",
      "Frac_Crew_4\n"
     ]
    }
   ],
   "source": [
    "Frac_Crews=['Frac_Crew_1', 'Frac_Crew_2', 'Frac_Crew_3', 'Frac_Crew_4']\n",
    "for x in Frac_Crews:\n",
    "    if x=='Frac_Crew_2':\n",
    "        continue\n",
    "    print(x)"
   ]
  },
  {
   "cell_type": "code",
   "execution_count": 77,
   "id": "51411aa2-cbd0-4f0a-8f4d-2c0bd3d230fb",
   "metadata": {},
   "outputs": [
    {
     "name": "stdout",
     "output_type": "stream",
     "text": [
      "10\n",
      "14\n",
      "18\n"
     ]
    }
   ],
   "source": [
    "for x in range(10, 19, 4):\n",
    "    \n",
    "    print(x)\n"
   ]
  },
  {
   "cell_type": "code",
   "execution_count": 80,
   "id": "d96e4547-a1db-4563-b4fd-07152065acd1",
   "metadata": {},
   "outputs": [
    {
     "name": "stdout",
     "output_type": "stream",
     "text": [
      "Low_Performing Drilling_Crew_1\n",
      "Low_Performing Drilling_Crew_2\n",
      "Low_Performing Drilling_Crew_3\n",
      "Medium_Performing Drilling_Crew_1\n",
      "Medium_Performing Drilling_Crew_2\n",
      "Medium_Performing Drilling_Crew_3\n",
      "High_Performing Drilling_Crew_1\n",
      "High_Performing Drilling_Crew_2\n",
      "High_Performing Drilling_Crew_3\n"
     ]
    }
   ],
   "source": [
    "Performance=[\"Low_Performing\", \"Medium_Performing\", \"High_Performing\"]\n",
    "Drilling_crews=[\"Drilling_Crew_1\", \"Drilling_Crew_2\", \"Drilling_Crew_3\"]\n",
    "for x in Performance: \n",
    "    for y in Drilling_crews:\n",
    "        print(x, y)"
   ]
  },
  {
   "cell_type": "code",
   "execution_count": 81,
   "id": "b11bc371-8d1b-49cb-b3bb-c2290d1f2140",
   "metadata": {},
   "outputs": [
    {
     "name": "stdout",
     "output_type": "stream",
     "text": [
      "[300, 600, 1100, 1800]\n"
     ]
    }
   ],
   "source": [
    "i=[10,20,30,40]\n",
    "out=[]\n",
    "for x in i:\n",
    "    out.append(x**2+200)\n",
    "print(out)"
   ]
  },
  {
   "cell_type": "code",
   "execution_count": 82,
   "id": "17e246f0-ec6f-4f82-8335-56b1d702c36e",
   "metadata": {},
   "outputs": [
    {
     "data": {
      "text/plain": [
       "[300, 600, 1100, 1800]"
      ]
     },
     "execution_count": 82,
     "metadata": {},
     "output_type": "execute_result"
    }
   ],
   "source": [
    "[x**2+200 for x in i]"
   ]
  },
  {
   "cell_type": "code",
   "execution_count": 83,
   "id": "2c0731e0-6224-4afe-b919-bf4312af6eaf",
   "metadata": {},
   "outputs": [
    {
     "data": {
      "text/plain": [
       "[409, 423, 439, 457, 477, 499]"
      ]
     },
     "execution_count": 83,
     "metadata": {},
     "output_type": "execute_result"
    }
   ],
   "source": [
    "y=[5,6,7,8,9,10]\n",
    "[x**2+3*x+369 for x in y]\n"
   ]
  },
  {
   "cell_type": "code",
   "execution_count": 84,
   "id": "933dcce7-ae82-45bd-9a0b-9aa17aae85c3",
   "metadata": {},
   "outputs": [
    {
     "data": {
      "text/plain": [
       "60"
      ]
     },
     "execution_count": 84,
     "metadata": {},
     "output_type": "execute_result"
    }
   ],
   "source": [
    "def linear_function(n):\n",
    "    return 2*n+20\n",
    "linear_function(20)"
   ]
  },
  {
   "cell_type": "code",
   "execution_count": 85,
   "id": "a1de3442-f78e-4eb8-b618-6da21987639c",
   "metadata": {},
   "outputs": [],
   "source": [
    "def Turner_rate(x):\n",
    "    return x**2+50"
   ]
  },
  {
   "cell_type": "code",
   "execution_count": 86,
   "id": "4fa630c7-cc45-4576-b4e6-2421bc9ed363",
   "metadata": {},
   "outputs": [
    {
     "data": {
      "text/plain": [
       "450"
      ]
     },
     "execution_count": 86,
     "metadata": {},
     "output_type": "execute_result"
    }
   ],
   "source": [
    "Turner_rate(20)"
   ]
  },
  {
   "cell_type": "code",
   "execution_count": 87,
   "id": "802bc32d-9c47-4998-919a-da35ec483c8e",
   "metadata": {},
   "outputs": [
    {
     "data": {
      "text/plain": [
       "{'Column_1': [10, 20, 30], 'Column_2': [40, 50, 60], 'Column_3': [70, 80, 90]}"
      ]
     },
     "execution_count": 87,
     "metadata": {},
     "output_type": "execute_result"
    }
   ],
   "source": [
    "dictionary={'Column_1':[10,20,30], 'Column_2':[40,50,60], 'Column_3':[70,80,90]}\n",
    "dictionary"
   ]
  },
  {
   "cell_type": "code",
   "execution_count": 88,
   "id": "18d0a65a-f13a-4572-b980-2a2951b6e18d",
   "metadata": {},
   "outputs": [
    {
     "data": {
      "text/html": [
       "<div>\n",
       "<style scoped>\n",
       "    .dataframe tbody tr th:only-of-type {\n",
       "        vertical-align: middle;\n",
       "    }\n",
       "\n",
       "    .dataframe tbody tr th {\n",
       "        vertical-align: top;\n",
       "    }\n",
       "\n",
       "    .dataframe thead th {\n",
       "        text-align: right;\n",
       "    }\n",
       "</style>\n",
       "<table border=\"1\" class=\"dataframe\">\n",
       "  <thead>\n",
       "    <tr style=\"text-align: right;\">\n",
       "      <th></th>\n",
       "      <th>Column_1</th>\n",
       "      <th>Column_2</th>\n",
       "      <th>Column_3</th>\n",
       "    </tr>\n",
       "  </thead>\n",
       "  <tbody>\n",
       "    <tr>\n",
       "      <th>0</th>\n",
       "      <td>10</td>\n",
       "      <td>40</td>\n",
       "      <td>70</td>\n",
       "    </tr>\n",
       "    <tr>\n",
       "      <th>1</th>\n",
       "      <td>20</td>\n",
       "      <td>50</td>\n",
       "      <td>80</td>\n",
       "    </tr>\n",
       "    <tr>\n",
       "      <th>2</th>\n",
       "      <td>30</td>\n",
       "      <td>60</td>\n",
       "      <td>90</td>\n",
       "    </tr>\n",
       "  </tbody>\n",
       "</table>\n",
       "</div>"
      ],
      "text/plain": [
       "   Column_1  Column_2  Column_3\n",
       "0        10        40        70\n",
       "1        20        50        80\n",
       "2        30        60        90"
      ]
     },
     "execution_count": 88,
     "metadata": {},
     "output_type": "execute_result"
    }
   ],
   "source": [
    "import pandas as pd\n",
    "dictionary=pd.DataFrame(dictionary)\n",
    "dictionary"
   ]
  },
  {
   "cell_type": "code",
   "execution_count": 91,
   "id": "d0e717c2-a056-4bab-b132-6bbc6f04534b",
   "metadata": {},
   "outputs": [
    {
     "data": {
      "text/html": [
       "<div>\n",
       "<style scoped>\n",
       "    .dataframe tbody tr th:only-of-type {\n",
       "        vertical-align: middle;\n",
       "    }\n",
       "\n",
       "    .dataframe tbody tr th {\n",
       "        vertical-align: top;\n",
       "    }\n",
       "\n",
       "    .dataframe thead th {\n",
       "        text-align: right;\n",
       "    }\n",
       "</style>\n",
       "<table border=\"1\" class=\"dataframe\">\n",
       "  <thead>\n",
       "    <tr style=\"text-align: right;\">\n",
       "      <th></th>\n",
       "      <th>Column_1</th>\n",
       "      <th>Column_2</th>\n",
       "      <th>Column_3</th>\n",
       "    </tr>\n",
       "  </thead>\n",
       "  <tbody>\n",
       "    <tr>\n",
       "      <th>0</th>\n",
       "      <td>10</td>\n",
       "      <td>40</td>\n",
       "      <td>70</td>\n",
       "    </tr>\n",
       "    <tr>\n",
       "      <th>1</th>\n",
       "      <td>20</td>\n",
       "      <td>50</td>\n",
       "      <td>80</td>\n",
       "    </tr>\n",
       "    <tr>\n",
       "      <th>2</th>\n",
       "      <td>30</td>\n",
       "      <td>60</td>\n",
       "      <td>90</td>\n",
       "    </tr>\n",
       "  </tbody>\n",
       "</table>\n",
       "</div>"
      ],
      "text/plain": [
       "   Column_1  Column_2  Column_3\n",
       "0        10        40        70\n",
       "1        20        50        80\n",
       "2        30        60        90"
      ]
     },
     "execution_count": 91,
     "metadata": {},
     "output_type": "execute_result"
    }
   ],
   "source": [
    "dictionary=pd.DataFrame({'Column_1':[10,20,30], 'Column_2':[40,50,60], 'Column_3':[70,80,90]})\n",
    "dictionary"
   ]
  },
  {
   "cell_type": "code",
   "execution_count": 95,
   "id": "c64bda98-c06f-4839-af59-89a1826f3179",
   "metadata": {},
   "outputs": [
    {
     "data": {
      "text/html": [
       "<div>\n",
       "<style scoped>\n",
       "    .dataframe tbody tr th:only-of-type {\n",
       "        vertical-align: middle;\n",
       "    }\n",
       "\n",
       "    .dataframe tbody tr th {\n",
       "        vertical-align: top;\n",
       "    }\n",
       "\n",
       "    .dataframe thead th {\n",
       "        text-align: right;\n",
       "    }\n",
       "</style>\n",
       "<table border=\"1\" class=\"dataframe\">\n",
       "  <thead>\n",
       "    <tr style=\"text-align: right;\">\n",
       "      <th></th>\n",
       "      <th>Drilling_CAPEX</th>\n",
       "      <th>Completions_CAPEX</th>\n",
       "      <th>Production_                    CAPEX</th>\n",
       "    </tr>\n",
       "  </thead>\n",
       "  <tbody>\n",
       "    <tr>\n",
       "      <th>Well_1</th>\n",
       "      <td>2000000</td>\n",
       "      <td>5000000</td>\n",
       "      <td>500000</td>\n",
       "    </tr>\n",
       "    <tr>\n",
       "      <th>Well_2</th>\n",
       "      <td>2200000</td>\n",
       "      <td>5100000</td>\n",
       "      <td>550000</td>\n",
       "    </tr>\n",
       "    <tr>\n",
       "      <th>Well_3</th>\n",
       "      <td>2100000</td>\n",
       "      <td>5150000</td>\n",
       "      <td>450000</td>\n",
       "    </tr>\n",
       "  </tbody>\n",
       "</table>\n",
       "</div>"
      ],
      "text/plain": [
       "        Drilling_CAPEX  Completions_CAPEX  \\\n",
       "Well_1         2000000            5000000   \n",
       "Well_2         2200000            5100000   \n",
       "Well_3         2100000            5150000   \n",
       "\n",
       "        Production_                    CAPEX  \n",
       "Well_1                                500000  \n",
       "Well_2                                550000  \n",
       "Well_3                                450000  "
      ]
     },
     "execution_count": 95,
     "metadata": {},
     "output_type": "execute_result"
    }
   ],
   "source": [
    "CAPEX=pd.DataFrame({'Drilling_CAPEX':[2000000,2200000,2100000], 'Completions_CAPEX':[5000000,5100000,5150000], 'Production_\\\n",
    "                    CAPEX':[500000,550000,450000]}, index=['Well_1', 'Well_2', 'Well_3'])\n",
    "CAPEX"
   ]
  },
  {
   "cell_type": "code",
   "execution_count": 107,
   "id": "27bbb5fa-8082-4955-82ee-0900d33686d1",
   "metadata": {},
   "outputs": [
    {
     "data": {
      "text/html": [
       "<div>\n",
       "<style scoped>\n",
       "    .dataframe tbody tr th:only-of-type {\n",
       "        vertical-align: middle;\n",
       "    }\n",
       "\n",
       "    .dataframe tbody tr th {\n",
       "        vertical-align: top;\n",
       "    }\n",
       "\n",
       "    .dataframe thead th {\n",
       "        text-align: right;\n",
       "    }\n",
       "</style>\n",
       "<table border=\"1\" class=\"dataframe\">\n",
       "  <thead>\n",
       "    <tr style=\"text-align: right;\">\n",
       "      <th></th>\n",
       "      <th>Cycle_1</th>\n",
       "      <th>Cycle_2</th>\n",
       "      <th>Cycle_3</th>\n",
       "      <th>Cycle_4</th>\n",
       "      <th>Cycle_5</th>\n",
       "    </tr>\n",
       "  </thead>\n",
       "  <tbody>\n",
       "    <tr>\n",
       "      <th>Land</th>\n",
       "      <td>-1.749765</td>\n",
       "      <td>0.342680</td>\n",
       "      <td>1.153036</td>\n",
       "      <td>-0.252436</td>\n",
       "      <td>0.981321</td>\n",
       "    </tr>\n",
       "    <tr>\n",
       "      <th>Seismic</th>\n",
       "      <td>0.514219</td>\n",
       "      <td>0.221180</td>\n",
       "      <td>-1.070043</td>\n",
       "      <td>-0.189496</td>\n",
       "      <td>0.255001</td>\n",
       "    </tr>\n",
       "    <tr>\n",
       "      <th>Geology</th>\n",
       "      <td>-0.458027</td>\n",
       "      <td>0.435163</td>\n",
       "      <td>-0.583595</td>\n",
       "      <td>0.816847</td>\n",
       "      <td>0.672721</td>\n",
       "    </tr>\n",
       "    <tr>\n",
       "      <th>Drilling</th>\n",
       "      <td>-0.104411</td>\n",
       "      <td>-0.531280</td>\n",
       "      <td>1.029733</td>\n",
       "      <td>-0.438136</td>\n",
       "      <td>-1.118318</td>\n",
       "    </tr>\n",
       "    <tr>\n",
       "      <th>Completions</th>\n",
       "      <td>1.618982</td>\n",
       "      <td>1.541605</td>\n",
       "      <td>-0.251879</td>\n",
       "      <td>-0.842436</td>\n",
       "      <td>0.184519</td>\n",
       "    </tr>\n",
       "    <tr>\n",
       "      <th>Production</th>\n",
       "      <td>0.937082</td>\n",
       "      <td>0.731000</td>\n",
       "      <td>1.361556</td>\n",
       "      <td>-0.326238</td>\n",
       "      <td>0.055676</td>\n",
       "    </tr>\n",
       "    <tr>\n",
       "      <th>Facilities</th>\n",
       "      <td>0.222400</td>\n",
       "      <td>-1.443217</td>\n",
       "      <td>-0.756352</td>\n",
       "      <td>0.816454</td>\n",
       "      <td>0.750445</td>\n",
       "    </tr>\n",
       "    <tr>\n",
       "      <th>Midstream</th>\n",
       "      <td>-0.455947</td>\n",
       "      <td>1.189622</td>\n",
       "      <td>-1.690617</td>\n",
       "      <td>-1.356399</td>\n",
       "      <td>-1.232435</td>\n",
       "    </tr>\n",
       "  </tbody>\n",
       "</table>\n",
       "</div>"
      ],
      "text/plain": [
       "              Cycle_1   Cycle_2   Cycle_3   Cycle_4   Cycle_5\n",
       "Land        -1.749765  0.342680  1.153036 -0.252436  0.981321\n",
       "Seismic      0.514219  0.221180 -1.070043 -0.189496  0.255001\n",
       "Geology     -0.458027  0.435163 -0.583595  0.816847  0.672721\n",
       "Drilling    -0.104411 -0.531280  1.029733 -0.438136 -1.118318\n",
       "Completions  1.618982  1.541605 -0.251879 -0.842436  0.184519\n",
       "Production   0.937082  0.731000  1.361556 -0.326238  0.055676\n",
       "Facilities   0.222400 -1.443217 -0.756352  0.816454  0.750445\n",
       "Midstream   -0.455947  1.189622 -1.690617 -1.356399 -1.232435"
      ]
     },
     "execution_count": 107,
     "metadata": {},
     "output_type": "execute_result"
    }
   ],
   "source": [
    "from numpy.random import randn\n",
    "import numpy as np\n",
    "seed=100\n",
    "np.random.seed(seed)\n",
    "life_cycle=pd.DataFrame(randn(8,5), index='Land Seismic Geology Drilling Completions Production Facilities Midstream'.split(),\\\n",
    "    columns='Cycle_1 Cycle_2 Cycle_3 Cycle_4 Cycle_5'.split())\n",
    "life_cycle"
   ]
  },
  {
   "cell_type": "code",
   "execution_count": 108,
   "id": "94116afe-56fa-48d5-84fc-855ca62ba9f7",
   "metadata": {},
   "outputs": [
    {
     "data": {
      "text/html": [
       "<div>\n",
       "<style scoped>\n",
       "    .dataframe tbody tr th:only-of-type {\n",
       "        vertical-align: middle;\n",
       "    }\n",
       "\n",
       "    .dataframe tbody tr th {\n",
       "        vertical-align: top;\n",
       "    }\n",
       "\n",
       "    .dataframe thead th {\n",
       "        text-align: right;\n",
       "    }\n",
       "</style>\n",
       "<table border=\"1\" class=\"dataframe\">\n",
       "  <thead>\n",
       "    <tr style=\"text-align: right;\">\n",
       "      <th></th>\n",
       "      <th>Cycle_1</th>\n",
       "      <th>Cycle_2</th>\n",
       "      <th>Cycle_3</th>\n",
       "      <th>Cycle_4</th>\n",
       "      <th>Cycle_5</th>\n",
       "    </tr>\n",
       "  </thead>\n",
       "  <tbody>\n",
       "    <tr>\n",
       "      <th>Land</th>\n",
       "      <td>-1.749765</td>\n",
       "      <td>0.34268</td>\n",
       "      <td>1.153036</td>\n",
       "      <td>-0.252436</td>\n",
       "      <td>0.981321</td>\n",
       "    </tr>\n",
       "    <tr>\n",
       "      <th>Seismic</th>\n",
       "      <td>0.514219</td>\n",
       "      <td>0.22118</td>\n",
       "      <td>-1.070043</td>\n",
       "      <td>-0.189496</td>\n",
       "      <td>0.255001</td>\n",
       "    </tr>\n",
       "  </tbody>\n",
       "</table>\n",
       "</div>"
      ],
      "text/plain": [
       "          Cycle_1  Cycle_2   Cycle_3   Cycle_4   Cycle_5\n",
       "Land    -1.749765  0.34268  1.153036 -0.252436  0.981321\n",
       "Seismic  0.514219  0.22118 -1.070043 -0.189496  0.255001"
      ]
     },
     "execution_count": 108,
     "metadata": {},
     "output_type": "execute_result"
    }
   ],
   "source": [
    "life_cycle.head(2)"
   ]
  },
  {
   "cell_type": "code",
   "execution_count": 109,
   "id": "9987c8b6-b0ef-4264-a878-86cbd71a368a",
   "metadata": {},
   "outputs": [
    {
     "data": {
      "text/html": [
       "<div>\n",
       "<style scoped>\n",
       "    .dataframe tbody tr th:only-of-type {\n",
       "        vertical-align: middle;\n",
       "    }\n",
       "\n",
       "    .dataframe tbody tr th {\n",
       "        vertical-align: top;\n",
       "    }\n",
       "\n",
       "    .dataframe thead th {\n",
       "        text-align: right;\n",
       "    }\n",
       "</style>\n",
       "<table border=\"1\" class=\"dataframe\">\n",
       "  <thead>\n",
       "    <tr style=\"text-align: right;\">\n",
       "      <th></th>\n",
       "      <th>Cycle_1</th>\n",
       "      <th>Cycle_2</th>\n",
       "      <th>Cycle_3</th>\n",
       "      <th>Cycle_4</th>\n",
       "      <th>Cycle_5</th>\n",
       "    </tr>\n",
       "  </thead>\n",
       "  <tbody>\n",
       "    <tr>\n",
       "      <th>Facilities</th>\n",
       "      <td>0.222400</td>\n",
       "      <td>-1.443217</td>\n",
       "      <td>-0.756352</td>\n",
       "      <td>0.816454</td>\n",
       "      <td>0.750445</td>\n",
       "    </tr>\n",
       "    <tr>\n",
       "      <th>Midstream</th>\n",
       "      <td>-0.455947</td>\n",
       "      <td>1.189622</td>\n",
       "      <td>-1.690617</td>\n",
       "      <td>-1.356399</td>\n",
       "      <td>-1.232435</td>\n",
       "    </tr>\n",
       "  </tbody>\n",
       "</table>\n",
       "</div>"
      ],
      "text/plain": [
       "             Cycle_1   Cycle_2   Cycle_3   Cycle_4   Cycle_5\n",
       "Facilities  0.222400 -1.443217 -0.756352  0.816454  0.750445\n",
       "Midstream  -0.455947  1.189622 -1.690617 -1.356399 -1.232435"
      ]
     },
     "execution_count": 109,
     "metadata": {},
     "output_type": "execute_result"
    }
   ],
   "source": [
    "life_cycle.tail(2)"
   ]
  },
  {
   "cell_type": "code",
   "execution_count": 110,
   "id": "6031ec9d-e994-4d7a-9b2f-819802ed5ca8",
   "metadata": {},
   "outputs": [
    {
     "data": {
      "text/html": [
       "<div>\n",
       "<style scoped>\n",
       "    .dataframe tbody tr th:only-of-type {\n",
       "        vertical-align: middle;\n",
       "    }\n",
       "\n",
       "    .dataframe tbody tr th {\n",
       "        vertical-align: top;\n",
       "    }\n",
       "\n",
       "    .dataframe thead th {\n",
       "        text-align: right;\n",
       "    }\n",
       "</style>\n",
       "<table border=\"1\" class=\"dataframe\">\n",
       "  <thead>\n",
       "    <tr style=\"text-align: right;\">\n",
       "      <th></th>\n",
       "      <th>Cycle_1</th>\n",
       "      <th>Cycle_2</th>\n",
       "      <th>Cycle_3</th>\n",
       "      <th>Cycle_4</th>\n",
       "      <th>Cycle_5</th>\n",
       "    </tr>\n",
       "  </thead>\n",
       "  <tbody>\n",
       "    <tr>\n",
       "      <th>count</th>\n",
       "      <td>8.000000</td>\n",
       "      <td>8.000000</td>\n",
       "      <td>8.000000</td>\n",
       "      <td>8.000000</td>\n",
       "      <td>8.000000</td>\n",
       "    </tr>\n",
       "    <tr>\n",
       "      <th>mean</th>\n",
       "      <td>0.065566</td>\n",
       "      <td>0.310844</td>\n",
       "      <td>-0.101020</td>\n",
       "      <td>-0.221480</td>\n",
       "      <td>0.068616</td>\n",
       "    </tr>\n",
       "    <tr>\n",
       "      <th>std</th>\n",
       "      <td>1.019031</td>\n",
       "      <td>0.946721</td>\n",
       "      <td>1.142760</td>\n",
       "      <td>0.745362</td>\n",
       "      <td>0.829178</td>\n",
       "    </tr>\n",
       "    <tr>\n",
       "      <th>min</th>\n",
       "      <td>-1.749765</td>\n",
       "      <td>-1.443217</td>\n",
       "      <td>-1.690617</td>\n",
       "      <td>-1.356399</td>\n",
       "      <td>-1.232435</td>\n",
       "    </tr>\n",
       "    <tr>\n",
       "      <th>25%</th>\n",
       "      <td>-0.456467</td>\n",
       "      <td>0.033065</td>\n",
       "      <td>-0.834775</td>\n",
       "      <td>-0.539211</td>\n",
       "      <td>-0.237823</td>\n",
       "    </tr>\n",
       "    <tr>\n",
       "      <th>50%</th>\n",
       "      <td>0.058994</td>\n",
       "      <td>0.388922</td>\n",
       "      <td>-0.417737</td>\n",
       "      <td>-0.289337</td>\n",
       "      <td>0.219760</td>\n",
       "    </tr>\n",
       "    <tr>\n",
       "      <th>75%</th>\n",
       "      <td>0.619935</td>\n",
       "      <td>0.845656</td>\n",
       "      <td>1.060558</td>\n",
       "      <td>0.061992</td>\n",
       "      <td>0.692152</td>\n",
       "    </tr>\n",
       "    <tr>\n",
       "      <th>max</th>\n",
       "      <td>1.618982</td>\n",
       "      <td>1.541605</td>\n",
       "      <td>1.361556</td>\n",
       "      <td>0.816847</td>\n",
       "      <td>0.981321</td>\n",
       "    </tr>\n",
       "  </tbody>\n",
       "</table>\n",
       "</div>"
      ],
      "text/plain": [
       "        Cycle_1   Cycle_2   Cycle_3   Cycle_4   Cycle_5\n",
       "count  8.000000  8.000000  8.000000  8.000000  8.000000\n",
       "mean   0.065566  0.310844 -0.101020 -0.221480  0.068616\n",
       "std    1.019031  0.946721  1.142760  0.745362  0.829178\n",
       "min   -1.749765 -1.443217 -1.690617 -1.356399 -1.232435\n",
       "25%   -0.456467  0.033065 -0.834775 -0.539211 -0.237823\n",
       "50%    0.058994  0.388922 -0.417737 -0.289337  0.219760\n",
       "75%    0.619935  0.845656  1.060558  0.061992  0.692152\n",
       "max    1.618982  1.541605  1.361556  0.816847  0.981321"
      ]
     },
     "execution_count": 110,
     "metadata": {},
     "output_type": "execute_result"
    }
   ],
   "source": [
    "life_cycle.describe()"
   ]
  },
  {
   "cell_type": "code",
   "execution_count": 111,
   "id": "c05be8a4-360f-4ba3-9974-78902a00ac51",
   "metadata": {},
   "outputs": [
    {
     "data": {
      "text/html": [
       "<div>\n",
       "<style scoped>\n",
       "    .dataframe tbody tr th:only-of-type {\n",
       "        vertical-align: middle;\n",
       "    }\n",
       "\n",
       "    .dataframe tbody tr th {\n",
       "        vertical-align: top;\n",
       "    }\n",
       "\n",
       "    .dataframe thead th {\n",
       "        text-align: right;\n",
       "    }\n",
       "</style>\n",
       "<table border=\"1\" class=\"dataframe\">\n",
       "  <thead>\n",
       "    <tr style=\"text-align: right;\">\n",
       "      <th></th>\n",
       "      <th>Cycle_1</th>\n",
       "      <th>Cycle_2</th>\n",
       "      <th>Cycle_3</th>\n",
       "      <th>Cycle_4</th>\n",
       "      <th>Cycle_5</th>\n",
       "    </tr>\n",
       "  </thead>\n",
       "  <tbody>\n",
       "    <tr>\n",
       "      <th>Land</th>\n",
       "      <td>-1.749765</td>\n",
       "      <td>0.342680</td>\n",
       "      <td>1.153036</td>\n",
       "      <td>-0.252436</td>\n",
       "      <td>0.981321</td>\n",
       "    </tr>\n",
       "    <tr>\n",
       "      <th>Seismic</th>\n",
       "      <td>-1.235547</td>\n",
       "      <td>0.563860</td>\n",
       "      <td>0.082992</td>\n",
       "      <td>-0.441932</td>\n",
       "      <td>1.236322</td>\n",
       "    </tr>\n",
       "    <tr>\n",
       "      <th>Geology</th>\n",
       "      <td>-1.693574</td>\n",
       "      <td>0.999024</td>\n",
       "      <td>-0.500603</td>\n",
       "      <td>0.374915</td>\n",
       "      <td>1.909043</td>\n",
       "    </tr>\n",
       "    <tr>\n",
       "      <th>Drilling</th>\n",
       "      <td>-1.797985</td>\n",
       "      <td>0.467743</td>\n",
       "      <td>0.529130</td>\n",
       "      <td>-0.063220</td>\n",
       "      <td>0.790725</td>\n",
       "    </tr>\n",
       "    <tr>\n",
       "      <th>Completions</th>\n",
       "      <td>-0.179003</td>\n",
       "      <td>2.009348</td>\n",
       "      <td>0.277251</td>\n",
       "      <td>-0.905656</td>\n",
       "      <td>0.975243</td>\n",
       "    </tr>\n",
       "    <tr>\n",
       "      <th>Production</th>\n",
       "      <td>0.758079</td>\n",
       "      <td>2.740349</td>\n",
       "      <td>1.638807</td>\n",
       "      <td>-1.231894</td>\n",
       "      <td>1.030919</td>\n",
       "    </tr>\n",
       "    <tr>\n",
       "      <th>Facilities</th>\n",
       "      <td>0.980479</td>\n",
       "      <td>1.297132</td>\n",
       "      <td>0.882455</td>\n",
       "      <td>-0.415440</td>\n",
       "      <td>1.781364</td>\n",
       "    </tr>\n",
       "    <tr>\n",
       "      <th>Midstream</th>\n",
       "      <td>0.524532</td>\n",
       "      <td>2.486754</td>\n",
       "      <td>-0.808162</td>\n",
       "      <td>-1.771839</td>\n",
       "      <td>0.548930</td>\n",
       "    </tr>\n",
       "  </tbody>\n",
       "</table>\n",
       "</div>"
      ],
      "text/plain": [
       "              Cycle_1   Cycle_2   Cycle_3   Cycle_4   Cycle_5\n",
       "Land        -1.749765  0.342680  1.153036 -0.252436  0.981321\n",
       "Seismic     -1.235547  0.563860  0.082992 -0.441932  1.236322\n",
       "Geology     -1.693574  0.999024 -0.500603  0.374915  1.909043\n",
       "Drilling    -1.797985  0.467743  0.529130 -0.063220  0.790725\n",
       "Completions -0.179003  2.009348  0.277251 -0.905656  0.975243\n",
       "Production   0.758079  2.740349  1.638807 -1.231894  1.030919\n",
       "Facilities   0.980479  1.297132  0.882455 -0.415440  1.781364\n",
       "Midstream    0.524532  2.486754 -0.808162 -1.771839  0.548930"
      ]
     },
     "execution_count": 111,
     "metadata": {},
     "output_type": "execute_result"
    }
   ],
   "source": [
    "life_cycle.cumsum()"
   ]
  },
  {
   "cell_type": "code",
   "execution_count": 112,
   "id": "d5a73b76-ffdd-4d5d-88a3-18beac11c7d6",
   "metadata": {},
   "outputs": [
    {
     "data": {
      "text/plain": [
       "Land           0.342680\n",
       "Seismic        0.221180\n",
       "Geology        0.435163\n",
       "Drilling      -0.531280\n",
       "Completions    1.541605\n",
       "Production     0.731000\n",
       "Facilities    -1.443217\n",
       "Midstream      1.189622\n",
       "Name: Cycle_2, dtype: float64"
      ]
     },
     "execution_count": 112,
     "metadata": {},
     "output_type": "execute_result"
    }
   ],
   "source": [
    "life_cycle['Cycle_2']"
   ]
  },
  {
   "cell_type": "code",
   "execution_count": 114,
   "id": "960b628d-b2d2-44b1-97e7-b27550499fa8",
   "metadata": {},
   "outputs": [
    {
     "data": {
      "text/plain": [
       "Land           0.342680\n",
       "Seismic        0.221180\n",
       "Geology        0.435163\n",
       "Drilling      -0.531280\n",
       "Completions    1.541605\n",
       "Production     0.731000\n",
       "Facilities    -1.443217\n",
       "Midstream      1.189622\n",
       "Name: Cycle_2, dtype: float64"
      ]
     },
     "execution_count": 114,
     "metadata": {},
     "output_type": "execute_result"
    }
   ],
   "source": [
    "life_cycle['Cycle_2']"
   ]
  },
  {
   "cell_type": "code",
   "execution_count": 115,
   "id": "4fcfca31-6049-4c0e-9252-144378d50dfc",
   "metadata": {},
   "outputs": [
    {
     "data": {
      "text/plain": [
       "Land           0.342680\n",
       "Seismic        0.221180\n",
       "Geology        0.435163\n",
       "Drilling      -0.531280\n",
       "Completions    1.541605\n",
       "Production     0.731000\n",
       "Facilities    -1.443217\n",
       "Midstream      1.189622\n",
       "Name: Cycle_2, dtype: float64"
      ]
     },
     "execution_count": 115,
     "metadata": {},
     "output_type": "execute_result"
    }
   ],
   "source": [
    "life_cycle.Cycle_2"
   ]
  },
  {
   "cell_type": "code",
   "execution_count": 116,
   "id": "1c816b92-9c87-45f9-85f4-be8050836a95",
   "metadata": {},
   "outputs": [
    {
     "data": {
      "text/html": [
       "<div>\n",
       "<style scoped>\n",
       "    .dataframe tbody tr th:only-of-type {\n",
       "        vertical-align: middle;\n",
       "    }\n",
       "\n",
       "    .dataframe tbody tr th {\n",
       "        vertical-align: top;\n",
       "    }\n",
       "\n",
       "    .dataframe thead th {\n",
       "        text-align: right;\n",
       "    }\n",
       "</style>\n",
       "<table border=\"1\" class=\"dataframe\">\n",
       "  <thead>\n",
       "    <tr style=\"text-align: right;\">\n",
       "      <th></th>\n",
       "      <th>Cycle_2</th>\n",
       "      <th>Cycle_3</th>\n",
       "    </tr>\n",
       "  </thead>\n",
       "  <tbody>\n",
       "    <tr>\n",
       "      <th>Land</th>\n",
       "      <td>0.342680</td>\n",
       "      <td>1.153036</td>\n",
       "    </tr>\n",
       "    <tr>\n",
       "      <th>Seismic</th>\n",
       "      <td>0.221180</td>\n",
       "      <td>-1.070043</td>\n",
       "    </tr>\n",
       "    <tr>\n",
       "      <th>Geology</th>\n",
       "      <td>0.435163</td>\n",
       "      <td>-0.583595</td>\n",
       "    </tr>\n",
       "    <tr>\n",
       "      <th>Drilling</th>\n",
       "      <td>-0.531280</td>\n",
       "      <td>1.029733</td>\n",
       "    </tr>\n",
       "    <tr>\n",
       "      <th>Completions</th>\n",
       "      <td>1.541605</td>\n",
       "      <td>-0.251879</td>\n",
       "    </tr>\n",
       "    <tr>\n",
       "      <th>Production</th>\n",
       "      <td>0.731000</td>\n",
       "      <td>1.361556</td>\n",
       "    </tr>\n",
       "    <tr>\n",
       "      <th>Facilities</th>\n",
       "      <td>-1.443217</td>\n",
       "      <td>-0.756352</td>\n",
       "    </tr>\n",
       "    <tr>\n",
       "      <th>Midstream</th>\n",
       "      <td>1.189622</td>\n",
       "      <td>-1.690617</td>\n",
       "    </tr>\n",
       "  </tbody>\n",
       "</table>\n",
       "</div>"
      ],
      "text/plain": [
       "              Cycle_2   Cycle_3\n",
       "Land         0.342680  1.153036\n",
       "Seismic      0.221180 -1.070043\n",
       "Geology      0.435163 -0.583595\n",
       "Drilling    -0.531280  1.029733\n",
       "Completions  1.541605 -0.251879\n",
       "Production   0.731000  1.361556\n",
       "Facilities  -1.443217 -0.756352\n",
       "Midstream    1.189622 -1.690617"
      ]
     },
     "execution_count": 116,
     "metadata": {},
     "output_type": "execute_result"
    }
   ],
   "source": [
    "life_cycle[['Cycle_2', 'Cycle_3']]"
   ]
  },
  {
   "cell_type": "code",
   "execution_count": 117,
   "id": "ab5b42c9-3c54-4ef1-a7d1-94594cfcb4ba",
   "metadata": {},
   "outputs": [
    {
     "data": {
      "text/plain": [
       "Land           0.474835\n",
       "Seismic       -0.269139\n",
       "Geology        0.883109\n",
       "Drilling      -1.162413\n",
       "Completions    2.250791\n",
       "Production     2.759077\n",
       "Facilities    -0.410271\n",
       "Midstream     -3.545775\n",
       "Name: Cycle_Total, dtype: float64"
      ]
     },
     "execution_count": 117,
     "metadata": {},
     "output_type": "execute_result"
    }
   ],
   "source": [
    "life_cycle['Cycle_Total']=life_cycle['Cycle_1']+life_cycle\\\n",
    "    ['Cycle_2']+life_cycle['Cycle_3']+life_cycle['Cycle_4']+\\\n",
    "    life_cycle['Cycle_5']\n",
    "life_cycle['Cycle_Total']"
   ]
  },
  {
   "cell_type": "code",
   "execution_count": 118,
   "id": "c52a136f-dc2d-4352-9455-4412faddffd8",
   "metadata": {},
   "outputs": [
    {
     "data": {
      "text/plain": [
       "Land          -0.599610\n",
       "Seismic        0.113735\n",
       "Geology       -0.199317\n",
       "Drilling       0.055472\n",
       "Completions    2.495831\n",
       "Production     0.685007\n",
       "Facilities    -0.320971\n",
       "Midstream     -0.542405\n",
       "Name: Cycle_1_2_Mult, dtype: float64"
      ]
     },
     "execution_count": 118,
     "metadata": {},
     "output_type": "execute_result"
    }
   ],
   "source": [
    "life_cycle['Cycle_1_2_Mult']=life_cycle['Cycle_1']*life_cycle['Cycle_2']\n",
    "life_cycle['Cycle_1_2_Mult']"
   ]
  },
  {
   "cell_type": "code",
   "execution_count": 119,
   "id": "adb5e7e6-51ae-48b7-a0bb-2fae6ca48699",
   "metadata": {},
   "outputs": [
    {
     "data": {
      "text/html": [
       "<div>\n",
       "<style scoped>\n",
       "    .dataframe tbody tr th:only-of-type {\n",
       "        vertical-align: middle;\n",
       "    }\n",
       "\n",
       "    .dataframe tbody tr th {\n",
       "        vertical-align: top;\n",
       "    }\n",
       "\n",
       "    .dataframe thead th {\n",
       "        text-align: right;\n",
       "    }\n",
       "</style>\n",
       "<table border=\"1\" class=\"dataframe\">\n",
       "  <thead>\n",
       "    <tr style=\"text-align: right;\">\n",
       "      <th></th>\n",
       "      <th>Cycle_1</th>\n",
       "      <th>Cycle_2</th>\n",
       "      <th>Cycle_3</th>\n",
       "      <th>Cycle_4</th>\n",
       "      <th>Cycle_5</th>\n",
       "      <th>Cycle_Total</th>\n",
       "      <th>Cycle_1_2_Mult</th>\n",
       "    </tr>\n",
       "  </thead>\n",
       "  <tbody>\n",
       "    <tr>\n",
       "      <th>Land</th>\n",
       "      <td>-1.749765</td>\n",
       "      <td>0.342680</td>\n",
       "      <td>1.153036</td>\n",
       "      <td>-0.252436</td>\n",
       "      <td>0.981321</td>\n",
       "      <td>0.474835</td>\n",
       "      <td>-0.599610</td>\n",
       "    </tr>\n",
       "    <tr>\n",
       "      <th>Seismic</th>\n",
       "      <td>0.514219</td>\n",
       "      <td>0.221180</td>\n",
       "      <td>-1.070043</td>\n",
       "      <td>-0.189496</td>\n",
       "      <td>0.255001</td>\n",
       "      <td>-0.269139</td>\n",
       "      <td>0.113735</td>\n",
       "    </tr>\n",
       "    <tr>\n",
       "      <th>Geology</th>\n",
       "      <td>-0.458027</td>\n",
       "      <td>0.435163</td>\n",
       "      <td>-0.583595</td>\n",
       "      <td>0.816847</td>\n",
       "      <td>0.672721</td>\n",
       "      <td>0.883109</td>\n",
       "      <td>-0.199317</td>\n",
       "    </tr>\n",
       "    <tr>\n",
       "      <th>Drilling</th>\n",
       "      <td>-0.104411</td>\n",
       "      <td>-0.531280</td>\n",
       "      <td>1.029733</td>\n",
       "      <td>-0.438136</td>\n",
       "      <td>-1.118318</td>\n",
       "      <td>-1.162413</td>\n",
       "      <td>0.055472</td>\n",
       "    </tr>\n",
       "    <tr>\n",
       "      <th>Completions</th>\n",
       "      <td>1.618982</td>\n",
       "      <td>1.541605</td>\n",
       "      <td>-0.251879</td>\n",
       "      <td>-0.842436</td>\n",
       "      <td>0.184519</td>\n",
       "      <td>2.250791</td>\n",
       "      <td>2.495831</td>\n",
       "    </tr>\n",
       "    <tr>\n",
       "      <th>Production</th>\n",
       "      <td>0.937082</td>\n",
       "      <td>0.731000</td>\n",
       "      <td>1.361556</td>\n",
       "      <td>-0.326238</td>\n",
       "      <td>0.055676</td>\n",
       "      <td>2.759077</td>\n",
       "      <td>0.685007</td>\n",
       "    </tr>\n",
       "    <tr>\n",
       "      <th>Facilities</th>\n",
       "      <td>0.222400</td>\n",
       "      <td>-1.443217</td>\n",
       "      <td>-0.756352</td>\n",
       "      <td>0.816454</td>\n",
       "      <td>0.750445</td>\n",
       "      <td>-0.410271</td>\n",
       "      <td>-0.320971</td>\n",
       "    </tr>\n",
       "    <tr>\n",
       "      <th>Midstream</th>\n",
       "      <td>-0.455947</td>\n",
       "      <td>1.189622</td>\n",
       "      <td>-1.690617</td>\n",
       "      <td>-1.356399</td>\n",
       "      <td>-1.232435</td>\n",
       "      <td>-3.545775</td>\n",
       "      <td>-0.542405</td>\n",
       "    </tr>\n",
       "  </tbody>\n",
       "</table>\n",
       "</div>"
      ],
      "text/plain": [
       "              Cycle_1   Cycle_2   Cycle_3   Cycle_4   Cycle_5  Cycle_Total  \\\n",
       "Land        -1.749765  0.342680  1.153036 -0.252436  0.981321     0.474835   \n",
       "Seismic      0.514219  0.221180 -1.070043 -0.189496  0.255001    -0.269139   \n",
       "Geology     -0.458027  0.435163 -0.583595  0.816847  0.672721     0.883109   \n",
       "Drilling    -0.104411 -0.531280  1.029733 -0.438136 -1.118318    -1.162413   \n",
       "Completions  1.618982  1.541605 -0.251879 -0.842436  0.184519     2.250791   \n",
       "Production   0.937082  0.731000  1.361556 -0.326238  0.055676     2.759077   \n",
       "Facilities   0.222400 -1.443217 -0.756352  0.816454  0.750445    -0.410271   \n",
       "Midstream   -0.455947  1.189622 -1.690617 -1.356399 -1.232435    -3.545775   \n",
       "\n",
       "             Cycle_1_2_Mult  \n",
       "Land              -0.599610  \n",
       "Seismic            0.113735  \n",
       "Geology           -0.199317  \n",
       "Drilling           0.055472  \n",
       "Completions        2.495831  \n",
       "Production         0.685007  \n",
       "Facilities        -0.320971  \n",
       "Midstream         -0.542405  "
      ]
     },
     "execution_count": 119,
     "metadata": {},
     "output_type": "execute_result"
    }
   ],
   "source": [
    "life_cycle"
   ]
  },
  {
   "cell_type": "code",
   "execution_count": null,
   "id": "591cd999-4655-4b49-a6ee-a54cd7ffc41b",
   "metadata": {},
   "outputs": [],
   "source": []
  }
 ],
 "metadata": {
  "kernelspec": {
   "display_name": "Python 3 (ipykernel)",
   "language": "python",
   "name": "python3"
  },
  "language_info": {
   "codemirror_mode": {
    "name": "ipython",
    "version": 3
   },
   "file_extension": ".py",
   "mimetype": "text/x-python",
   "name": "python",
   "nbconvert_exporter": "python",
   "pygments_lexer": "ipython3",
   "version": "3.12.2"
  }
 },
 "nbformat": 4,
 "nbformat_minor": 5
}
