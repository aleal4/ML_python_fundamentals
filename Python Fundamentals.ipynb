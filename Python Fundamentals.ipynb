{
 "cells": [
  {
   "cell_type": "markdown",
   "id": "8d6e80b4-a7e4-473b-8888-a4bdf12ed636",
   "metadata": {},
   "source": []
  },
  {
   "cell_type": "code",
   "execution_count": 5,
   "id": "2a2606e8-082d-4827-a8ea-0309478b9103",
   "metadata": {},
   "outputs": [],
   "source": [
    "import numpy as np"
   ]
  },
  {
   "cell_type": "code",
   "execution_count": 6,
   "id": "046b886d-41b4-45e3-a530-45bea362e714",
   "metadata": {},
   "outputs": [
    {
     "data": {
      "text/plain": [
       "16"
      ]
     },
     "execution_count": 6,
     "metadata": {},
     "output_type": "execute_result"
    }
   ],
   "source": [
    "4*4"
   ]
  },
  {
   "cell_type": "code",
   "execution_count": 7,
   "id": "dcd9e86f-89ad-4e61-bc81-61ce70d9dee6",
   "metadata": {},
   "outputs": [
    {
     "data": {
      "text/plain": [
       "42"
      ]
     },
     "execution_count": 7,
     "metadata": {},
     "output_type": "execute_result"
    }
   ],
   "source": [
    "4*4+2*4+9*2"
   ]
  },
  {
   "cell_type": "markdown",
   "id": "630ddd3c-1aa6-4f15-a95b-3ea2a1a48c1a",
   "metadata": {},
   "source": [
    "(4*2)+(8*7)\n"
   ]
  },
  {
   "cell_type": "code",
   "execution_count": 8,
   "id": "4e5b8737-1526-4ee1-82f9-242d096adc35",
   "metadata": {},
   "outputs": [
    {
     "data": {
      "text/plain": [
       "64"
      ]
     },
     "execution_count": 8,
     "metadata": {},
     "output_type": "execute_result"
    }
   ],
   "source": [
    "(4*2)+(8*7)"
   ]
  },
  {
   "cell_type": "code",
   "execution_count": 9,
   "id": "6153c45b-58de-4bae-951a-c337146dc947",
   "metadata": {},
   "outputs": [
    {
     "data": {
      "text/plain": [
       "1000"
      ]
     },
     "execution_count": 9,
     "metadata": {},
     "output_type": "execute_result"
    }
   ],
   "source": [
    "10**3"
   ]
  },
  {
   "cell_type": "code",
   "execution_count": 10,
   "id": "87a74fdb-a2db-407f-85cf-096928270c5a",
   "metadata": {},
   "outputs": [
    {
     "data": {
      "text/plain": [
       "1"
      ]
     },
     "execution_count": 10,
     "metadata": {},
     "output_type": "execute_result"
    }
   ],
   "source": [
    "13%2"
   ]
  },
  {
   "cell_type": "code",
   "execution_count": 11,
   "id": "f07b848b-85ff-4af6-8250-5e071fece52d",
   "metadata": {},
   "outputs": [
    {
     "data": {
      "text/plain": [
       "600"
      ]
     },
     "execution_count": 11,
     "metadata": {},
     "output_type": "execute_result"
    }
   ],
   "source": [
    "x=100\n",
    "y=200\n",
    "z=300\n",
    "d=x+y+z\n",
    "d"
   ]
  },
  {
   "cell_type": "code",
   "execution_count": 12,
   "id": "58867502-39f7-47ee-8c8c-6f95c8c72296",
   "metadata": {},
   "outputs": [],
   "source": [
    "y=\"Oil_Gas\"\n"
   ]
  },
  {
   "cell_type": "code",
   "execution_count": 13,
   "id": "50d61999-5f80-45f3-9db2-a553630fd659",
   "metadata": {},
   "outputs": [
    {
     "data": {
      "text/plain": [
       "'O'"
      ]
     },
     "execution_count": 13,
     "metadata": {},
     "output_type": "execute_result"
    }
   ],
   "source": [
    "y[0]"
   ]
  },
  {
   "cell_type": "code",
   "execution_count": 14,
   "id": "29874ade-9eb4-4e49-acee-7a30ade57225",
   "metadata": {},
   "outputs": [
    {
     "data": {
      "text/plain": [
       "'a'"
      ]
     },
     "execution_count": 14,
     "metadata": {},
     "output_type": "execute_result"
    }
   ],
   "source": [
    "y[5]\n"
   ]
  },
  {
   "cell_type": "code",
   "execution_count": 15,
   "id": "a5c5193e-afef-4870-aa63-2eb70a6e9359",
   "metadata": {},
   "outputs": [
    {
     "data": {
      "text/plain": [
       "'Oil_'"
      ]
     },
     "execution_count": 15,
     "metadata": {},
     "output_type": "execute_result"
    }
   ],
   "source": [
    "y[0:4]"
   ]
  },
  {
   "cell_type": "code",
   "execution_count": 16,
   "id": "3f747db2-70cc-4302-ab3f-5ff93e5a9be5",
   "metadata": {},
   "outputs": [
    {
     "data": {
      "text/plain": [
       "'Oil_Gas'"
      ]
     },
     "execution_count": 16,
     "metadata": {},
     "output_type": "execute_result"
    }
   ],
   "source": [
    "y[:]"
   ]
  },
  {
   "cell_type": "code",
   "execution_count": 17,
   "id": "ee28baec-b67a-4145-9fb3-c1eb460205ff",
   "metadata": {},
   "outputs": [
    {
     "data": {
      "text/plain": [
       "'Oil_Ga'"
      ]
     },
     "execution_count": 17,
     "metadata": {},
     "output_type": "execute_result"
    }
   ],
   "source": [
    "y[:6]\n"
   ]
  },
  {
   "cell_type": "code",
   "execution_count": 18,
   "id": "7bb69662-0c3a-4de5-894f-cdc797c05862",
   "metadata": {},
   "outputs": [
    {
     "data": {
      "text/plain": [
       "'l_Gas'"
      ]
     },
     "execution_count": 18,
     "metadata": {},
     "output_type": "execute_result"
    }
   ],
   "source": [
    "y[2:]"
   ]
  },
  {
   "cell_type": "code",
   "execution_count": 20,
   "id": "c43920c6-8a4f-47ad-af75-363e32651505",
   "metadata": {},
   "outputs": [
    {
     "data": {
      "text/plain": [
       "34"
      ]
     },
     "execution_count": 20,
     "metadata": {},
     "output_type": "execute_result"
    }
   ],
   "source": [
    "z='The optimum well spacing is 950 ft'\n",
    "len(z)"
   ]
  },
  {
   "cell_type": "code",
   "execution_count": 22,
   "id": "41f9e4c0-cb28-4814-a598-b6e9ece727b8",
   "metadata": {},
   "outputs": [],
   "source": [
    "list=['Land','Geology','Drilling']"
   ]
  },
  {
   "cell_type": "code",
   "execution_count": 23,
   "id": "bf49d555-6451-4260-a44c-2f59d8a40484",
   "metadata": {},
   "outputs": [
    {
     "data": {
      "text/plain": [
       "['Land', 'Geology', 'Drilling']"
      ]
     },
     "execution_count": 23,
     "metadata": {},
     "output_type": "execute_result"
    }
   ],
   "source": [
    "list\n"
   ]
  },
  {
   "cell_type": "code",
   "execution_count": 24,
   "id": "eb11df1b-5938-4f8e-8791-5dc67938b6ae",
   "metadata": {},
   "outputs": [],
   "source": [
    "list.append('Frac')"
   ]
  },
  {
   "cell_type": "code",
   "execution_count": 25,
   "id": "b627cc8a-a885-4399-8a61-60c9885acbe0",
   "metadata": {},
   "outputs": [
    {
     "data": {
      "text/plain": [
       "['Land', 'Geology', 'Drilling', 'Frac']"
      ]
     },
     "execution_count": 25,
     "metadata": {},
     "output_type": "execute_result"
    }
   ],
   "source": [
    "list"
   ]
  },
  {
   "cell_type": "code",
   "execution_count": 26,
   "id": "3e214721-e052-4e64-bcf1-908236fdea4b",
   "metadata": {},
   "outputs": [
    {
     "ename": "SyntaxError",
     "evalue": "incomplete input (4130884942.py, line 1)",
     "output_type": "error",
     "traceback": [
      "\u001b[0;36m  Cell \u001b[0;32mIn[26], line 1\u001b[0;36m\u001b[0m\n\u001b[0;31m    list.append(1000\u001b[0m\n\u001b[0m                    ^\u001b[0m\n\u001b[0;31mSyntaxError\u001b[0m\u001b[0;31m:\u001b[0m incomplete input\n"
     ]
    }
   ],
   "source": [
    "list.append(1000"
   ]
  },
  {
   "cell_type": "code",
   "execution_count": 27,
   "id": "d038754c-79d4-4333-aff7-babd2d042aaf",
   "metadata": {},
   "outputs": [],
   "source": [
    "list.append(100)"
   ]
  },
  {
   "cell_type": "code",
   "execution_count": 28,
   "id": "a689983c-a8d0-414b-a77d-659e294a8758",
   "metadata": {},
   "outputs": [
    {
     "data": {
      "text/plain": [
       "['Land', 'Geology', 'Drilling', 'Frac', 100]"
      ]
     },
     "execution_count": 28,
     "metadata": {},
     "output_type": "execute_result"
    }
   ],
   "source": [
    "list"
   ]
  },
  {
   "cell_type": "code",
   "execution_count": 29,
   "id": "bafb67b5-2788-4146-abe6-78a083c21de1",
   "metadata": {},
   "outputs": [
    {
     "name": "stdout",
     "output_type": "stream",
     "text": [
      "Land\n",
      "Drilling\n",
      "100\n"
     ]
    }
   ],
   "source": [
    "print(list[0])\n",
    "print(list[2])\n",
    "print(list[len(list)-1])\n"
   ]
  },
  {
   "cell_type": "code",
   "execution_count": 30,
   "id": "710ea0ef-91b8-4788-b906-a531512fd921",
   "metadata": {},
   "outputs": [],
   "source": [
    "list[0]='Title Search'\n"
   ]
  },
  {
   "cell_type": "code",
   "execution_count": 31,
   "id": "a1a25f87-5469-44b4-ba9c-7eb2aa231602",
   "metadata": {},
   "outputs": [
    {
     "data": {
      "text/plain": [
       "['Title Search', 'Geology', 'Drilling', 'Frac', 100]"
      ]
     },
     "execution_count": 31,
     "metadata": {},
     "output_type": "execute_result"
    }
   ],
   "source": [
    "list\n"
   ]
  },
  {
   "cell_type": "code",
   "execution_count": 32,
   "id": "04fdc79b-8746-4712-ac9d-af92ef08d96f",
   "metadata": {},
   "outputs": [],
   "source": [
    "list[2]='Augusto'"
   ]
  },
  {
   "cell_type": "code",
   "execution_count": 33,
   "id": "c3a41333-f834-4f96-96ad-9684d2f1b34a",
   "metadata": {},
   "outputs": [
    {
     "data": {
      "text/plain": [
       "['Title Search', 'Geology', 'Augusto', 'Frac', 100]"
      ]
     },
     "execution_count": 33,
     "metadata": {},
     "output_type": "execute_result"
    }
   ],
   "source": [
    "list"
   ]
  },
  {
   "cell_type": "code",
   "execution_count": 34,
   "id": "4990fee1-8288-419e-af96-87064c794365",
   "metadata": {},
   "outputs": [],
   "source": [
    "nested_list=[10,20, [30,40,50,60]]"
   ]
  },
  {
   "cell_type": "code",
   "execution_count": 35,
   "id": "c24db795-d77d-4d32-86f6-acd650bad939",
   "metadata": {},
   "outputs": [
    {
     "data": {
      "text/plain": [
       "40"
      ]
     },
     "execution_count": 35,
     "metadata": {},
     "output_type": "execute_result"
    }
   ],
   "source": [
    "nested_list[2][1]"
   ]
  },
  {
   "cell_type": "code",
   "execution_count": 39,
   "id": "a5ac5d56-7ff8-4118-9eb2-5d26e42e4d23",
   "metadata": {},
   "outputs": [],
   "source": [
    "nested_list2=[10,20, [30,40,50,60, [4,3,1]]]"
   ]
  },
  {
   "cell_type": "code",
   "execution_count": 40,
   "id": "0eb0ca96-fb80-466c-ba34-2caf23cf01a3",
   "metadata": {},
   "outputs": [
    {
     "data": {
      "text/plain": [
       "10"
      ]
     },
     "execution_count": 40,
     "metadata": {},
     "output_type": "execute_result"
    }
   ],
   "source": [
    "nested_list2[0]\n"
   ]
  },
  {
   "cell_type": "code",
   "execution_count": 41,
   "id": "f6b29dc9-6649-4f8a-ad2d-34298af8aed0",
   "metadata": {},
   "outputs": [
    {
     "data": {
      "text/plain": [
       "[30, 40, 50, 60, [4, 3, 1]]"
      ]
     },
     "execution_count": 41,
     "metadata": {},
     "output_type": "execute_result"
    }
   ],
   "source": [
    "nested_list2[2]"
   ]
  },
  {
   "cell_type": "code",
   "execution_count": 42,
   "id": "88450df4-7579-4b8e-bfc3-6690d79e5ac1",
   "metadata": {},
   "outputs": [
    {
     "ename": "IndexError",
     "evalue": "list index out of range",
     "output_type": "error",
     "traceback": [
      "\u001b[0;31m---------------------------------------------------------------------------\u001b[0m",
      "\u001b[0;31mIndexError\u001b[0m                                Traceback (most recent call last)",
      "Cell \u001b[0;32mIn[42], line 1\u001b[0m\n\u001b[0;32m----> 1\u001b[0m nested_list2[\u001b[38;5;241m3\u001b[39m]\n",
      "\u001b[0;31mIndexError\u001b[0m: list index out of range"
     ]
    }
   ],
   "source": [
    "nested_list2[3]"
   ]
  },
  {
   "cell_type": "code",
   "execution_count": 44,
   "id": "6bf97bc9-becf-488a-9f47-a1fb2336061c",
   "metadata": {},
   "outputs": [
    {
     "data": {
      "text/plain": [
       "3"
      ]
     },
     "execution_count": 44,
     "metadata": {},
     "output_type": "execute_result"
    }
   ],
   "source": [
    "nested_list2[2][4][1]\n"
   ]
  },
  {
   "cell_type": "code",
   "execution_count": 45,
   "id": "16cbe31a-eb83-4224-9bb7-836551d5e66f",
   "metadata": {},
   "outputs": [],
   "source": [
    "a={'ML_Models':['ANN','SVM','RF','GB','XGB'],\n",
    "'Score':[90,85,95,90,100]}"
   ]
  },
  {
   "cell_type": "code",
   "execution_count": 46,
   "id": "c15ea814-6706-4dea-894b-7c37d11b8ea5",
   "metadata": {},
   "outputs": [
    {
     "data": {
      "text/plain": [
       "{'ML_Models': ['ANN', 'SVM', 'RF', 'GB', 'XGB'],\n",
       " 'Score': [90, 85, 95, 90, 100]}"
      ]
     },
     "execution_count": 46,
     "metadata": {},
     "output_type": "execute_result"
    }
   ],
   "source": [
    "a"
   ]
  },
  {
   "cell_type": "code",
   "execution_count": 47,
   "id": "a7020bba-5c29-4461-899b-3083bf5f6764",
   "metadata": {},
   "outputs": [
    {
     "data": {
      "text/plain": [
       "['ANN', 'SVM', 'RF', 'GB', 'XGB']"
      ]
     },
     "execution_count": 47,
     "metadata": {},
     "output_type": "execute_result"
    }
   ],
   "source": [
    "a['ML_Models']"
   ]
  },
  {
   "cell_type": "code",
   "execution_count": 48,
   "id": "c2dccedd-85cb-4937-b8df-21dde6556971",
   "metadata": {},
   "outputs": [
    {
     "data": {
      "text/plain": [
       "[90, 85, 95, 90, 100]"
      ]
     },
     "execution_count": 48,
     "metadata": {},
     "output_type": "execute_result"
    }
   ],
   "source": [
    "a['Score']"
   ]
  },
  {
   "cell_type": "code",
   "execution_count": 49,
   "id": "b86b6ece-ad50-4572-a342-c6ed59770204",
   "metadata": {},
   "outputs": [],
   "source": [
    "d={'a':{'inner_a':[1,2,3]}}"
   ]
  },
  {
   "cell_type": "code",
   "execution_count": 51,
   "id": "6f99d4a7-ea74-418b-bed2-adc46579727c",
   "metadata": {},
   "outputs": [
    {
     "data": {
      "text/plain": [
       "{'a': {'inner_a': [1, 2, 3]}}"
      ]
     },
     "execution_count": 51,
     "metadata": {},
     "output_type": "execute_result"
    }
   ],
   "source": [
    "d"
   ]
  },
  {
   "cell_type": "code",
   "execution_count": 53,
   "id": "09126e90-9a20-4da8-b191-b2f7a21cd30c",
   "metadata": {},
   "outputs": [
    {
     "data": {
      "text/plain": [
       "[1, 2, 3]"
      ]
     },
     "execution_count": 53,
     "metadata": {},
     "output_type": "execute_result"
    }
   ],
   "source": [
    "d['a']['inner_a']\n"
   ]
  },
  {
   "cell_type": "code",
   "execution_count": 54,
   "id": "b7116703-d625-4a1d-8ede-564845b5d857",
   "metadata": {},
   "outputs": [],
   "source": [
    "t=(100,200,300,400)"
   ]
  },
  {
   "cell_type": "code",
   "execution_count": 55,
   "id": "95090107-dd85-442d-8e80-769c61adc724",
   "metadata": {},
   "outputs": [
    {
     "data": {
      "text/plain": [
       "(100, 200, 300, 400)"
      ]
     },
     "execution_count": 55,
     "metadata": {},
     "output_type": "execute_result"
    }
   ],
   "source": [
    "t"
   ]
  },
  {
   "cell_type": "code",
   "execution_count": 56,
   "id": "ba599cb1-88b2-4356-9de9-3c6e1fcd6f30",
   "metadata": {},
   "outputs": [
    {
     "ename": "TypeError",
     "evalue": "'tuple' object does not support item assignment",
     "output_type": "error",
     "traceback": [
      "\u001b[0;31m---------------------------------------------------------------------------\u001b[0m",
      "\u001b[0;31mTypeError\u001b[0m                                 Traceback (most recent call last)",
      "Cell \u001b[0;32mIn[56], line 1\u001b[0m\n\u001b[0;32m----> 1\u001b[0m t[\u001b[38;5;241m0\u001b[39m]\u001b[38;5;241m=\u001b[39m\u001b[38;5;124m'\u001b[39m\u001b[38;5;124mNew\u001b[39m\u001b[38;5;124m'\u001b[39m\n",
      "\u001b[0;31mTypeError\u001b[0m: 'tuple' object does not support item assignment"
     ]
    }
   ],
   "source": [
    "t[0]='New'"
   ]
  },
  {
   "cell_type": "code",
   "execution_count": 58,
   "id": "090599fb-a0dd-488c-b707-0511fa1213d7",
   "metadata": {},
   "outputs": [
    {
     "name": "stdout",
     "output_type": "stream",
     "text": [
      "Not good!\n"
     ]
    }
   ],
   "source": [
    "if 100==200:\n",
    "    print('Good job')\n",
    "else:\n",
    "    print('Not good!')"
   ]
  },
  {
   "cell_type": "code",
   "execution_count": 64,
   "id": "2f378bd0-fd44-45ef-8e98-4959ea6f9aaa",
   "metadata": {},
   "outputs": [
    {
     "data": {
      "text/plain": [
       "1200"
      ]
     },
     "execution_count": 64,
     "metadata": {},
     "output_type": "execute_result"
    }
   ],
   "source": [
    "X=100\n",
    "Y=200\n",
    "Z=300\n",
    "\n",
    "if X>Y:\n",
    "    A=X+Y\n",
    "elif Z<Y:\n",
    "    B=X+Y+Z\n",
    "else:\n",
    "    C=2*(X+Y+Z)\n",
    "C"
   ]
  },
  {
   "cell_type": "code",
   "execution_count": 69,
   "id": "abc8ca0a-5a81-4fd8-bb4f-f482833d9f3e",
   "metadata": {},
   "outputs": [
    {
     "name": "stdin",
     "output_type": "stream",
     "text": [
      "Enter any number 0\n"
     ]
    },
    {
     "name": "stdout",
     "output_type": "stream",
     "text": [
      "Zero\n"
     ]
    }
   ],
   "source": [
    "n=float(input(\"Enter any number\"))\n",
    "if n ==0:\n",
    "    print('Zero')\n",
    "elif n>0:\n",
    "    print('Positive Number')\n",
    "else:\n",
    "    print('Negative Number')\n"
   ]
  },
  {
   "cell_type": "code",
   "execution_count": 70,
   "id": "29f6c24a-111d-47d3-8e0f-2d8cb03febad",
   "metadata": {},
   "outputs": [
    {
     "name": "stdout",
     "output_type": "stream",
     "text": [
      "0\n",
      "1\n",
      "2\n",
      "3\n",
      "4\n"
     ]
    }
   ],
   "source": [
    "i=range(0,5)\n",
    "for x in i:\n",
    "    print(x)"
   ]
  },
  {
   "cell_type": "code",
   "execution_count": 72,
   "id": "a06657f3-4e3d-4080-9041-a4e356e28c2c",
   "metadata": {},
   "outputs": [
    {
     "name": "stdout",
     "output_type": "stream",
     "text": [
      "edge computing\n",
      "edge computing\n",
      "edge computing\n"
     ]
    }
   ],
   "source": [
    "for x in range(0,3):\n",
    "    print('edge computing')"
   ]
  },
  {
   "cell_type": "code",
   "execution_count": 75,
   "id": "7c2a2d1c-ab90-48be-a3a1-312700408022",
   "metadata": {},
   "outputs": [
    {
     "name": "stdout",
     "output_type": "stream",
     "text": [
      "Frac_Crew_1\n",
      "Frac_Crew_3\n",
      "Frac_Crew_4\n"
     ]
    }
   ],
   "source": [
    "Frac_Crews=['Frac_Crew_1', 'Frac_Crew_2', 'Frac_Crew_3', 'Frac_Crew_4']\n",
    "for x in Frac_Crews:\n",
    "    if x=='Frac_Crew_2':\n",
    "        continue\n",
    "    print(x)"
   ]
  },
  {
   "cell_type": "code",
   "execution_count": 77,
   "id": "51411aa2-cbd0-4f0a-8f4d-2c0bd3d230fb",
   "metadata": {},
   "outputs": [
    {
     "name": "stdout",
     "output_type": "stream",
     "text": [
      "10\n",
      "14\n",
      "18\n"
     ]
    }
   ],
   "source": [
    "for x in range(10, 19, 4):\n",
    "    \n",
    "    print(x)\n"
   ]
  },
  {
   "cell_type": "code",
   "execution_count": 80,
   "id": "d96e4547-a1db-4563-b4fd-07152065acd1",
   "metadata": {},
   "outputs": [
    {
     "name": "stdout",
     "output_type": "stream",
     "text": [
      "Low_Performing Drilling_Crew_1\n",
      "Low_Performing Drilling_Crew_2\n",
      "Low_Performing Drilling_Crew_3\n",
      "Medium_Performing Drilling_Crew_1\n",
      "Medium_Performing Drilling_Crew_2\n",
      "Medium_Performing Drilling_Crew_3\n",
      "High_Performing Drilling_Crew_1\n",
      "High_Performing Drilling_Crew_2\n",
      "High_Performing Drilling_Crew_3\n"
     ]
    }
   ],
   "source": [
    "Performance=[\"Low_Performing\", \"Medium_Performing\", \"High_Performing\"]\n",
    "Drilling_crews=[\"Drilling_Crew_1\", \"Drilling_Crew_2\", \"Drilling_Crew_3\"]\n",
    "for x in Performance: \n",
    "    for y in Drilling_crews:\n",
    "        print(x, y)"
   ]
  },
  {
   "cell_type": "code",
   "execution_count": 81,
   "id": "b11bc371-8d1b-49cb-b3bb-c2290d1f2140",
   "metadata": {},
   "outputs": [
    {
     "name": "stdout",
     "output_type": "stream",
     "text": [
      "[300, 600, 1100, 1800]\n"
     ]
    }
   ],
   "source": [
    "i=[10,20,30,40]\n",
    "out=[]\n",
    "for x in i:\n",
    "    out.append(x**2+200)\n",
    "print(out)"
   ]
  },
  {
   "cell_type": "code",
   "execution_count": 82,
   "id": "17e246f0-ec6f-4f82-8335-56b1d702c36e",
   "metadata": {},
   "outputs": [
    {
     "data": {
      "text/plain": [
       "[300, 600, 1100, 1800]"
      ]
     },
     "execution_count": 82,
     "metadata": {},
     "output_type": "execute_result"
    }
   ],
   "source": [
    "[x**2+200 for x in i]"
   ]
  },
  {
   "cell_type": "code",
   "execution_count": 83,
   "id": "2c0731e0-6224-4afe-b919-bf4312af6eaf",
   "metadata": {},
   "outputs": [
    {
     "data": {
      "text/plain": [
       "[409, 423, 439, 457, 477, 499]"
      ]
     },
     "execution_count": 83,
     "metadata": {},
     "output_type": "execute_result"
    }
   ],
   "source": [
    "y=[5,6,7,8,9,10]\n",
    "[x**2+3*x+369 for x in y]\n"
   ]
  },
  {
   "cell_type": "code",
   "execution_count": 84,
   "id": "933dcce7-ae82-45bd-9a0b-9aa17aae85c3",
   "metadata": {},
   "outputs": [
    {
     "data": {
      "text/plain": [
       "60"
      ]
     },
     "execution_count": 84,
     "metadata": {},
     "output_type": "execute_result"
    }
   ],
   "source": [
    "def linear_function(n):\n",
    "    return 2*n+20\n",
    "linear_function(20)"
   ]
  },
  {
   "cell_type": "code",
   "execution_count": 85,
   "id": "a1de3442-f78e-4eb8-b618-6da21987639c",
   "metadata": {},
   "outputs": [],
   "source": [
    "def Turner_rate(x):\n",
    "    return x**2+50"
   ]
  },
  {
   "cell_type": "code",
   "execution_count": 86,
   "id": "4fa630c7-cc45-4576-b4e6-2421bc9ed363",
   "metadata": {},
   "outputs": [
    {
     "data": {
      "text/plain": [
       "450"
      ]
     },
     "execution_count": 86,
     "metadata": {},
     "output_type": "execute_result"
    }
   ],
   "source": [
    "Turner_rate(20)"
   ]
  },
  {
   "cell_type": "code",
   "execution_count": 87,
   "id": "802bc32d-9c47-4998-919a-da35ec483c8e",
   "metadata": {},
   "outputs": [
    {
     "data": {
      "text/plain": [
       "{'Column_1': [10, 20, 30], 'Column_2': [40, 50, 60], 'Column_3': [70, 80, 90]}"
      ]
     },
     "execution_count": 87,
     "metadata": {},
     "output_type": "execute_result"
    }
   ],
   "source": [
    "dictionary={'Column_1':[10,20,30], 'Column_2':[40,50,60], 'Column_3':[70,80,90]}\n",
    "dictionary"
   ]
  },
  {
   "cell_type": "code",
   "execution_count": 88,
   "id": "18d0a65a-f13a-4572-b980-2a2951b6e18d",
   "metadata": {},
   "outputs": [
    {
     "data": {
      "text/html": [
       "<div>\n",
       "<style scoped>\n",
       "    .dataframe tbody tr th:only-of-type {\n",
       "        vertical-align: middle;\n",
       "    }\n",
       "\n",
       "    .dataframe tbody tr th {\n",
       "        vertical-align: top;\n",
       "    }\n",
       "\n",
       "    .dataframe thead th {\n",
       "        text-align: right;\n",
       "    }\n",
       "</style>\n",
       "<table border=\"1\" class=\"dataframe\">\n",
       "  <thead>\n",
       "    <tr style=\"text-align: right;\">\n",
       "      <th></th>\n",
       "      <th>Column_1</th>\n",
       "      <th>Column_2</th>\n",
       "      <th>Column_3</th>\n",
       "    </tr>\n",
       "  </thead>\n",
       "  <tbody>\n",
       "    <tr>\n",
       "      <th>0</th>\n",
       "      <td>10</td>\n",
       "      <td>40</td>\n",
       "      <td>70</td>\n",
       "    </tr>\n",
       "    <tr>\n",
       "      <th>1</th>\n",
       "      <td>20</td>\n",
       "      <td>50</td>\n",
       "      <td>80</td>\n",
       "    </tr>\n",
       "    <tr>\n",
       "      <th>2</th>\n",
       "      <td>30</td>\n",
       "      <td>60</td>\n",
       "      <td>90</td>\n",
       "    </tr>\n",
       "  </tbody>\n",
       "</table>\n",
       "</div>"
      ],
      "text/plain": [
       "   Column_1  Column_2  Column_3\n",
       "0        10        40        70\n",
       "1        20        50        80\n",
       "2        30        60        90"
      ]
     },
     "execution_count": 88,
     "metadata": {},
     "output_type": "execute_result"
    }
   ],
   "source": [
    "import pandas as pd\n",
    "dictionary=pd.DataFrame(dictionary)\n",
    "dictionary"
   ]
  },
  {
   "cell_type": "code",
   "execution_count": 91,
   "id": "d0e717c2-a056-4bab-b132-6bbc6f04534b",
   "metadata": {},
   "outputs": [
    {
     "data": {
      "text/html": [
       "<div>\n",
       "<style scoped>\n",
       "    .dataframe tbody tr th:only-of-type {\n",
       "        vertical-align: middle;\n",
       "    }\n",
       "\n",
       "    .dataframe tbody tr th {\n",
       "        vertical-align: top;\n",
       "    }\n",
       "\n",
       "    .dataframe thead th {\n",
       "        text-align: right;\n",
       "    }\n",
       "</style>\n",
       "<table border=\"1\" class=\"dataframe\">\n",
       "  <thead>\n",
       "    <tr style=\"text-align: right;\">\n",
       "      <th></th>\n",
       "      <th>Column_1</th>\n",
       "      <th>Column_2</th>\n",
       "      <th>Column_3</th>\n",
       "    </tr>\n",
       "  </thead>\n",
       "  <tbody>\n",
       "    <tr>\n",
       "      <th>0</th>\n",
       "      <td>10</td>\n",
       "      <td>40</td>\n",
       "      <td>70</td>\n",
       "    </tr>\n",
       "    <tr>\n",
       "      <th>1</th>\n",
       "      <td>20</td>\n",
       "      <td>50</td>\n",
       "      <td>80</td>\n",
       "    </tr>\n",
       "    <tr>\n",
       "      <th>2</th>\n",
       "      <td>30</td>\n",
       "      <td>60</td>\n",
       "      <td>90</td>\n",
       "    </tr>\n",
       "  </tbody>\n",
       "</table>\n",
       "</div>"
      ],
      "text/plain": [
       "   Column_1  Column_2  Column_3\n",
       "0        10        40        70\n",
       "1        20        50        80\n",
       "2        30        60        90"
      ]
     },
     "execution_count": 91,
     "metadata": {},
     "output_type": "execute_result"
    }
   ],
   "source": [
    "dictionary=pd.DataFrame({'Column_1':[10,20,30], 'Column_2':[40,50,60], 'Column_3':[70,80,90]})\n",
    "dictionary"
   ]
  },
  {
   "cell_type": "code",
   "execution_count": 95,
   "id": "c64bda98-c06f-4839-af59-89a1826f3179",
   "metadata": {},
   "outputs": [
    {
     "data": {
      "text/html": [
       "<div>\n",
       "<style scoped>\n",
       "    .dataframe tbody tr th:only-of-type {\n",
       "        vertical-align: middle;\n",
       "    }\n",
       "\n",
       "    .dataframe tbody tr th {\n",
       "        vertical-align: top;\n",
       "    }\n",
       "\n",
       "    .dataframe thead th {\n",
       "        text-align: right;\n",
       "    }\n",
       "</style>\n",
       "<table border=\"1\" class=\"dataframe\">\n",
       "  <thead>\n",
       "    <tr style=\"text-align: right;\">\n",
       "      <th></th>\n",
       "      <th>Drilling_CAPEX</th>\n",
       "      <th>Completions_CAPEX</th>\n",
       "      <th>Production_                    CAPEX</th>\n",
       "    </tr>\n",
       "  </thead>\n",
       "  <tbody>\n",
       "    <tr>\n",
       "      <th>Well_1</th>\n",
       "      <td>2000000</td>\n",
       "      <td>5000000</td>\n",
       "      <td>500000</td>\n",
       "    </tr>\n",
       "    <tr>\n",
       "      <th>Well_2</th>\n",
       "      <td>2200000</td>\n",
       "      <td>5100000</td>\n",
       "      <td>550000</td>\n",
       "    </tr>\n",
       "    <tr>\n",
       "      <th>Well_3</th>\n",
       "      <td>2100000</td>\n",
       "      <td>5150000</td>\n",
       "      <td>450000</td>\n",
       "    </tr>\n",
       "  </tbody>\n",
       "</table>\n",
       "</div>"
      ],
      "text/plain": [
       "        Drilling_CAPEX  Completions_CAPEX  \\\n",
       "Well_1         2000000            5000000   \n",
       "Well_2         2200000            5100000   \n",
       "Well_3         2100000            5150000   \n",
       "\n",
       "        Production_                    CAPEX  \n",
       "Well_1                                500000  \n",
       "Well_2                                550000  \n",
       "Well_3                                450000  "
      ]
     },
     "execution_count": 95,
     "metadata": {},
     "output_type": "execute_result"
    }
   ],
   "source": [
    "CAPEX=pd.DataFrame({'Drilling_CAPEX':[2000000,2200000,2100000], 'Completions_CAPEX':[5000000,5100000,5150000], 'Production_\\\n",
    "                    CAPEX':[500000,550000,450000]}, index=['Well_1', 'Well_2', 'Well_3'])\n",
    "CAPEX"
   ]
  },
  {
   "cell_type": "code",
   "execution_count": 107,
   "id": "27bbb5fa-8082-4955-82ee-0900d33686d1",
   "metadata": {},
   "outputs": [
    {
     "data": {
      "text/html": [
       "<div>\n",
       "<style scoped>\n",
       "    .dataframe tbody tr th:only-of-type {\n",
       "        vertical-align: middle;\n",
       "    }\n",
       "\n",
       "    .dataframe tbody tr th {\n",
       "        vertical-align: top;\n",
       "    }\n",
       "\n",
       "    .dataframe thead th {\n",
       "        text-align: right;\n",
       "    }\n",
       "</style>\n",
       "<table border=\"1\" class=\"dataframe\">\n",
       "  <thead>\n",
       "    <tr style=\"text-align: right;\">\n",
       "      <th></th>\n",
       "      <th>Cycle_1</th>\n",
       "      <th>Cycle_2</th>\n",
       "      <th>Cycle_3</th>\n",
       "      <th>Cycle_4</th>\n",
       "      <th>Cycle_5</th>\n",
       "    </tr>\n",
       "  </thead>\n",
       "  <tbody>\n",
       "    <tr>\n",
       "      <th>Land</th>\n",
       "      <td>-1.749765</td>\n",
       "      <td>0.342680</td>\n",
       "      <td>1.153036</td>\n",
       "      <td>-0.252436</td>\n",
       "      <td>0.981321</td>\n",
       "    </tr>\n",
       "    <tr>\n",
       "      <th>Seismic</th>\n",
       "      <td>0.514219</td>\n",
       "      <td>0.221180</td>\n",
       "      <td>-1.070043</td>\n",
       "      <td>-0.189496</td>\n",
       "      <td>0.255001</td>\n",
       "    </tr>\n",
       "    <tr>\n",
       "      <th>Geology</th>\n",
       "      <td>-0.458027</td>\n",
       "      <td>0.435163</td>\n",
       "      <td>-0.583595</td>\n",
       "      <td>0.816847</td>\n",
       "      <td>0.672721</td>\n",
       "    </tr>\n",
       "    <tr>\n",
       "      <th>Drilling</th>\n",
       "      <td>-0.104411</td>\n",
       "      <td>-0.531280</td>\n",
       "      <td>1.029733</td>\n",
       "      <td>-0.438136</td>\n",
       "      <td>-1.118318</td>\n",
       "    </tr>\n",
       "    <tr>\n",
       "      <th>Completions</th>\n",
       "      <td>1.618982</td>\n",
       "      <td>1.541605</td>\n",
       "      <td>-0.251879</td>\n",
       "      <td>-0.842436</td>\n",
       "      <td>0.184519</td>\n",
       "    </tr>\n",
       "    <tr>\n",
       "      <th>Production</th>\n",
       "      <td>0.937082</td>\n",
       "      <td>0.731000</td>\n",
       "      <td>1.361556</td>\n",
       "      <td>-0.326238</td>\n",
       "      <td>0.055676</td>\n",
       "    </tr>\n",
       "    <tr>\n",
       "      <th>Facilities</th>\n",
       "      <td>0.222400</td>\n",
       "      <td>-1.443217</td>\n",
       "      <td>-0.756352</td>\n",
       "      <td>0.816454</td>\n",
       "      <td>0.750445</td>\n",
       "    </tr>\n",
       "    <tr>\n",
       "      <th>Midstream</th>\n",
       "      <td>-0.455947</td>\n",
       "      <td>1.189622</td>\n",
       "      <td>-1.690617</td>\n",
       "      <td>-1.356399</td>\n",
       "      <td>-1.232435</td>\n",
       "    </tr>\n",
       "  </tbody>\n",
       "</table>\n",
       "</div>"
      ],
      "text/plain": [
       "              Cycle_1   Cycle_2   Cycle_3   Cycle_4   Cycle_5\n",
       "Land        -1.749765  0.342680  1.153036 -0.252436  0.981321\n",
       "Seismic      0.514219  0.221180 -1.070043 -0.189496  0.255001\n",
       "Geology     -0.458027  0.435163 -0.583595  0.816847  0.672721\n",
       "Drilling    -0.104411 -0.531280  1.029733 -0.438136 -1.118318\n",
       "Completions  1.618982  1.541605 -0.251879 -0.842436  0.184519\n",
       "Production   0.937082  0.731000  1.361556 -0.326238  0.055676\n",
       "Facilities   0.222400 -1.443217 -0.756352  0.816454  0.750445\n",
       "Midstream   -0.455947  1.189622 -1.690617 -1.356399 -1.232435"
      ]
     },
     "execution_count": 107,
     "metadata": {},
     "output_type": "execute_result"
    }
   ],
   "source": [
    "from numpy.random import randn\n",
    "import numpy as np\n",
    "seed=100\n",
    "np.random.seed(seed)\n",
    "life_cycle=pd.DataFrame(randn(8,5), index='Land Seismic Geology Drilling Completions Production Facilities Midstream'.split(),\\\n",
    "    columns='Cycle_1 Cycle_2 Cycle_3 Cycle_4 Cycle_5'.split())\n",
    "life_cycle"
   ]
  },
  {
   "cell_type": "code",
   "execution_count": 108,
   "id": "94116afe-56fa-48d5-84fc-855ca62ba9f7",
   "metadata": {},
   "outputs": [
    {
     "data": {
      "text/html": [
       "<div>\n",
       "<style scoped>\n",
       "    .dataframe tbody tr th:only-of-type {\n",
       "        vertical-align: middle;\n",
       "    }\n",
       "\n",
       "    .dataframe tbody tr th {\n",
       "        vertical-align: top;\n",
       "    }\n",
       "\n",
       "    .dataframe thead th {\n",
       "        text-align: right;\n",
       "    }\n",
       "</style>\n",
       "<table border=\"1\" class=\"dataframe\">\n",
       "  <thead>\n",
       "    <tr style=\"text-align: right;\">\n",
       "      <th></th>\n",
       "      <th>Cycle_1</th>\n",
       "      <th>Cycle_2</th>\n",
       "      <th>Cycle_3</th>\n",
       "      <th>Cycle_4</th>\n",
       "      <th>Cycle_5</th>\n",
       "    </tr>\n",
       "  </thead>\n",
       "  <tbody>\n",
       "    <tr>\n",
       "      <th>Land</th>\n",
       "      <td>-1.749765</td>\n",
       "      <td>0.34268</td>\n",
       "      <td>1.153036</td>\n",
       "      <td>-0.252436</td>\n",
       "      <td>0.981321</td>\n",
       "    </tr>\n",
       "    <tr>\n",
       "      <th>Seismic</th>\n",
       "      <td>0.514219</td>\n",
       "      <td>0.22118</td>\n",
       "      <td>-1.070043</td>\n",
       "      <td>-0.189496</td>\n",
       "      <td>0.255001</td>\n",
       "    </tr>\n",
       "  </tbody>\n",
       "</table>\n",
       "</div>"
      ],
      "text/plain": [
       "          Cycle_1  Cycle_2   Cycle_3   Cycle_4   Cycle_5\n",
       "Land    -1.749765  0.34268  1.153036 -0.252436  0.981321\n",
       "Seismic  0.514219  0.22118 -1.070043 -0.189496  0.255001"
      ]
     },
     "execution_count": 108,
     "metadata": {},
     "output_type": "execute_result"
    }
   ],
   "source": [
    "life_cycle.head(2)"
   ]
  },
  {
   "cell_type": "code",
   "execution_count": 109,
   "id": "9987c8b6-b0ef-4264-a878-86cbd71a368a",
   "metadata": {},
   "outputs": [
    {
     "data": {
      "text/html": [
       "<div>\n",
       "<style scoped>\n",
       "    .dataframe tbody tr th:only-of-type {\n",
       "        vertical-align: middle;\n",
       "    }\n",
       "\n",
       "    .dataframe tbody tr th {\n",
       "        vertical-align: top;\n",
       "    }\n",
       "\n",
       "    .dataframe thead th {\n",
       "        text-align: right;\n",
       "    }\n",
       "</style>\n",
       "<table border=\"1\" class=\"dataframe\">\n",
       "  <thead>\n",
       "    <tr style=\"text-align: right;\">\n",
       "      <th></th>\n",
       "      <th>Cycle_1</th>\n",
       "      <th>Cycle_2</th>\n",
       "      <th>Cycle_3</th>\n",
       "      <th>Cycle_4</th>\n",
       "      <th>Cycle_5</th>\n",
       "    </tr>\n",
       "  </thead>\n",
       "  <tbody>\n",
       "    <tr>\n",
       "      <th>Facilities</th>\n",
       "      <td>0.222400</td>\n",
       "      <td>-1.443217</td>\n",
       "      <td>-0.756352</td>\n",
       "      <td>0.816454</td>\n",
       "      <td>0.750445</td>\n",
       "    </tr>\n",
       "    <tr>\n",
       "      <th>Midstream</th>\n",
       "      <td>-0.455947</td>\n",
       "      <td>1.189622</td>\n",
       "      <td>-1.690617</td>\n",
       "      <td>-1.356399</td>\n",
       "      <td>-1.232435</td>\n",
       "    </tr>\n",
       "  </tbody>\n",
       "</table>\n",
       "</div>"
      ],
      "text/plain": [
       "             Cycle_1   Cycle_2   Cycle_3   Cycle_4   Cycle_5\n",
       "Facilities  0.222400 -1.443217 -0.756352  0.816454  0.750445\n",
       "Midstream  -0.455947  1.189622 -1.690617 -1.356399 -1.232435"
      ]
     },
     "execution_count": 109,
     "metadata": {},
     "output_type": "execute_result"
    }
   ],
   "source": [
    "life_cycle.tail(2)"
   ]
  },
  {
   "cell_type": "code",
   "execution_count": 110,
   "id": "6031ec9d-e994-4d7a-9b2f-819802ed5ca8",
   "metadata": {},
   "outputs": [
    {
     "data": {
      "text/html": [
       "<div>\n",
       "<style scoped>\n",
       "    .dataframe tbody tr th:only-of-type {\n",
       "        vertical-align: middle;\n",
       "    }\n",
       "\n",
       "    .dataframe tbody tr th {\n",
       "        vertical-align: top;\n",
       "    }\n",
       "\n",
       "    .dataframe thead th {\n",
       "        text-align: right;\n",
       "    }\n",
       "</style>\n",
       "<table border=\"1\" class=\"dataframe\">\n",
       "  <thead>\n",
       "    <tr style=\"text-align: right;\">\n",
       "      <th></th>\n",
       "      <th>Cycle_1</th>\n",
       "      <th>Cycle_2</th>\n",
       "      <th>Cycle_3</th>\n",
       "      <th>Cycle_4</th>\n",
       "      <th>Cycle_5</th>\n",
       "    </tr>\n",
       "  </thead>\n",
       "  <tbody>\n",
       "    <tr>\n",
       "      <th>count</th>\n",
       "      <td>8.000000</td>\n",
       "      <td>8.000000</td>\n",
       "      <td>8.000000</td>\n",
       "      <td>8.000000</td>\n",
       "      <td>8.000000</td>\n",
       "    </tr>\n",
       "    <tr>\n",
       "      <th>mean</th>\n",
       "      <td>0.065566</td>\n",
       "      <td>0.310844</td>\n",
       "      <td>-0.101020</td>\n",
       "      <td>-0.221480</td>\n",
       "      <td>0.068616</td>\n",
       "    </tr>\n",
       "    <tr>\n",
       "      <th>std</th>\n",
       "      <td>1.019031</td>\n",
       "      <td>0.946721</td>\n",
       "      <td>1.142760</td>\n",
       "      <td>0.745362</td>\n",
       "      <td>0.829178</td>\n",
       "    </tr>\n",
       "    <tr>\n",
       "      <th>min</th>\n",
       "      <td>-1.749765</td>\n",
       "      <td>-1.443217</td>\n",
       "      <td>-1.690617</td>\n",
       "      <td>-1.356399</td>\n",
       "      <td>-1.232435</td>\n",
       "    </tr>\n",
       "    <tr>\n",
       "      <th>25%</th>\n",
       "      <td>-0.456467</td>\n",
       "      <td>0.033065</td>\n",
       "      <td>-0.834775</td>\n",
       "      <td>-0.539211</td>\n",
       "      <td>-0.237823</td>\n",
       "    </tr>\n",
       "    <tr>\n",
       "      <th>50%</th>\n",
       "      <td>0.058994</td>\n",
       "      <td>0.388922</td>\n",
       "      <td>-0.417737</td>\n",
       "      <td>-0.289337</td>\n",
       "      <td>0.219760</td>\n",
       "    </tr>\n",
       "    <tr>\n",
       "      <th>75%</th>\n",
       "      <td>0.619935</td>\n",
       "      <td>0.845656</td>\n",
       "      <td>1.060558</td>\n",
       "      <td>0.061992</td>\n",
       "      <td>0.692152</td>\n",
       "    </tr>\n",
       "    <tr>\n",
       "      <th>max</th>\n",
       "      <td>1.618982</td>\n",
       "      <td>1.541605</td>\n",
       "      <td>1.361556</td>\n",
       "      <td>0.816847</td>\n",
       "      <td>0.981321</td>\n",
       "    </tr>\n",
       "  </tbody>\n",
       "</table>\n",
       "</div>"
      ],
      "text/plain": [
       "        Cycle_1   Cycle_2   Cycle_3   Cycle_4   Cycle_5\n",
       "count  8.000000  8.000000  8.000000  8.000000  8.000000\n",
       "mean   0.065566  0.310844 -0.101020 -0.221480  0.068616\n",
       "std    1.019031  0.946721  1.142760  0.745362  0.829178\n",
       "min   -1.749765 -1.443217 -1.690617 -1.356399 -1.232435\n",
       "25%   -0.456467  0.033065 -0.834775 -0.539211 -0.237823\n",
       "50%    0.058994  0.388922 -0.417737 -0.289337  0.219760\n",
       "75%    0.619935  0.845656  1.060558  0.061992  0.692152\n",
       "max    1.618982  1.541605  1.361556  0.816847  0.981321"
      ]
     },
     "execution_count": 110,
     "metadata": {},
     "output_type": "execute_result"
    }
   ],
   "source": [
    "life_cycle.describe()"
   ]
  },
  {
   "cell_type": "code",
   "execution_count": 111,
   "id": "c05be8a4-360f-4ba3-9974-78902a00ac51",
   "metadata": {},
   "outputs": [
    {
     "data": {
      "text/html": [
       "<div>\n",
       "<style scoped>\n",
       "    .dataframe tbody tr th:only-of-type {\n",
       "        vertical-align: middle;\n",
       "    }\n",
       "\n",
       "    .dataframe tbody tr th {\n",
       "        vertical-align: top;\n",
       "    }\n",
       "\n",
       "    .dataframe thead th {\n",
       "        text-align: right;\n",
       "    }\n",
       "</style>\n",
       "<table border=\"1\" class=\"dataframe\">\n",
       "  <thead>\n",
       "    <tr style=\"text-align: right;\">\n",
       "      <th></th>\n",
       "      <th>Cycle_1</th>\n",
       "      <th>Cycle_2</th>\n",
       "      <th>Cycle_3</th>\n",
       "      <th>Cycle_4</th>\n",
       "      <th>Cycle_5</th>\n",
       "    </tr>\n",
       "  </thead>\n",
       "  <tbody>\n",
       "    <tr>\n",
       "      <th>Land</th>\n",
       "      <td>-1.749765</td>\n",
       "      <td>0.342680</td>\n",
       "      <td>1.153036</td>\n",
       "      <td>-0.252436</td>\n",
       "      <td>0.981321</td>\n",
       "    </tr>\n",
       "    <tr>\n",
       "      <th>Seismic</th>\n",
       "      <td>-1.235547</td>\n",
       "      <td>0.563860</td>\n",
       "      <td>0.082992</td>\n",
       "      <td>-0.441932</td>\n",
       "      <td>1.236322</td>\n",
       "    </tr>\n",
       "    <tr>\n",
       "      <th>Geology</th>\n",
       "      <td>-1.693574</td>\n",
       "      <td>0.999024</td>\n",
       "      <td>-0.500603</td>\n",
       "      <td>0.374915</td>\n",
       "      <td>1.909043</td>\n",
       "    </tr>\n",
       "    <tr>\n",
       "      <th>Drilling</th>\n",
       "      <td>-1.797985</td>\n",
       "      <td>0.467743</td>\n",
       "      <td>0.529130</td>\n",
       "      <td>-0.063220</td>\n",
       "      <td>0.790725</td>\n",
       "    </tr>\n",
       "    <tr>\n",
       "      <th>Completions</th>\n",
       "      <td>-0.179003</td>\n",
       "      <td>2.009348</td>\n",
       "      <td>0.277251</td>\n",
       "      <td>-0.905656</td>\n",
       "      <td>0.975243</td>\n",
       "    </tr>\n",
       "    <tr>\n",
       "      <th>Production</th>\n",
       "      <td>0.758079</td>\n",
       "      <td>2.740349</td>\n",
       "      <td>1.638807</td>\n",
       "      <td>-1.231894</td>\n",
       "      <td>1.030919</td>\n",
       "    </tr>\n",
       "    <tr>\n",
       "      <th>Facilities</th>\n",
       "      <td>0.980479</td>\n",
       "      <td>1.297132</td>\n",
       "      <td>0.882455</td>\n",
       "      <td>-0.415440</td>\n",
       "      <td>1.781364</td>\n",
       "    </tr>\n",
       "    <tr>\n",
       "      <th>Midstream</th>\n",
       "      <td>0.524532</td>\n",
       "      <td>2.486754</td>\n",
       "      <td>-0.808162</td>\n",
       "      <td>-1.771839</td>\n",
       "      <td>0.548930</td>\n",
       "    </tr>\n",
       "  </tbody>\n",
       "</table>\n",
       "</div>"
      ],
      "text/plain": [
       "              Cycle_1   Cycle_2   Cycle_3   Cycle_4   Cycle_5\n",
       "Land        -1.749765  0.342680  1.153036 -0.252436  0.981321\n",
       "Seismic     -1.235547  0.563860  0.082992 -0.441932  1.236322\n",
       "Geology     -1.693574  0.999024 -0.500603  0.374915  1.909043\n",
       "Drilling    -1.797985  0.467743  0.529130 -0.063220  0.790725\n",
       "Completions -0.179003  2.009348  0.277251 -0.905656  0.975243\n",
       "Production   0.758079  2.740349  1.638807 -1.231894  1.030919\n",
       "Facilities   0.980479  1.297132  0.882455 -0.415440  1.781364\n",
       "Midstream    0.524532  2.486754 -0.808162 -1.771839  0.548930"
      ]
     },
     "execution_count": 111,
     "metadata": {},
     "output_type": "execute_result"
    }
   ],
   "source": [
    "life_cycle.cumsum()"
   ]
  },
  {
   "cell_type": "code",
   "execution_count": 112,
   "id": "d5a73b76-ffdd-4d5d-88a3-18beac11c7d6",
   "metadata": {},
   "outputs": [
    {
     "data": {
      "text/plain": [
       "Land           0.342680\n",
       "Seismic        0.221180\n",
       "Geology        0.435163\n",
       "Drilling      -0.531280\n",
       "Completions    1.541605\n",
       "Production     0.731000\n",
       "Facilities    -1.443217\n",
       "Midstream      1.189622\n",
       "Name: Cycle_2, dtype: float64"
      ]
     },
     "execution_count": 112,
     "metadata": {},
     "output_type": "execute_result"
    }
   ],
   "source": [
    "life_cycle['Cycle_2']"
   ]
  },
  {
   "cell_type": "code",
   "execution_count": 114,
   "id": "960b628d-b2d2-44b1-97e7-b27550499fa8",
   "metadata": {},
   "outputs": [
    {
     "data": {
      "text/plain": [
       "Land           0.342680\n",
       "Seismic        0.221180\n",
       "Geology        0.435163\n",
       "Drilling      -0.531280\n",
       "Completions    1.541605\n",
       "Production     0.731000\n",
       "Facilities    -1.443217\n",
       "Midstream      1.189622\n",
       "Name: Cycle_2, dtype: float64"
      ]
     },
     "execution_count": 114,
     "metadata": {},
     "output_type": "execute_result"
    }
   ],
   "source": [
    "life_cycle['Cycle_2']"
   ]
  },
  {
   "cell_type": "code",
   "execution_count": 115,
   "id": "4fcfca31-6049-4c0e-9252-144378d50dfc",
   "metadata": {},
   "outputs": [
    {
     "data": {
      "text/plain": [
       "Land           0.342680\n",
       "Seismic        0.221180\n",
       "Geology        0.435163\n",
       "Drilling      -0.531280\n",
       "Completions    1.541605\n",
       "Production     0.731000\n",
       "Facilities    -1.443217\n",
       "Midstream      1.189622\n",
       "Name: Cycle_2, dtype: float64"
      ]
     },
     "execution_count": 115,
     "metadata": {},
     "output_type": "execute_result"
    }
   ],
   "source": [
    "life_cycle.Cycle_2"
   ]
  },
  {
   "cell_type": "code",
   "execution_count": 116,
   "id": "1c816b92-9c87-45f9-85f4-be8050836a95",
   "metadata": {},
   "outputs": [
    {
     "data": {
      "text/html": [
       "<div>\n",
       "<style scoped>\n",
       "    .dataframe tbody tr th:only-of-type {\n",
       "        vertical-align: middle;\n",
       "    }\n",
       "\n",
       "    .dataframe tbody tr th {\n",
       "        vertical-align: top;\n",
       "    }\n",
       "\n",
       "    .dataframe thead th {\n",
       "        text-align: right;\n",
       "    }\n",
       "</style>\n",
       "<table border=\"1\" class=\"dataframe\">\n",
       "  <thead>\n",
       "    <tr style=\"text-align: right;\">\n",
       "      <th></th>\n",
       "      <th>Cycle_2</th>\n",
       "      <th>Cycle_3</th>\n",
       "    </tr>\n",
       "  </thead>\n",
       "  <tbody>\n",
       "    <tr>\n",
       "      <th>Land</th>\n",
       "      <td>0.342680</td>\n",
       "      <td>1.153036</td>\n",
       "    </tr>\n",
       "    <tr>\n",
       "      <th>Seismic</th>\n",
       "      <td>0.221180</td>\n",
       "      <td>-1.070043</td>\n",
       "    </tr>\n",
       "    <tr>\n",
       "      <th>Geology</th>\n",
       "      <td>0.435163</td>\n",
       "      <td>-0.583595</td>\n",
       "    </tr>\n",
       "    <tr>\n",
       "      <th>Drilling</th>\n",
       "      <td>-0.531280</td>\n",
       "      <td>1.029733</td>\n",
       "    </tr>\n",
       "    <tr>\n",
       "      <th>Completions</th>\n",
       "      <td>1.541605</td>\n",
       "      <td>-0.251879</td>\n",
       "    </tr>\n",
       "    <tr>\n",
       "      <th>Production</th>\n",
       "      <td>0.731000</td>\n",
       "      <td>1.361556</td>\n",
       "    </tr>\n",
       "    <tr>\n",
       "      <th>Facilities</th>\n",
       "      <td>-1.443217</td>\n",
       "      <td>-0.756352</td>\n",
       "    </tr>\n",
       "    <tr>\n",
       "      <th>Midstream</th>\n",
       "      <td>1.189622</td>\n",
       "      <td>-1.690617</td>\n",
       "    </tr>\n",
       "  </tbody>\n",
       "</table>\n",
       "</div>"
      ],
      "text/plain": [
       "              Cycle_2   Cycle_3\n",
       "Land         0.342680  1.153036\n",
       "Seismic      0.221180 -1.070043\n",
       "Geology      0.435163 -0.583595\n",
       "Drilling    -0.531280  1.029733\n",
       "Completions  1.541605 -0.251879\n",
       "Production   0.731000  1.361556\n",
       "Facilities  -1.443217 -0.756352\n",
       "Midstream    1.189622 -1.690617"
      ]
     },
     "execution_count": 116,
     "metadata": {},
     "output_type": "execute_result"
    }
   ],
   "source": [
    "life_cycle[['Cycle_2', 'Cycle_3']]"
   ]
  },
  {
   "cell_type": "code",
   "execution_count": 117,
   "id": "ab5b42c9-3c54-4ef1-a7d1-94594cfcb4ba",
   "metadata": {},
   "outputs": [
    {
     "data": {
      "text/plain": [
       "Land           0.474835\n",
       "Seismic       -0.269139\n",
       "Geology        0.883109\n",
       "Drilling      -1.162413\n",
       "Completions    2.250791\n",
       "Production     2.759077\n",
       "Facilities    -0.410271\n",
       "Midstream     -3.545775\n",
       "Name: Cycle_Total, dtype: float64"
      ]
     },
     "execution_count": 117,
     "metadata": {},
     "output_type": "execute_result"
    }
   ],
   "source": [
    "life_cycle['Cycle_Total']=life_cycle['Cycle_1']+life_cycle\\\n",
    "    ['Cycle_2']+life_cycle['Cycle_3']+life_cycle['Cycle_4']+\\\n",
    "    life_cycle['Cycle_5']\n",
    "life_cycle['Cycle_Total']"
   ]
  },
  {
   "cell_type": "code",
   "execution_count": 118,
   "id": "c52a136f-dc2d-4352-9455-4412faddffd8",
   "metadata": {},
   "outputs": [
    {
     "data": {
      "text/plain": [
       "Land          -0.599610\n",
       "Seismic        0.113735\n",
       "Geology       -0.199317\n",
       "Drilling       0.055472\n",
       "Completions    2.495831\n",
       "Production     0.685007\n",
       "Facilities    -0.320971\n",
       "Midstream     -0.542405\n",
       "Name: Cycle_1_2_Mult, dtype: float64"
      ]
     },
     "execution_count": 118,
     "metadata": {},
     "output_type": "execute_result"
    }
   ],
   "source": [
    "life_cycle['Cycle_1_2_Mult']=life_cycle['Cycle_1']*life_cycle['Cycle_2']\n",
    "life_cycle['Cycle_1_2_Mult']"
   ]
  },
  {
   "cell_type": "code",
   "execution_count": 119,
   "id": "adb5e7e6-51ae-48b7-a0bb-2fae6ca48699",
   "metadata": {},
   "outputs": [
    {
     "data": {
      "text/html": [
       "<div>\n",
       "<style scoped>\n",
       "    .dataframe tbody tr th:only-of-type {\n",
       "        vertical-align: middle;\n",
       "    }\n",
       "\n",
       "    .dataframe tbody tr th {\n",
       "        vertical-align: top;\n",
       "    }\n",
       "\n",
       "    .dataframe thead th {\n",
       "        text-align: right;\n",
       "    }\n",
       "</style>\n",
       "<table border=\"1\" class=\"dataframe\">\n",
       "  <thead>\n",
       "    <tr style=\"text-align: right;\">\n",
       "      <th></th>\n",
       "      <th>Cycle_1</th>\n",
       "      <th>Cycle_2</th>\n",
       "      <th>Cycle_3</th>\n",
       "      <th>Cycle_4</th>\n",
       "      <th>Cycle_5</th>\n",
       "      <th>Cycle_Total</th>\n",
       "      <th>Cycle_1_2_Mult</th>\n",
       "    </tr>\n",
       "  </thead>\n",
       "  <tbody>\n",
       "    <tr>\n",
       "      <th>Land</th>\n",
       "      <td>-1.749765</td>\n",
       "      <td>0.342680</td>\n",
       "      <td>1.153036</td>\n",
       "      <td>-0.252436</td>\n",
       "      <td>0.981321</td>\n",
       "      <td>0.474835</td>\n",
       "      <td>-0.599610</td>\n",
       "    </tr>\n",
       "    <tr>\n",
       "      <th>Seismic</th>\n",
       "      <td>0.514219</td>\n",
       "      <td>0.221180</td>\n",
       "      <td>-1.070043</td>\n",
       "      <td>-0.189496</td>\n",
       "      <td>0.255001</td>\n",
       "      <td>-0.269139</td>\n",
       "      <td>0.113735</td>\n",
       "    </tr>\n",
       "    <tr>\n",
       "      <th>Geology</th>\n",
       "      <td>-0.458027</td>\n",
       "      <td>0.435163</td>\n",
       "      <td>-0.583595</td>\n",
       "      <td>0.816847</td>\n",
       "      <td>0.672721</td>\n",
       "      <td>0.883109</td>\n",
       "      <td>-0.199317</td>\n",
       "    </tr>\n",
       "    <tr>\n",
       "      <th>Drilling</th>\n",
       "      <td>-0.104411</td>\n",
       "      <td>-0.531280</td>\n",
       "      <td>1.029733</td>\n",
       "      <td>-0.438136</td>\n",
       "      <td>-1.118318</td>\n",
       "      <td>-1.162413</td>\n",
       "      <td>0.055472</td>\n",
       "    </tr>\n",
       "    <tr>\n",
       "      <th>Completions</th>\n",
       "      <td>1.618982</td>\n",
       "      <td>1.541605</td>\n",
       "      <td>-0.251879</td>\n",
       "      <td>-0.842436</td>\n",
       "      <td>0.184519</td>\n",
       "      <td>2.250791</td>\n",
       "      <td>2.495831</td>\n",
       "    </tr>\n",
       "    <tr>\n",
       "      <th>Production</th>\n",
       "      <td>0.937082</td>\n",
       "      <td>0.731000</td>\n",
       "      <td>1.361556</td>\n",
       "      <td>-0.326238</td>\n",
       "      <td>0.055676</td>\n",
       "      <td>2.759077</td>\n",
       "      <td>0.685007</td>\n",
       "    </tr>\n",
       "    <tr>\n",
       "      <th>Facilities</th>\n",
       "      <td>0.222400</td>\n",
       "      <td>-1.443217</td>\n",
       "      <td>-0.756352</td>\n",
       "      <td>0.816454</td>\n",
       "      <td>0.750445</td>\n",
       "      <td>-0.410271</td>\n",
       "      <td>-0.320971</td>\n",
       "    </tr>\n",
       "    <tr>\n",
       "      <th>Midstream</th>\n",
       "      <td>-0.455947</td>\n",
       "      <td>1.189622</td>\n",
       "      <td>-1.690617</td>\n",
       "      <td>-1.356399</td>\n",
       "      <td>-1.232435</td>\n",
       "      <td>-3.545775</td>\n",
       "      <td>-0.542405</td>\n",
       "    </tr>\n",
       "  </tbody>\n",
       "</table>\n",
       "</div>"
      ],
      "text/plain": [
       "              Cycle_1   Cycle_2   Cycle_3   Cycle_4   Cycle_5  Cycle_Total  \\\n",
       "Land        -1.749765  0.342680  1.153036 -0.252436  0.981321     0.474835   \n",
       "Seismic      0.514219  0.221180 -1.070043 -0.189496  0.255001    -0.269139   \n",
       "Geology     -0.458027  0.435163 -0.583595  0.816847  0.672721     0.883109   \n",
       "Drilling    -0.104411 -0.531280  1.029733 -0.438136 -1.118318    -1.162413   \n",
       "Completions  1.618982  1.541605 -0.251879 -0.842436  0.184519     2.250791   \n",
       "Production   0.937082  0.731000  1.361556 -0.326238  0.055676     2.759077   \n",
       "Facilities   0.222400 -1.443217 -0.756352  0.816454  0.750445    -0.410271   \n",
       "Midstream   -0.455947  1.189622 -1.690617 -1.356399 -1.232435    -3.545775   \n",
       "\n",
       "             Cycle_1_2_Mult  \n",
       "Land              -0.599610  \n",
       "Seismic            0.113735  \n",
       "Geology           -0.199317  \n",
       "Drilling           0.055472  \n",
       "Completions        2.495831  \n",
       "Production         0.685007  \n",
       "Facilities        -0.320971  \n",
       "Midstream         -0.542405  "
      ]
     },
     "execution_count": 119,
     "metadata": {},
     "output_type": "execute_result"
    }
   ],
   "source": [
    "life_cycle"
   ]
  },
  {
   "cell_type": "code",
   "execution_count": 120,
   "id": "591cd999-4655-4b49-a6ee-a54cd7ffc41b",
   "metadata": {},
   "outputs": [
    {
     "data": {
      "text/html": [
       "<div>\n",
       "<style scoped>\n",
       "    .dataframe tbody tr th:only-of-type {\n",
       "        vertical-align: middle;\n",
       "    }\n",
       "\n",
       "    .dataframe tbody tr th {\n",
       "        vertical-align: top;\n",
       "    }\n",
       "\n",
       "    .dataframe thead th {\n",
       "        text-align: right;\n",
       "    }\n",
       "</style>\n",
       "<table border=\"1\" class=\"dataframe\">\n",
       "  <thead>\n",
       "    <tr style=\"text-align: right;\">\n",
       "      <th></th>\n",
       "      <th>Cycle_1</th>\n",
       "      <th>Cycle_2</th>\n",
       "      <th>Cycle_3</th>\n",
       "      <th>Cycle_4</th>\n",
       "      <th>Cycle_5</th>\n",
       "    </tr>\n",
       "  </thead>\n",
       "  <tbody>\n",
       "    <tr>\n",
       "      <th>Land</th>\n",
       "      <td>-1.749765</td>\n",
       "      <td>0.342680</td>\n",
       "      <td>1.153036</td>\n",
       "      <td>-0.252436</td>\n",
       "      <td>0.981321</td>\n",
       "    </tr>\n",
       "    <tr>\n",
       "      <th>Seismic</th>\n",
       "      <td>0.514219</td>\n",
       "      <td>0.221180</td>\n",
       "      <td>-1.070043</td>\n",
       "      <td>-0.189496</td>\n",
       "      <td>0.255001</td>\n",
       "    </tr>\n",
       "    <tr>\n",
       "      <th>Geology</th>\n",
       "      <td>-0.458027</td>\n",
       "      <td>0.435163</td>\n",
       "      <td>-0.583595</td>\n",
       "      <td>0.816847</td>\n",
       "      <td>0.672721</td>\n",
       "    </tr>\n",
       "    <tr>\n",
       "      <th>Drilling</th>\n",
       "      <td>-0.104411</td>\n",
       "      <td>-0.531280</td>\n",
       "      <td>1.029733</td>\n",
       "      <td>-0.438136</td>\n",
       "      <td>-1.118318</td>\n",
       "    </tr>\n",
       "    <tr>\n",
       "      <th>Completions</th>\n",
       "      <td>1.618982</td>\n",
       "      <td>1.541605</td>\n",
       "      <td>-0.251879</td>\n",
       "      <td>-0.842436</td>\n",
       "      <td>0.184519</td>\n",
       "    </tr>\n",
       "    <tr>\n",
       "      <th>Production</th>\n",
       "      <td>0.937082</td>\n",
       "      <td>0.731000</td>\n",
       "      <td>1.361556</td>\n",
       "      <td>-0.326238</td>\n",
       "      <td>0.055676</td>\n",
       "    </tr>\n",
       "    <tr>\n",
       "      <th>Facilities</th>\n",
       "      <td>0.222400</td>\n",
       "      <td>-1.443217</td>\n",
       "      <td>-0.756352</td>\n",
       "      <td>0.816454</td>\n",
       "      <td>0.750445</td>\n",
       "    </tr>\n",
       "    <tr>\n",
       "      <th>Midstream</th>\n",
       "      <td>-0.455947</td>\n",
       "      <td>1.189622</td>\n",
       "      <td>-1.690617</td>\n",
       "      <td>-1.356399</td>\n",
       "      <td>-1.232435</td>\n",
       "    </tr>\n",
       "  </tbody>\n",
       "</table>\n",
       "</div>"
      ],
      "text/plain": [
       "              Cycle_1   Cycle_2   Cycle_3   Cycle_4   Cycle_5\n",
       "Land        -1.749765  0.342680  1.153036 -0.252436  0.981321\n",
       "Seismic      0.514219  0.221180 -1.070043 -0.189496  0.255001\n",
       "Geology     -0.458027  0.435163 -0.583595  0.816847  0.672721\n",
       "Drilling    -0.104411 -0.531280  1.029733 -0.438136 -1.118318\n",
       "Completions  1.618982  1.541605 -0.251879 -0.842436  0.184519\n",
       "Production   0.937082  0.731000  1.361556 -0.326238  0.055676\n",
       "Facilities   0.222400 -1.443217 -0.756352  0.816454  0.750445\n",
       "Midstream   -0.455947  1.189622 -1.690617 -1.356399 -1.232435"
      ]
     },
     "execution_count": 120,
     "metadata": {},
     "output_type": "execute_result"
    }
   ],
   "source": [
    "life_cycle.drop(labels=['Cycle_Total', 'Cycle_1_2_Mult'], axis=1, inplace=True)\n",
    "life_cycle"
   ]
  },
  {
   "cell_type": "code",
   "execution_count": 123,
   "id": "0cd32453-4d72-44d3-bbb1-908ed1f8a82f",
   "metadata": {},
   "outputs": [
    {
     "data": {
      "text/html": [
       "<div>\n",
       "<style scoped>\n",
       "    .dataframe tbody tr th:only-of-type {\n",
       "        vertical-align: middle;\n",
       "    }\n",
       "\n",
       "    .dataframe tbody tr th {\n",
       "        vertical-align: top;\n",
       "    }\n",
       "\n",
       "    .dataframe thead th {\n",
       "        text-align: right;\n",
       "    }\n",
       "</style>\n",
       "<table border=\"1\" class=\"dataframe\">\n",
       "  <thead>\n",
       "    <tr style=\"text-align: right;\">\n",
       "      <th></th>\n",
       "      <th>Cycle_1</th>\n",
       "      <th>Cycle_2</th>\n",
       "      <th>Cycle_3</th>\n",
       "      <th>Cycle_4</th>\n",
       "      <th>Cycle_5</th>\n",
       "    </tr>\n",
       "  </thead>\n",
       "  <tbody>\n",
       "    <tr>\n",
       "      <th>Geology</th>\n",
       "      <td>-0.458027</td>\n",
       "      <td>0.435163</td>\n",
       "      <td>-0.583595</td>\n",
       "      <td>0.816847</td>\n",
       "      <td>0.672721</td>\n",
       "    </tr>\n",
       "    <tr>\n",
       "      <th>Drilling</th>\n",
       "      <td>-0.104411</td>\n",
       "      <td>-0.531280</td>\n",
       "      <td>1.029733</td>\n",
       "      <td>-0.438136</td>\n",
       "      <td>-1.118318</td>\n",
       "    </tr>\n",
       "    <tr>\n",
       "      <th>Completions</th>\n",
       "      <td>1.618982</td>\n",
       "      <td>1.541605</td>\n",
       "      <td>-0.251879</td>\n",
       "      <td>-0.842436</td>\n",
       "      <td>0.184519</td>\n",
       "    </tr>\n",
       "    <tr>\n",
       "      <th>Production</th>\n",
       "      <td>0.937082</td>\n",
       "      <td>0.731000</td>\n",
       "      <td>1.361556</td>\n",
       "      <td>-0.326238</td>\n",
       "      <td>0.055676</td>\n",
       "    </tr>\n",
       "    <tr>\n",
       "      <th>Facilities</th>\n",
       "      <td>0.222400</td>\n",
       "      <td>-1.443217</td>\n",
       "      <td>-0.756352</td>\n",
       "      <td>0.816454</td>\n",
       "      <td>0.750445</td>\n",
       "    </tr>\n",
       "    <tr>\n",
       "      <th>Midstream</th>\n",
       "      <td>-0.455947</td>\n",
       "      <td>1.189622</td>\n",
       "      <td>-1.690617</td>\n",
       "      <td>-1.356399</td>\n",
       "      <td>-1.232435</td>\n",
       "    </tr>\n",
       "  </tbody>\n",
       "</table>\n",
       "</div>"
      ],
      "text/plain": [
       "              Cycle_1   Cycle_2   Cycle_3   Cycle_4   Cycle_5\n",
       "Geology     -0.458027  0.435163 -0.583595  0.816847  0.672721\n",
       "Drilling    -0.104411 -0.531280  1.029733 -0.438136 -1.118318\n",
       "Completions  1.618982  1.541605 -0.251879 -0.842436  0.184519\n",
       "Production   0.937082  0.731000  1.361556 -0.326238  0.055676\n",
       "Facilities   0.222400 -1.443217 -0.756352  0.816454  0.750445\n",
       "Midstream   -0.455947  1.189622 -1.690617 -1.356399 -1.232435"
      ]
     },
     "execution_count": 123,
     "metadata": {},
     "output_type": "execute_result"
    }
   ],
   "source": [
    "life_cycle.drop(labels=['Land', 'Seismic'], axis=0, inplace=True)\n",
    "life_cycle"
   ]
  },
  {
   "cell_type": "markdown",
   "id": "331aae2e-a827-445c-8966-f4621b0feeaf",
   "metadata": {},
   "source": [
    "Loc and iloc"
   ]
  },
  {
   "cell_type": "code",
   "execution_count": 124,
   "id": "85b44402-9168-40a8-aa6e-407a3bee85e1",
   "metadata": {},
   "outputs": [
    {
     "data": {
      "text/html": [
       "<div>\n",
       "<style scoped>\n",
       "    .dataframe tbody tr th:only-of-type {\n",
       "        vertical-align: middle;\n",
       "    }\n",
       "\n",
       "    .dataframe tbody tr th {\n",
       "        vertical-align: top;\n",
       "    }\n",
       "\n",
       "    .dataframe thead th {\n",
       "        text-align: right;\n",
       "    }\n",
       "</style>\n",
       "<table border=\"1\" class=\"dataframe\">\n",
       "  <thead>\n",
       "    <tr style=\"text-align: right;\">\n",
       "      <th></th>\n",
       "      <th>Cycle_1</th>\n",
       "      <th>Cycle_2</th>\n",
       "      <th>Cycle_3</th>\n",
       "      <th>Cycle_4</th>\n",
       "      <th>Cycle_5</th>\n",
       "    </tr>\n",
       "  </thead>\n",
       "  <tbody>\n",
       "    <tr>\n",
       "      <th>0</th>\n",
       "      <td>-1.450948</td>\n",
       "      <td>1.910953</td>\n",
       "      <td>0.711879</td>\n",
       "      <td>-0.247738</td>\n",
       "      <td>0.361466</td>\n",
       "    </tr>\n",
       "    <tr>\n",
       "      <th>1</th>\n",
       "      <td>-0.032950</td>\n",
       "      <td>-0.221347</td>\n",
       "      <td>0.477257</td>\n",
       "      <td>-0.691939</td>\n",
       "      <td>0.792006</td>\n",
       "    </tr>\n",
       "    <tr>\n",
       "      <th>2</th>\n",
       "      <td>0.073249</td>\n",
       "      <td>1.303286</td>\n",
       "      <td>0.213481</td>\n",
       "      <td>1.017349</td>\n",
       "      <td>1.911712</td>\n",
       "    </tr>\n",
       "    <tr>\n",
       "      <th>3</th>\n",
       "      <td>-0.529672</td>\n",
       "      <td>1.842135</td>\n",
       "      <td>-1.057235</td>\n",
       "      <td>-0.862916</td>\n",
       "      <td>0.237631</td>\n",
       "    </tr>\n",
       "    <tr>\n",
       "      <th>4</th>\n",
       "      <td>-1.154182</td>\n",
       "      <td>1.214984</td>\n",
       "      <td>-1.293759</td>\n",
       "      <td>0.822723</td>\n",
       "      <td>-0.332151</td>\n",
       "    </tr>\n",
       "  </tbody>\n",
       "</table>\n",
       "</div>"
      ],
      "text/plain": [
       "    Cycle_1   Cycle_2   Cycle_3   Cycle_4   Cycle_5\n",
       "0 -1.450948  1.910953  0.711879 -0.247738  0.361466\n",
       "1 -0.032950 -0.221347  0.477257 -0.691939  0.792006\n",
       "2  0.073249  1.303286  0.213481  1.017349  1.911712\n",
       "3 -0.529672  1.842135 -1.057235 -0.862916  0.237631\n",
       "4 -1.154182  1.214984 -1.293759  0.822723 -0.332151"
      ]
     },
     "execution_count": 124,
     "metadata": {},
     "output_type": "execute_result"
    }
   ],
   "source": [
    "from numpy.random import randn\n",
    "seed=200\n",
    "np.random.seed(200)\n",
    "matrix=pd.DataFrame(randn(5,5), columns='Cycle_1 Cycle_2 Cycle_3 Cycle_4 Cycle_5'.split())\n",
    "matrix"
   ]
  },
  {
   "cell_type": "code",
   "execution_count": 126,
   "id": "b2ecc0b7-e33c-4f28-a62a-f37c10dbe18c",
   "metadata": {},
   "outputs": [
    {
     "data": {
      "text/html": [
       "<div>\n",
       "<style scoped>\n",
       "    .dataframe tbody tr th:only-of-type {\n",
       "        vertical-align: middle;\n",
       "    }\n",
       "\n",
       "    .dataframe tbody tr th {\n",
       "        vertical-align: top;\n",
       "    }\n",
       "\n",
       "    .dataframe thead th {\n",
       "        text-align: right;\n",
       "    }\n",
       "</style>\n",
       "<table border=\"1\" class=\"dataframe\">\n",
       "  <thead>\n",
       "    <tr style=\"text-align: right;\">\n",
       "      <th></th>\n",
       "      <th>Cycle_1</th>\n",
       "      <th>Cycle_2</th>\n",
       "      <th>Cycle_3</th>\n",
       "      <th>Cycle_4</th>\n",
       "      <th>Cycle_5</th>\n",
       "    </tr>\n",
       "  </thead>\n",
       "  <tbody>\n",
       "    <tr>\n",
       "      <th>0</th>\n",
       "      <td>-1.450948</td>\n",
       "      <td>1.910953</td>\n",
       "      <td>0.711879</td>\n",
       "      <td>-0.247738</td>\n",
       "      <td>0.361466</td>\n",
       "    </tr>\n",
       "    <tr>\n",
       "      <th>1</th>\n",
       "      <td>-0.032950</td>\n",
       "      <td>-0.221347</td>\n",
       "      <td>0.477257</td>\n",
       "      <td>-0.691939</td>\n",
       "      <td>0.792006</td>\n",
       "    </tr>\n",
       "    <tr>\n",
       "      <th>2</th>\n",
       "      <td>0.073249</td>\n",
       "      <td>1.303286</td>\n",
       "      <td>0.213481</td>\n",
       "      <td>1.017349</td>\n",
       "      <td>1.911712</td>\n",
       "    </tr>\n",
       "  </tbody>\n",
       "</table>\n",
       "</div>"
      ],
      "text/plain": [
       "    Cycle_1   Cycle_2   Cycle_3   Cycle_4   Cycle_5\n",
       "0 -1.450948  1.910953  0.711879 -0.247738  0.361466\n",
       "1 -0.032950 -0.221347  0.477257 -0.691939  0.792006\n",
       "2  0.073249  1.303286  0.213481  1.017349  1.911712"
      ]
     },
     "execution_count": 126,
     "metadata": {},
     "output_type": "execute_result"
    }
   ],
   "source": [
    "matrix.loc[0:2,:]"
   ]
  },
  {
   "cell_type": "code",
   "execution_count": 127,
   "id": "ea301c87-669f-4018-96bc-987a8a0ce78b",
   "metadata": {},
   "outputs": [
    {
     "data": {
      "text/html": [
       "<div>\n",
       "<style scoped>\n",
       "    .dataframe tbody tr th:only-of-type {\n",
       "        vertical-align: middle;\n",
       "    }\n",
       "\n",
       "    .dataframe tbody tr th {\n",
       "        vertical-align: top;\n",
       "    }\n",
       "\n",
       "    .dataframe thead th {\n",
       "        text-align: right;\n",
       "    }\n",
       "</style>\n",
       "<table border=\"1\" class=\"dataframe\">\n",
       "  <thead>\n",
       "    <tr style=\"text-align: right;\">\n",
       "      <th></th>\n",
       "      <th>Cycle_1</th>\n",
       "      <th>Cycle_2</th>\n",
       "    </tr>\n",
       "  </thead>\n",
       "  <tbody>\n",
       "    <tr>\n",
       "      <th>0</th>\n",
       "      <td>-1.450948</td>\n",
       "      <td>1.910953</td>\n",
       "    </tr>\n",
       "    <tr>\n",
       "      <th>1</th>\n",
       "      <td>-0.032950</td>\n",
       "      <td>-0.221347</td>\n",
       "    </tr>\n",
       "    <tr>\n",
       "      <th>2</th>\n",
       "      <td>0.073249</td>\n",
       "      <td>1.303286</td>\n",
       "    </tr>\n",
       "    <tr>\n",
       "      <th>3</th>\n",
       "      <td>-0.529672</td>\n",
       "      <td>1.842135</td>\n",
       "    </tr>\n",
       "    <tr>\n",
       "      <th>4</th>\n",
       "      <td>-1.154182</td>\n",
       "      <td>1.214984</td>\n",
       "    </tr>\n",
       "  </tbody>\n",
       "</table>\n",
       "</div>"
      ],
      "text/plain": [
       "    Cycle_1   Cycle_2\n",
       "0 -1.450948  1.910953\n",
       "1 -0.032950 -0.221347\n",
       "2  0.073249  1.303286\n",
       "3 -0.529672  1.842135\n",
       "4 -1.154182  1.214984"
      ]
     },
     "execution_count": 127,
     "metadata": {},
     "output_type": "execute_result"
    }
   ],
   "source": [
    "matrix.loc[:,['Cycle_1', 'Cycle_2']]"
   ]
  },
  {
   "cell_type": "code",
   "execution_count": 129,
   "id": "6ec65894-cac3-47e8-ace0-79b34605bcd7",
   "metadata": {},
   "outputs": [
    {
     "data": {
      "text/html": [
       "<div>\n",
       "<style scoped>\n",
       "    .dataframe tbody tr th:only-of-type {\n",
       "        vertical-align: middle;\n",
       "    }\n",
       "\n",
       "    .dataframe tbody tr th {\n",
       "        vertical-align: top;\n",
       "    }\n",
       "\n",
       "    .dataframe thead th {\n",
       "        text-align: right;\n",
       "    }\n",
       "</style>\n",
       "<table border=\"1\" class=\"dataframe\">\n",
       "  <thead>\n",
       "    <tr style=\"text-align: right;\">\n",
       "      <th></th>\n",
       "      <th>Cycle_3</th>\n",
       "      <th>Cycle_5</th>\n",
       "    </tr>\n",
       "  </thead>\n",
       "  <tbody>\n",
       "    <tr>\n",
       "      <th>0</th>\n",
       "      <td>0.711879</td>\n",
       "      <td>0.361466</td>\n",
       "    </tr>\n",
       "    <tr>\n",
       "      <th>1</th>\n",
       "      <td>0.477257</td>\n",
       "      <td>0.792006</td>\n",
       "    </tr>\n",
       "    <tr>\n",
       "      <th>2</th>\n",
       "      <td>0.213481</td>\n",
       "      <td>1.911712</td>\n",
       "    </tr>\n",
       "    <tr>\n",
       "      <th>3</th>\n",
       "      <td>-1.057235</td>\n",
       "      <td>0.237631</td>\n",
       "    </tr>\n",
       "  </tbody>\n",
       "</table>\n",
       "</div>"
      ],
      "text/plain": [
       "    Cycle_3   Cycle_5\n",
       "0  0.711879  0.361466\n",
       "1  0.477257  0.792006\n",
       "2  0.213481  1.911712\n",
       "3 -1.057235  0.237631"
      ]
     },
     "execution_count": 129,
     "metadata": {},
     "output_type": "execute_result"
    }
   ],
   "source": [
    "matrix.loc[0:3,['Cycle_3', 'Cycle_5']]"
   ]
  },
  {
   "cell_type": "code",
   "execution_count": 130,
   "id": "32aa1dac-1c4d-4283-8c1d-ea36af615355",
   "metadata": {},
   "outputs": [
    {
     "data": {
      "text/html": [
       "<div>\n",
       "<style scoped>\n",
       "    .dataframe tbody tr th:only-of-type {\n",
       "        vertical-align: middle;\n",
       "    }\n",
       "\n",
       "    .dataframe tbody tr th {\n",
       "        vertical-align: top;\n",
       "    }\n",
       "\n",
       "    .dataframe thead th {\n",
       "        text-align: right;\n",
       "    }\n",
       "</style>\n",
       "<table border=\"1\" class=\"dataframe\">\n",
       "  <thead>\n",
       "    <tr style=\"text-align: right;\">\n",
       "      <th></th>\n",
       "      <th>Cycle_1</th>\n",
       "      <th>Cycle_2</th>\n",
       "    </tr>\n",
       "  </thead>\n",
       "  <tbody>\n",
       "    <tr>\n",
       "      <th>0</th>\n",
       "      <td>-1.450948</td>\n",
       "      <td>1.910953</td>\n",
       "    </tr>\n",
       "    <tr>\n",
       "      <th>1</th>\n",
       "      <td>-0.032950</td>\n",
       "      <td>-0.221347</td>\n",
       "    </tr>\n",
       "    <tr>\n",
       "      <th>2</th>\n",
       "      <td>0.073249</td>\n",
       "      <td>1.303286</td>\n",
       "    </tr>\n",
       "    <tr>\n",
       "      <th>3</th>\n",
       "      <td>-0.529672</td>\n",
       "      <td>1.842135</td>\n",
       "    </tr>\n",
       "    <tr>\n",
       "      <th>4</th>\n",
       "      <td>-1.154182</td>\n",
       "      <td>1.214984</td>\n",
       "    </tr>\n",
       "  </tbody>\n",
       "</table>\n",
       "</div>"
      ],
      "text/plain": [
       "    Cycle_1   Cycle_2\n",
       "0 -1.450948  1.910953\n",
       "1 -0.032950 -0.221347\n",
       "2  0.073249  1.303286\n",
       "3 -0.529672  1.842135\n",
       "4 -1.154182  1.214984"
      ]
     },
     "execution_count": 130,
     "metadata": {},
     "output_type": "execute_result"
    }
   ],
   "source": [
    "matrix.iloc[:,0:2]"
   ]
  },
  {
   "cell_type": "code",
   "execution_count": 132,
   "id": "a78c6a59-96d1-4831-8028-c5fe8522b362",
   "metadata": {},
   "outputs": [
    {
     "data": {
      "text/plain": [
       "1.9117117810216346"
      ]
     },
     "execution_count": 132,
     "metadata": {},
     "output_type": "execute_result"
    }
   ],
   "source": [
    "matrix.iloc[2,4]"
   ]
  },
  {
   "cell_type": "code",
   "execution_count": 133,
   "id": "c316a343-86a5-4a09-b4dc-03080dbf5915",
   "metadata": {},
   "outputs": [
    {
     "data": {
      "text/html": [
       "<div>\n",
       "<style scoped>\n",
       "    .dataframe tbody tr th:only-of-type {\n",
       "        vertical-align: middle;\n",
       "    }\n",
       "\n",
       "    .dataframe tbody tr th {\n",
       "        vertical-align: top;\n",
       "    }\n",
       "\n",
       "    .dataframe thead th {\n",
       "        text-align: right;\n",
       "    }\n",
       "</style>\n",
       "<table border=\"1\" class=\"dataframe\">\n",
       "  <thead>\n",
       "    <tr style=\"text-align: right;\">\n",
       "      <th></th>\n",
       "      <th>Cycle_1</th>\n",
       "      <th>Cycle_3</th>\n",
       "      <th>Cycle_5</th>\n",
       "    </tr>\n",
       "  </thead>\n",
       "  <tbody>\n",
       "    <tr>\n",
       "      <th>0</th>\n",
       "      <td>-1.450948</td>\n",
       "      <td>0.711879</td>\n",
       "      <td>0.361466</td>\n",
       "    </tr>\n",
       "    <tr>\n",
       "      <th>2</th>\n",
       "      <td>0.073249</td>\n",
       "      <td>0.213481</td>\n",
       "      <td>1.911712</td>\n",
       "    </tr>\n",
       "    <tr>\n",
       "      <th>4</th>\n",
       "      <td>-1.154182</td>\n",
       "      <td>-1.293759</td>\n",
       "      <td>-0.332151</td>\n",
       "    </tr>\n",
       "  </tbody>\n",
       "</table>\n",
       "</div>"
      ],
      "text/plain": [
       "    Cycle_1   Cycle_3   Cycle_5\n",
       "0 -1.450948  0.711879  0.361466\n",
       "2  0.073249  0.213481  1.911712\n",
       "4 -1.154182 -1.293759 -0.332151"
      ]
     },
     "execution_count": 133,
     "metadata": {},
     "output_type": "execute_result"
    }
   ],
   "source": [
    "matrix.iloc[[0,2,4],[0,2,4]]"
   ]
  },
  {
   "cell_type": "markdown",
   "id": "ef98d8bc-0065-4e39-880d-0189eb3436f9",
   "metadata": {},
   "source": [
    "Conditional selectin"
   ]
  },
  {
   "cell_type": "code",
   "execution_count": 134,
   "id": "fa6384fc-0061-4eb5-9716-a13a986f41dd",
   "metadata": {},
   "outputs": [
    {
     "data": {
      "text/html": [
       "<div>\n",
       "<style scoped>\n",
       "    .dataframe tbody tr th:only-of-type {\n",
       "        vertical-align: middle;\n",
       "    }\n",
       "\n",
       "    .dataframe tbody tr th {\n",
       "        vertical-align: top;\n",
       "    }\n",
       "\n",
       "    .dataframe thead th {\n",
       "        text-align: right;\n",
       "    }\n",
       "</style>\n",
       "<table border=\"1\" class=\"dataframe\">\n",
       "  <thead>\n",
       "    <tr style=\"text-align: right;\">\n",
       "      <th></th>\n",
       "      <th>Drill</th>\n",
       "      <th>No_Drill</th>\n",
       "      <th>Frac</th>\n",
       "      <th>No_Frac</th>\n",
       "    </tr>\n",
       "  </thead>\n",
       "  <tbody>\n",
       "    <tr>\n",
       "      <th>0</th>\n",
       "      <td>-1.130571</td>\n",
       "      <td>0.696200</td>\n",
       "      <td>-0.432293</td>\n",
       "      <td>0.741020</td>\n",
       "    </tr>\n",
       "    <tr>\n",
       "      <th>1</th>\n",
       "      <td>-0.478137</td>\n",
       "      <td>1.386040</td>\n",
       "      <td>0.125180</td>\n",
       "      <td>1.148860</td>\n",
       "    </tr>\n",
       "    <tr>\n",
       "      <th>2</th>\n",
       "      <td>-2.350259</td>\n",
       "      <td>0.183293</td>\n",
       "      <td>-0.311386</td>\n",
       "      <td>-0.294066</td>\n",
       "    </tr>\n",
       "    <tr>\n",
       "      <th>3</th>\n",
       "      <td>0.400061</td>\n",
       "      <td>1.005500</td>\n",
       "      <td>0.501643</td>\n",
       "      <td>-0.000668</td>\n",
       "    </tr>\n",
       "    <tr>\n",
       "      <th>4</th>\n",
       "      <td>1.303972</td>\n",
       "      <td>1.073324</td>\n",
       "      <td>-0.515345</td>\n",
       "      <td>1.662900</td>\n",
       "    </tr>\n",
       "    <tr>\n",
       "      <th>5</th>\n",
       "      <td>0.551817</td>\n",
       "      <td>-0.579494</td>\n",
       "      <td>-0.848800</td>\n",
       "      <td>-0.410862</td>\n",
       "    </tr>\n",
       "    <tr>\n",
       "      <th>6</th>\n",
       "      <td>2.160625</td>\n",
       "      <td>-1.557699</td>\n",
       "      <td>0.134852</td>\n",
       "      <td>0.005454</td>\n",
       "    </tr>\n",
       "    <tr>\n",
       "      <th>7</th>\n",
       "      <td>0.646549</td>\n",
       "      <td>-0.592073</td>\n",
       "      <td>0.551924</td>\n",
       "      <td>1.378349</td>\n",
       "    </tr>\n",
       "  </tbody>\n",
       "</table>\n",
       "</div>"
      ],
      "text/plain": [
       "      Drill  No_Drill      Frac   No_Frac\n",
       "0 -1.130571  0.696200 -0.432293  0.741020\n",
       "1 -0.478137  1.386040  0.125180  1.148860\n",
       "2 -2.350259  0.183293 -0.311386 -0.294066\n",
       "3  0.400061  1.005500  0.501643 -0.000668\n",
       "4  1.303972  1.073324 -0.515345  1.662900\n",
       "5  0.551817 -0.579494 -0.848800 -0.410862\n",
       "6  2.160625 -1.557699  0.134852  0.005454\n",
       "7  0.646549 -0.592073  0.551924  1.378349"
      ]
     },
     "execution_count": 134,
     "metadata": {},
     "output_type": "execute_result"
    }
   ],
   "source": [
    "from numpy.random import randn\n",
    "seed=400\n",
    "np.random.seed(seed)\n",
    "Decision=pd.DataFrame(randn(8,4),columns='Drill No_Drill Frac No_Frac'.split())\n",
    "Decision"
   ]
  },
  {
   "cell_type": "code",
   "execution_count": 135,
   "id": "96206a2a-ab48-4f0b-85ca-41ef4ba75a1d",
   "metadata": {},
   "outputs": [
    {
     "data": {
      "text/html": [
       "<div>\n",
       "<style scoped>\n",
       "    .dataframe tbody tr th:only-of-type {\n",
       "        vertical-align: middle;\n",
       "    }\n",
       "\n",
       "    .dataframe tbody tr th {\n",
       "        vertical-align: top;\n",
       "    }\n",
       "\n",
       "    .dataframe thead th {\n",
       "        text-align: right;\n",
       "    }\n",
       "</style>\n",
       "<table border=\"1\" class=\"dataframe\">\n",
       "  <thead>\n",
       "    <tr style=\"text-align: right;\">\n",
       "      <th></th>\n",
       "      <th>Drill</th>\n",
       "      <th>No_Drill</th>\n",
       "      <th>Frac</th>\n",
       "      <th>No_Frac</th>\n",
       "    </tr>\n",
       "  </thead>\n",
       "  <tbody>\n",
       "    <tr>\n",
       "      <th>0</th>\n",
       "      <td>False</td>\n",
       "      <td>True</td>\n",
       "      <td>False</td>\n",
       "      <td>True</td>\n",
       "    </tr>\n",
       "    <tr>\n",
       "      <th>1</th>\n",
       "      <td>False</td>\n",
       "      <td>True</td>\n",
       "      <td>True</td>\n",
       "      <td>True</td>\n",
       "    </tr>\n",
       "    <tr>\n",
       "      <th>2</th>\n",
       "      <td>False</td>\n",
       "      <td>True</td>\n",
       "      <td>False</td>\n",
       "      <td>False</td>\n",
       "    </tr>\n",
       "    <tr>\n",
       "      <th>3</th>\n",
       "      <td>True</td>\n",
       "      <td>True</td>\n",
       "      <td>True</td>\n",
       "      <td>False</td>\n",
       "    </tr>\n",
       "    <tr>\n",
       "      <th>4</th>\n",
       "      <td>True</td>\n",
       "      <td>True</td>\n",
       "      <td>False</td>\n",
       "      <td>True</td>\n",
       "    </tr>\n",
       "    <tr>\n",
       "      <th>5</th>\n",
       "      <td>True</td>\n",
       "      <td>False</td>\n",
       "      <td>False</td>\n",
       "      <td>False</td>\n",
       "    </tr>\n",
       "    <tr>\n",
       "      <th>6</th>\n",
       "      <td>True</td>\n",
       "      <td>False</td>\n",
       "      <td>True</td>\n",
       "      <td>True</td>\n",
       "    </tr>\n",
       "    <tr>\n",
       "      <th>7</th>\n",
       "      <td>True</td>\n",
       "      <td>False</td>\n",
       "      <td>True</td>\n",
       "      <td>True</td>\n",
       "    </tr>\n",
       "  </tbody>\n",
       "</table>\n",
       "</div>"
      ],
      "text/plain": [
       "   Drill  No_Drill   Frac  No_Frac\n",
       "0  False      True  False     True\n",
       "1  False      True   True     True\n",
       "2  False      True  False    False\n",
       "3   True      True   True    False\n",
       "4   True      True  False     True\n",
       "5   True     False  False    False\n",
       "6   True     False   True     True\n",
       "7   True     False   True     True"
      ]
     },
     "execution_count": 135,
     "metadata": {},
     "output_type": "execute_result"
    }
   ],
   "source": [
    "Decision>0"
   ]
  },
  {
   "cell_type": "code",
   "execution_count": 136,
   "id": "6018b5d9-d826-4356-92a4-f5a760e27c90",
   "metadata": {},
   "outputs": [
    {
     "data": {
      "text/plain": [
       "0    False\n",
       "1    False\n",
       "2    False\n",
       "3     True\n",
       "4     True\n",
       "5     True\n",
       "6     True\n",
       "7     True\n",
       "Name: Drill, dtype: bool"
      ]
     },
     "execution_count": 136,
     "metadata": {},
     "output_type": "execute_result"
    }
   ],
   "source": [
    "Decision['Drill']>0"
   ]
  },
  {
   "cell_type": "code",
   "execution_count": 137,
   "id": "98b23fbf-a546-4c88-a945-8112a5826703",
   "metadata": {},
   "outputs": [
    {
     "data": {
      "text/html": [
       "<div>\n",
       "<style scoped>\n",
       "    .dataframe tbody tr th:only-of-type {\n",
       "        vertical-align: middle;\n",
       "    }\n",
       "\n",
       "    .dataframe tbody tr th {\n",
       "        vertical-align: top;\n",
       "    }\n",
       "\n",
       "    .dataframe thead th {\n",
       "        text-align: right;\n",
       "    }\n",
       "</style>\n",
       "<table border=\"1\" class=\"dataframe\">\n",
       "  <thead>\n",
       "    <tr style=\"text-align: right;\">\n",
       "      <th></th>\n",
       "      <th>Drill</th>\n",
       "      <th>No_Drill</th>\n",
       "      <th>Frac</th>\n",
       "      <th>No_Frac</th>\n",
       "    </tr>\n",
       "  </thead>\n",
       "  <tbody>\n",
       "    <tr>\n",
       "      <th>3</th>\n",
       "      <td>0.400061</td>\n",
       "      <td>1.005500</td>\n",
       "      <td>0.501643</td>\n",
       "      <td>-0.000668</td>\n",
       "    </tr>\n",
       "    <tr>\n",
       "      <th>4</th>\n",
       "      <td>1.303972</td>\n",
       "      <td>1.073324</td>\n",
       "      <td>-0.515345</td>\n",
       "      <td>1.662900</td>\n",
       "    </tr>\n",
       "    <tr>\n",
       "      <th>5</th>\n",
       "      <td>0.551817</td>\n",
       "      <td>-0.579494</td>\n",
       "      <td>-0.848800</td>\n",
       "      <td>-0.410862</td>\n",
       "    </tr>\n",
       "    <tr>\n",
       "      <th>6</th>\n",
       "      <td>2.160625</td>\n",
       "      <td>-1.557699</td>\n",
       "      <td>0.134852</td>\n",
       "      <td>0.005454</td>\n",
       "    </tr>\n",
       "    <tr>\n",
       "      <th>7</th>\n",
       "      <td>0.646549</td>\n",
       "      <td>-0.592073</td>\n",
       "      <td>0.551924</td>\n",
       "      <td>1.378349</td>\n",
       "    </tr>\n",
       "  </tbody>\n",
       "</table>\n",
       "</div>"
      ],
      "text/plain": [
       "      Drill  No_Drill      Frac   No_Frac\n",
       "3  0.400061  1.005500  0.501643 -0.000668\n",
       "4  1.303972  1.073324 -0.515345  1.662900\n",
       "5  0.551817 -0.579494 -0.848800 -0.410862\n",
       "6  2.160625 -1.557699  0.134852  0.005454\n",
       "7  0.646549 -0.592073  0.551924  1.378349"
      ]
     },
     "execution_count": 137,
     "metadata": {},
     "output_type": "execute_result"
    }
   ],
   "source": [
    "Decision[Decision['Drill']>0]"
   ]
  },
  {
   "cell_type": "code",
   "execution_count": 141,
   "id": "d67ff878-ed31-4b18-8c93-add8447b092e",
   "metadata": {},
   "outputs": [
    {
     "data": {
      "text/html": [
       "<div>\n",
       "<style scoped>\n",
       "    .dataframe tbody tr th:only-of-type {\n",
       "        vertical-align: middle;\n",
       "    }\n",
       "\n",
       "    .dataframe tbody tr th {\n",
       "        vertical-align: top;\n",
       "    }\n",
       "\n",
       "    .dataframe thead th {\n",
       "        text-align: right;\n",
       "    }\n",
       "</style>\n",
       "<table border=\"1\" class=\"dataframe\">\n",
       "  <thead>\n",
       "    <tr style=\"text-align: right;\">\n",
       "      <th></th>\n",
       "      <th>Drill</th>\n",
       "      <th>No_Drill</th>\n",
       "      <th>Frac</th>\n",
       "      <th>No_Frac</th>\n",
       "    </tr>\n",
       "  </thead>\n",
       "  <tbody>\n",
       "    <tr>\n",
       "      <th>3</th>\n",
       "      <td>0.400061</td>\n",
       "      <td>1.0055</td>\n",
       "      <td>0.501643</td>\n",
       "      <td>-0.000668</td>\n",
       "    </tr>\n",
       "  </tbody>\n",
       "</table>\n",
       "</div>"
      ],
      "text/plain": [
       "      Drill  No_Drill      Frac   No_Frac\n",
       "3  0.400061    1.0055  0.501643 -0.000668"
      ]
     },
     "execution_count": 141,
     "metadata": {},
     "output_type": "execute_result"
    }
   ],
   "source": [
    "Decision[(Decision['Drill']>0)&(Decision['No_Drill']>0)&(Decision['Frac']>0)&(Decision['No_Frac']<0)]"
   ]
  },
  {
   "cell_type": "markdown",
   "id": "aee52e33-a665-4700-bb01-7213f97549d9",
   "metadata": {},
   "source": [
    "Pandas Groupby"
   ]
  },
  {
   "cell_type": "code",
   "execution_count": 148,
   "id": "74124d20-59d4-4e48-895a-71f2a59e486b",
   "metadata": {},
   "outputs": [
    {
     "data": {
      "text/html": [
       "<div>\n",
       "<style scoped>\n",
       "    .dataframe tbody tr th:only-of-type {\n",
       "        vertical-align: middle;\n",
       "    }\n",
       "\n",
       "    .dataframe tbody tr th {\n",
       "        vertical-align: top;\n",
       "    }\n",
       "\n",
       "    .dataframe thead th {\n",
       "        text-align: right;\n",
       "    }\n",
       "</style>\n",
       "<table border=\"1\" class=\"dataframe\">\n",
       "  <thead>\n",
       "    <tr style=\"text-align: right;\">\n",
       "      <th></th>\n",
       "      <th>Corporation_Name</th>\n",
       "      <th>Sales_Person</th>\n",
       "      <th>Sales_Amount</th>\n",
       "    </tr>\n",
       "  </thead>\n",
       "  <tbody>\n",
       "    <tr>\n",
       "      <th>0</th>\n",
       "      <td>CVX</td>\n",
       "      <td>Adam</td>\n",
       "      <td>2000</td>\n",
       "    </tr>\n",
       "    <tr>\n",
       "      <th>1</th>\n",
       "      <td>EXXON</td>\n",
       "      <td>Alex</td>\n",
       "      <td>5000</td>\n",
       "    </tr>\n",
       "    <tr>\n",
       "      <th>2</th>\n",
       "      <td>CVX</td>\n",
       "      <td>Bruce</td>\n",
       "      <td>10000</td>\n",
       "    </tr>\n",
       "    <tr>\n",
       "      <th>3</th>\n",
       "      <td>EXXON</td>\n",
       "      <td>Jessica</td>\n",
       "      <td>45000</td>\n",
       "    </tr>\n",
       "    <tr>\n",
       "      <th>4</th>\n",
       "      <td>GE</td>\n",
       "      <td>Natalie</td>\n",
       "      <td>60000</td>\n",
       "    </tr>\n",
       "    <tr>\n",
       "      <th>5</th>\n",
       "      <td>GE</td>\n",
       "      <td>Rachel</td>\n",
       "      <td>20000</td>\n",
       "    </tr>\n",
       "  </tbody>\n",
       "</table>\n",
       "</div>"
      ],
      "text/plain": [
       "  Corporation_Name Sales_Person  Sales_Amount\n",
       "0              CVX         Adam          2000\n",
       "1            EXXON         Alex          5000\n",
       "2              CVX        Bruce         10000\n",
       "3            EXXON      Jessica         45000\n",
       "4               GE      Natalie         60000\n",
       "5               GE       Rachel         20000"
      ]
     },
     "execution_count": 148,
     "metadata": {},
     "output_type": "execute_result"
    }
   ],
   "source": [
    "df=pd.DataFrame({'Corporation_Name':['CVX','EXXON','CVX','EXXON','GE','GE'], 'Sales_Person':['Adam','Alex','Bruce',\\\n",
    "                 'Jessica', 'Natalie','Rachel'],'Sales_Amount':[2000,5000,10000,45000,60000,20000]})\n",
    "df"
   ]
  },
  {
   "cell_type": "code",
   "execution_count": 149,
   "id": "50567d42-fb23-435a-a15d-ffb0cedbe36f",
   "metadata": {},
   "outputs": [
    {
     "data": {
      "text/html": [
       "<div>\n",
       "<style scoped>\n",
       "    .dataframe tbody tr th:only-of-type {\n",
       "        vertical-align: middle;\n",
       "    }\n",
       "\n",
       "    .dataframe tbody tr th {\n",
       "        vertical-align: top;\n",
       "    }\n",
       "\n",
       "    .dataframe thead th {\n",
       "        text-align: right;\n",
       "    }\n",
       "</style>\n",
       "<table border=\"1\" class=\"dataframe\">\n",
       "  <thead>\n",
       "    <tr style=\"text-align: right;\">\n",
       "      <th></th>\n",
       "      <th>Sales_Amount</th>\n",
       "    </tr>\n",
       "    <tr>\n",
       "      <th>Corporation_Name</th>\n",
       "      <th></th>\n",
       "    </tr>\n",
       "  </thead>\n",
       "  <tbody>\n",
       "    <tr>\n",
       "      <th>CVX</th>\n",
       "      <td>6000.0</td>\n",
       "    </tr>\n",
       "    <tr>\n",
       "      <th>EXXON</th>\n",
       "      <td>25000.0</td>\n",
       "    </tr>\n",
       "    <tr>\n",
       "      <th>GE</th>\n",
       "      <td>40000.0</td>\n",
       "    </tr>\n",
       "  </tbody>\n",
       "</table>\n",
       "</div>"
      ],
      "text/plain": [
       "                  Sales_Amount\n",
       "Corporation_Name              \n",
       "CVX                     6000.0\n",
       "EXXON                  25000.0\n",
       "GE                     40000.0"
      ]
     },
     "execution_count": 149,
     "metadata": {},
     "output_type": "execute_result"
    }
   ],
   "source": [
    "df_group_by=df.groupby('Corporation_Name')\n",
    "df_group_by.mean(numeric_only=True)"
   ]
  },
  {
   "cell_type": "code",
   "execution_count": 150,
   "id": "9daad2ad-5e87-44a9-9941-cad1fc7d1d14",
   "metadata": {},
   "outputs": [
    {
     "data": {
      "text/html": [
       "<div>\n",
       "<style scoped>\n",
       "    .dataframe tbody tr th:only-of-type {\n",
       "        vertical-align: middle;\n",
       "    }\n",
       "\n",
       "    .dataframe tbody tr th {\n",
       "        vertical-align: top;\n",
       "    }\n",
       "\n",
       "    .dataframe thead th {\n",
       "        text-align: right;\n",
       "    }\n",
       "</style>\n",
       "<table border=\"1\" class=\"dataframe\">\n",
       "  <thead>\n",
       "    <tr style=\"text-align: right;\">\n",
       "      <th></th>\n",
       "      <th>Sales_Amount</th>\n",
       "    </tr>\n",
       "    <tr>\n",
       "      <th>Corporation_Name</th>\n",
       "      <th></th>\n",
       "    </tr>\n",
       "  </thead>\n",
       "  <tbody>\n",
       "    <tr>\n",
       "      <th>CVX</th>\n",
       "      <td>6000.0</td>\n",
       "    </tr>\n",
       "    <tr>\n",
       "      <th>EXXON</th>\n",
       "      <td>25000.0</td>\n",
       "    </tr>\n",
       "    <tr>\n",
       "      <th>GE</th>\n",
       "      <td>40000.0</td>\n",
       "    </tr>\n",
       "  </tbody>\n",
       "</table>\n",
       "</div>"
      ],
      "text/plain": [
       "                  Sales_Amount\n",
       "Corporation_Name              \n",
       "CVX                     6000.0\n",
       "EXXON                  25000.0\n",
       "GE                     40000.0"
      ]
     },
     "execution_count": 150,
     "metadata": {},
     "output_type": "execute_result"
    }
   ],
   "source": [
    "df.groupby('Corporation_Name').mean(numeric_only=True)"
   ]
  },
  {
   "cell_type": "code",
   "execution_count": 152,
   "id": "58c4dbe3-d861-48ec-bc6c-4dfa81c13698",
   "metadata": {},
   "outputs": [
    {
     "data": {
      "text/html": [
       "<div>\n",
       "<style scoped>\n",
       "    .dataframe tbody tr th:only-of-type {\n",
       "        vertical-align: middle;\n",
       "    }\n",
       "\n",
       "    .dataframe tbody tr th {\n",
       "        vertical-align: top;\n",
       "    }\n",
       "\n",
       "    .dataframe thead th {\n",
       "        text-align: right;\n",
       "    }\n",
       "</style>\n",
       "<table border=\"1\" class=\"dataframe\">\n",
       "  <thead>\n",
       "    <tr style=\"text-align: right;\">\n",
       "      <th></th>\n",
       "      <th>Sales_Amount</th>\n",
       "    </tr>\n",
       "    <tr>\n",
       "      <th>Corporation_Name</th>\n",
       "      <th></th>\n",
       "    </tr>\n",
       "  </thead>\n",
       "  <tbody>\n",
       "    <tr>\n",
       "      <th>CVX</th>\n",
       "      <td>5656.854249</td>\n",
       "    </tr>\n",
       "    <tr>\n",
       "      <th>EXXON</th>\n",
       "      <td>28284.271247</td>\n",
       "    </tr>\n",
       "    <tr>\n",
       "      <th>GE</th>\n",
       "      <td>28284.271247</td>\n",
       "    </tr>\n",
       "  </tbody>\n",
       "</table>\n",
       "</div>"
      ],
      "text/plain": [
       "                  Sales_Amount\n",
       "Corporation_Name              \n",
       "CVX                5656.854249\n",
       "EXXON             28284.271247\n",
       "GE                28284.271247"
      ]
     },
     "execution_count": 152,
     "metadata": {},
     "output_type": "execute_result"
    }
   ],
   "source": [
    "df_group_by.std(numeric_only=True)"
   ]
  },
  {
   "cell_type": "code",
   "execution_count": 153,
   "id": "17a44814-704c-411f-8a32-ee6d3b918a52",
   "metadata": {},
   "outputs": [
    {
     "data": {
      "text/html": [
       "<div>\n",
       "<style scoped>\n",
       "    .dataframe tbody tr th:only-of-type {\n",
       "        vertical-align: middle;\n",
       "    }\n",
       "\n",
       "    .dataframe tbody tr th {\n",
       "        vertical-align: top;\n",
       "    }\n",
       "\n",
       "    .dataframe thead th {\n",
       "        text-align: right;\n",
       "    }\n",
       "</style>\n",
       "<table border=\"1\" class=\"dataframe\">\n",
       "  <thead>\n",
       "    <tr style=\"text-align: right;\">\n",
       "      <th></th>\n",
       "      <th>Corporation_Name</th>\n",
       "      <th>CVX</th>\n",
       "      <th>EXXON</th>\n",
       "      <th>GE</th>\n",
       "    </tr>\n",
       "  </thead>\n",
       "  <tbody>\n",
       "    <tr>\n",
       "      <th rowspan=\"8\" valign=\"top\">Sales_Amount</th>\n",
       "      <th>count</th>\n",
       "      <td>2.000000</td>\n",
       "      <td>2.000000</td>\n",
       "      <td>2.000000</td>\n",
       "    </tr>\n",
       "    <tr>\n",
       "      <th>mean</th>\n",
       "      <td>6000.000000</td>\n",
       "      <td>25000.000000</td>\n",
       "      <td>40000.000000</td>\n",
       "    </tr>\n",
       "    <tr>\n",
       "      <th>std</th>\n",
       "      <td>5656.854249</td>\n",
       "      <td>28284.271247</td>\n",
       "      <td>28284.271247</td>\n",
       "    </tr>\n",
       "    <tr>\n",
       "      <th>min</th>\n",
       "      <td>2000.000000</td>\n",
       "      <td>5000.000000</td>\n",
       "      <td>20000.000000</td>\n",
       "    </tr>\n",
       "    <tr>\n",
       "      <th>25%</th>\n",
       "      <td>4000.000000</td>\n",
       "      <td>15000.000000</td>\n",
       "      <td>30000.000000</td>\n",
       "    </tr>\n",
       "    <tr>\n",
       "      <th>50%</th>\n",
       "      <td>6000.000000</td>\n",
       "      <td>25000.000000</td>\n",
       "      <td>40000.000000</td>\n",
       "    </tr>\n",
       "    <tr>\n",
       "      <th>75%</th>\n",
       "      <td>8000.000000</td>\n",
       "      <td>35000.000000</td>\n",
       "      <td>50000.000000</td>\n",
       "    </tr>\n",
       "    <tr>\n",
       "      <th>max</th>\n",
       "      <td>10000.000000</td>\n",
       "      <td>45000.000000</td>\n",
       "      <td>60000.000000</td>\n",
       "    </tr>\n",
       "  </tbody>\n",
       "</table>\n",
       "</div>"
      ],
      "text/plain": [
       "Corporation_Name             CVX         EXXON            GE\n",
       "Sales_Amount count      2.000000      2.000000      2.000000\n",
       "             mean    6000.000000  25000.000000  40000.000000\n",
       "             std     5656.854249  28284.271247  28284.271247\n",
       "             min     2000.000000   5000.000000  20000.000000\n",
       "             25%     4000.000000  15000.000000  30000.000000\n",
       "             50%     6000.000000  25000.000000  40000.000000\n",
       "             75%     8000.000000  35000.000000  50000.000000\n",
       "             max    10000.000000  45000.000000  60000.000000"
      ]
     },
     "execution_count": 153,
     "metadata": {},
     "output_type": "execute_result"
    }
   ],
   "source": [
    "df.groupby('Corporation_Name').describe().transpose()"
   ]
  },
  {
   "cell_type": "markdown",
   "id": "ce85e7d8-577c-47ea-8f8c-0c12caa325c0",
   "metadata": {},
   "source": [
    "Pandas data frame concatenation"
   ]
  },
  {
   "cell_type": "code",
   "execution_count": 155,
   "id": "11c53b36-d1f9-428a-9eaa-e6c88c4d84c7",
   "metadata": {},
   "outputs": [],
   "source": [
    "df1=pd.DataFrame({'A':['H1','H2','H3','H4'],\n",
    "'B':['I1','I2','I3','I4'],'C':['J1','J2','J3','J4'],\n",
    "'D':['K1','K2','K3','K4']}, index=[0,1,2,3])"
   ]
  },
  {
   "cell_type": "code",
   "execution_count": 156,
   "id": "820b9d23-a30b-4d66-8ac2-f6f830ae41d8",
   "metadata": {},
   "outputs": [
    {
     "data": {
      "text/html": [
       "<div>\n",
       "<style scoped>\n",
       "    .dataframe tbody tr th:only-of-type {\n",
       "        vertical-align: middle;\n",
       "    }\n",
       "\n",
       "    .dataframe tbody tr th {\n",
       "        vertical-align: top;\n",
       "    }\n",
       "\n",
       "    .dataframe thead th {\n",
       "        text-align: right;\n",
       "    }\n",
       "</style>\n",
       "<table border=\"1\" class=\"dataframe\">\n",
       "  <thead>\n",
       "    <tr style=\"text-align: right;\">\n",
       "      <th></th>\n",
       "      <th>A</th>\n",
       "      <th>B</th>\n",
       "      <th>C</th>\n",
       "      <th>D</th>\n",
       "    </tr>\n",
       "  </thead>\n",
       "  <tbody>\n",
       "    <tr>\n",
       "      <th>0</th>\n",
       "      <td>H1</td>\n",
       "      <td>I1</td>\n",
       "      <td>J1</td>\n",
       "      <td>K1</td>\n",
       "    </tr>\n",
       "    <tr>\n",
       "      <th>1</th>\n",
       "      <td>H2</td>\n",
       "      <td>I2</td>\n",
       "      <td>J2</td>\n",
       "      <td>K2</td>\n",
       "    </tr>\n",
       "    <tr>\n",
       "      <th>2</th>\n",
       "      <td>H3</td>\n",
       "      <td>I3</td>\n",
       "      <td>J3</td>\n",
       "      <td>K3</td>\n",
       "    </tr>\n",
       "    <tr>\n",
       "      <th>3</th>\n",
       "      <td>H4</td>\n",
       "      <td>I4</td>\n",
       "      <td>J4</td>\n",
       "      <td>K4</td>\n",
       "    </tr>\n",
       "  </tbody>\n",
       "</table>\n",
       "</div>"
      ],
      "text/plain": [
       "    A   B   C   D\n",
       "0  H1  I1  J1  K1\n",
       "1  H2  I2  J2  K2\n",
       "2  H3  I3  J3  K3\n",
       "3  H4  I4  J4  K4"
      ]
     },
     "execution_count": 156,
     "metadata": {},
     "output_type": "execute_result"
    }
   ],
   "source": [
    "df1"
   ]
  },
  {
   "cell_type": "code",
   "execution_count": 157,
   "id": "7f0d07f5-c2b7-4ec1-911b-3285ab43a163",
   "metadata": {},
   "outputs": [],
   "source": [
    "df2=pd.DataFrame({'A':['H5','H6','H7','H8'],\n",
    "'B':['I5','I6','I7','I8'], 'C':['J5','J6','J7','J8'],\n",
    "'D':['K5','K6','K7','K8']}, index=[4,5,6,7])"
   ]
  },
  {
   "cell_type": "code",
   "execution_count": 158,
   "id": "06aedf4f-aa3f-40a7-857a-81b8c29b0633",
   "metadata": {},
   "outputs": [
    {
     "data": {
      "text/html": [
       "<div>\n",
       "<style scoped>\n",
       "    .dataframe tbody tr th:only-of-type {\n",
       "        vertical-align: middle;\n",
       "    }\n",
       "\n",
       "    .dataframe tbody tr th {\n",
       "        vertical-align: top;\n",
       "    }\n",
       "\n",
       "    .dataframe thead th {\n",
       "        text-align: right;\n",
       "    }\n",
       "</style>\n",
       "<table border=\"1\" class=\"dataframe\">\n",
       "  <thead>\n",
       "    <tr style=\"text-align: right;\">\n",
       "      <th></th>\n",
       "      <th>A</th>\n",
       "      <th>B</th>\n",
       "      <th>C</th>\n",
       "      <th>D</th>\n",
       "    </tr>\n",
       "  </thead>\n",
       "  <tbody>\n",
       "    <tr>\n",
       "      <th>4</th>\n",
       "      <td>H5</td>\n",
       "      <td>I5</td>\n",
       "      <td>J5</td>\n",
       "      <td>K5</td>\n",
       "    </tr>\n",
       "    <tr>\n",
       "      <th>5</th>\n",
       "      <td>H6</td>\n",
       "      <td>I6</td>\n",
       "      <td>J6</td>\n",
       "      <td>K6</td>\n",
       "    </tr>\n",
       "    <tr>\n",
       "      <th>6</th>\n",
       "      <td>H7</td>\n",
       "      <td>I7</td>\n",
       "      <td>J7</td>\n",
       "      <td>K7</td>\n",
       "    </tr>\n",
       "    <tr>\n",
       "      <th>7</th>\n",
       "      <td>H8</td>\n",
       "      <td>I8</td>\n",
       "      <td>J8</td>\n",
       "      <td>K8</td>\n",
       "    </tr>\n",
       "  </tbody>\n",
       "</table>\n",
       "</div>"
      ],
      "text/plain": [
       "    A   B   C   D\n",
       "4  H5  I5  J5  K5\n",
       "5  H6  I6  J6  K6\n",
       "6  H7  I7  J7  K7\n",
       "7  H8  I8  J8  K8"
      ]
     },
     "execution_count": 158,
     "metadata": {},
     "output_type": "execute_result"
    }
   ],
   "source": [
    "df2"
   ]
  },
  {
   "cell_type": "code",
   "execution_count": 159,
   "id": "1e0c784b-ff13-4c47-9445-e2fc6e1c9100",
   "metadata": {},
   "outputs": [],
   "source": [
    "df3=pd.DataFrame({'A':['H9','H10','H11','H12'],\n",
    "'B':['I9','I10','I11','I12'],'C':['J9','J10','J11','J12'],\n",
    "'D':['K9','K10','K11','K12'],'E':['L1','L2','L3','L4']},\n",
    "index=[8,9,10,11])"
   ]
  },
  {
   "cell_type": "code",
   "execution_count": 160,
   "id": "d5dbbe94-4c76-40a4-bf24-4221064f1f6e",
   "metadata": {},
   "outputs": [
    {
     "data": {
      "text/html": [
       "<div>\n",
       "<style scoped>\n",
       "    .dataframe tbody tr th:only-of-type {\n",
       "        vertical-align: middle;\n",
       "    }\n",
       "\n",
       "    .dataframe tbody tr th {\n",
       "        vertical-align: top;\n",
       "    }\n",
       "\n",
       "    .dataframe thead th {\n",
       "        text-align: right;\n",
       "    }\n",
       "</style>\n",
       "<table border=\"1\" class=\"dataframe\">\n",
       "  <thead>\n",
       "    <tr style=\"text-align: right;\">\n",
       "      <th></th>\n",
       "      <th>A</th>\n",
       "      <th>B</th>\n",
       "      <th>C</th>\n",
       "      <th>D</th>\n",
       "      <th>E</th>\n",
       "    </tr>\n",
       "  </thead>\n",
       "  <tbody>\n",
       "    <tr>\n",
       "      <th>8</th>\n",
       "      <td>H9</td>\n",
       "      <td>I9</td>\n",
       "      <td>J9</td>\n",
       "      <td>K9</td>\n",
       "      <td>L1</td>\n",
       "    </tr>\n",
       "    <tr>\n",
       "      <th>9</th>\n",
       "      <td>H10</td>\n",
       "      <td>I10</td>\n",
       "      <td>J10</td>\n",
       "      <td>K10</td>\n",
       "      <td>L2</td>\n",
       "    </tr>\n",
       "    <tr>\n",
       "      <th>10</th>\n",
       "      <td>H11</td>\n",
       "      <td>I11</td>\n",
       "      <td>J11</td>\n",
       "      <td>K11</td>\n",
       "      <td>L3</td>\n",
       "    </tr>\n",
       "    <tr>\n",
       "      <th>11</th>\n",
       "      <td>H12</td>\n",
       "      <td>I12</td>\n",
       "      <td>J12</td>\n",
       "      <td>K12</td>\n",
       "      <td>L4</td>\n",
       "    </tr>\n",
       "  </tbody>\n",
       "</table>\n",
       "</div>"
      ],
      "text/plain": [
       "      A    B    C    D   E\n",
       "8    H9   I9   J9   K9  L1\n",
       "9   H10  I10  J10  K10  L2\n",
       "10  H11  I11  J11  K11  L3\n",
       "11  H12  I12  J12  K12  L4"
      ]
     },
     "execution_count": 160,
     "metadata": {},
     "output_type": "execute_result"
    }
   ],
   "source": [
    "df3\n"
   ]
  },
  {
   "cell_type": "code",
   "execution_count": 162,
   "id": "d1189297-4474-4726-b166-e0f66178305b",
   "metadata": {},
   "outputs": [
    {
     "data": {
      "text/html": [
       "<div>\n",
       "<style scoped>\n",
       "    .dataframe tbody tr th:only-of-type {\n",
       "        vertical-align: middle;\n",
       "    }\n",
       "\n",
       "    .dataframe tbody tr th {\n",
       "        vertical-align: top;\n",
       "    }\n",
       "\n",
       "    .dataframe thead th {\n",
       "        text-align: right;\n",
       "    }\n",
       "</style>\n",
       "<table border=\"1\" class=\"dataframe\">\n",
       "  <thead>\n",
       "    <tr style=\"text-align: right;\">\n",
       "      <th></th>\n",
       "      <th>A</th>\n",
       "      <th>B</th>\n",
       "      <th>C</th>\n",
       "      <th>D</th>\n",
       "      <th>E</th>\n",
       "    </tr>\n",
       "  </thead>\n",
       "  <tbody>\n",
       "    <tr>\n",
       "      <th>0</th>\n",
       "      <td>H1</td>\n",
       "      <td>I1</td>\n",
       "      <td>J1</td>\n",
       "      <td>K1</td>\n",
       "      <td>NaN</td>\n",
       "    </tr>\n",
       "    <tr>\n",
       "      <th>1</th>\n",
       "      <td>H2</td>\n",
       "      <td>I2</td>\n",
       "      <td>J2</td>\n",
       "      <td>K2</td>\n",
       "      <td>NaN</td>\n",
       "    </tr>\n",
       "    <tr>\n",
       "      <th>2</th>\n",
       "      <td>H3</td>\n",
       "      <td>I3</td>\n",
       "      <td>J3</td>\n",
       "      <td>K3</td>\n",
       "      <td>NaN</td>\n",
       "    </tr>\n",
       "    <tr>\n",
       "      <th>3</th>\n",
       "      <td>H4</td>\n",
       "      <td>I4</td>\n",
       "      <td>J4</td>\n",
       "      <td>K4</td>\n",
       "      <td>NaN</td>\n",
       "    </tr>\n",
       "    <tr>\n",
       "      <th>4</th>\n",
       "      <td>H5</td>\n",
       "      <td>I5</td>\n",
       "      <td>J5</td>\n",
       "      <td>K5</td>\n",
       "      <td>NaN</td>\n",
       "    </tr>\n",
       "    <tr>\n",
       "      <th>5</th>\n",
       "      <td>H6</td>\n",
       "      <td>I6</td>\n",
       "      <td>J6</td>\n",
       "      <td>K6</td>\n",
       "      <td>NaN</td>\n",
       "    </tr>\n",
       "    <tr>\n",
       "      <th>6</th>\n",
       "      <td>H7</td>\n",
       "      <td>I7</td>\n",
       "      <td>J7</td>\n",
       "      <td>K7</td>\n",
       "      <td>NaN</td>\n",
       "    </tr>\n",
       "    <tr>\n",
       "      <th>7</th>\n",
       "      <td>H8</td>\n",
       "      <td>I8</td>\n",
       "      <td>J8</td>\n",
       "      <td>K8</td>\n",
       "      <td>NaN</td>\n",
       "    </tr>\n",
       "    <tr>\n",
       "      <th>8</th>\n",
       "      <td>H9</td>\n",
       "      <td>I9</td>\n",
       "      <td>J9</td>\n",
       "      <td>K9</td>\n",
       "      <td>L1</td>\n",
       "    </tr>\n",
       "    <tr>\n",
       "      <th>9</th>\n",
       "      <td>H10</td>\n",
       "      <td>I10</td>\n",
       "      <td>J10</td>\n",
       "      <td>K10</td>\n",
       "      <td>L2</td>\n",
       "    </tr>\n",
       "    <tr>\n",
       "      <th>10</th>\n",
       "      <td>H11</td>\n",
       "      <td>I11</td>\n",
       "      <td>J11</td>\n",
       "      <td>K11</td>\n",
       "      <td>L3</td>\n",
       "    </tr>\n",
       "    <tr>\n",
       "      <th>11</th>\n",
       "      <td>H12</td>\n",
       "      <td>I12</td>\n",
       "      <td>J12</td>\n",
       "      <td>K12</td>\n",
       "      <td>L4</td>\n",
       "    </tr>\n",
       "  </tbody>\n",
       "</table>\n",
       "</div>"
      ],
      "text/plain": [
       "      A    B    C    D    E\n",
       "0    H1   I1   J1   K1  NaN\n",
       "1    H2   I2   J2   K2  NaN\n",
       "2    H3   I3   J3   K3  NaN\n",
       "3    H4   I4   J4   K4  NaN\n",
       "4    H5   I5   J5   K5  NaN\n",
       "5    H6   I6   J6   K6  NaN\n",
       "6    H7   I7   J7   K7  NaN\n",
       "7    H8   I8   J8   K8  NaN\n",
       "8    H9   I9   J9   K9   L1\n",
       "9   H10  I10  J10  K10   L2\n",
       "10  H11  I11  J11  K11   L3\n",
       "11  H12  I12  J12  K12   L4"
      ]
     },
     "execution_count": 162,
     "metadata": {},
     "output_type": "execute_result"
    }
   ],
   "source": [
    "pd.concat([df1,df2,df3])"
   ]
  },
  {
   "cell_type": "code",
   "execution_count": 163,
   "id": "5a91e773-43e3-4329-bc05-bb44801be96f",
   "metadata": {},
   "outputs": [
    {
     "data": {
      "text/html": [
       "<div>\n",
       "<style scoped>\n",
       "    .dataframe tbody tr th:only-of-type {\n",
       "        vertical-align: middle;\n",
       "    }\n",
       "\n",
       "    .dataframe tbody tr th {\n",
       "        vertical-align: top;\n",
       "    }\n",
       "\n",
       "    .dataframe thead th {\n",
       "        text-align: right;\n",
       "    }\n",
       "</style>\n",
       "<table border=\"1\" class=\"dataframe\">\n",
       "  <thead>\n",
       "    <tr style=\"text-align: right;\">\n",
       "      <th></th>\n",
       "      <th>A</th>\n",
       "      <th>B</th>\n",
       "      <th>C</th>\n",
       "      <th>D</th>\n",
       "      <th>A</th>\n",
       "      <th>B</th>\n",
       "      <th>C</th>\n",
       "      <th>D</th>\n",
       "      <th>A</th>\n",
       "      <th>B</th>\n",
       "      <th>C</th>\n",
       "      <th>D</th>\n",
       "      <th>E</th>\n",
       "    </tr>\n",
       "  </thead>\n",
       "  <tbody>\n",
       "    <tr>\n",
       "      <th>0</th>\n",
       "      <td>H1</td>\n",
       "      <td>I1</td>\n",
       "      <td>J1</td>\n",
       "      <td>K1</td>\n",
       "      <td>NaN</td>\n",
       "      <td>NaN</td>\n",
       "      <td>NaN</td>\n",
       "      <td>NaN</td>\n",
       "      <td>NaN</td>\n",
       "      <td>NaN</td>\n",
       "      <td>NaN</td>\n",
       "      <td>NaN</td>\n",
       "      <td>NaN</td>\n",
       "    </tr>\n",
       "    <tr>\n",
       "      <th>1</th>\n",
       "      <td>H2</td>\n",
       "      <td>I2</td>\n",
       "      <td>J2</td>\n",
       "      <td>K2</td>\n",
       "      <td>NaN</td>\n",
       "      <td>NaN</td>\n",
       "      <td>NaN</td>\n",
       "      <td>NaN</td>\n",
       "      <td>NaN</td>\n",
       "      <td>NaN</td>\n",
       "      <td>NaN</td>\n",
       "      <td>NaN</td>\n",
       "      <td>NaN</td>\n",
       "    </tr>\n",
       "    <tr>\n",
       "      <th>2</th>\n",
       "      <td>H3</td>\n",
       "      <td>I3</td>\n",
       "      <td>J3</td>\n",
       "      <td>K3</td>\n",
       "      <td>NaN</td>\n",
       "      <td>NaN</td>\n",
       "      <td>NaN</td>\n",
       "      <td>NaN</td>\n",
       "      <td>NaN</td>\n",
       "      <td>NaN</td>\n",
       "      <td>NaN</td>\n",
       "      <td>NaN</td>\n",
       "      <td>NaN</td>\n",
       "    </tr>\n",
       "    <tr>\n",
       "      <th>3</th>\n",
       "      <td>H4</td>\n",
       "      <td>I4</td>\n",
       "      <td>J4</td>\n",
       "      <td>K4</td>\n",
       "      <td>NaN</td>\n",
       "      <td>NaN</td>\n",
       "      <td>NaN</td>\n",
       "      <td>NaN</td>\n",
       "      <td>NaN</td>\n",
       "      <td>NaN</td>\n",
       "      <td>NaN</td>\n",
       "      <td>NaN</td>\n",
       "      <td>NaN</td>\n",
       "    </tr>\n",
       "    <tr>\n",
       "      <th>4</th>\n",
       "      <td>NaN</td>\n",
       "      <td>NaN</td>\n",
       "      <td>NaN</td>\n",
       "      <td>NaN</td>\n",
       "      <td>H5</td>\n",
       "      <td>I5</td>\n",
       "      <td>J5</td>\n",
       "      <td>K5</td>\n",
       "      <td>NaN</td>\n",
       "      <td>NaN</td>\n",
       "      <td>NaN</td>\n",
       "      <td>NaN</td>\n",
       "      <td>NaN</td>\n",
       "    </tr>\n",
       "    <tr>\n",
       "      <th>5</th>\n",
       "      <td>NaN</td>\n",
       "      <td>NaN</td>\n",
       "      <td>NaN</td>\n",
       "      <td>NaN</td>\n",
       "      <td>H6</td>\n",
       "      <td>I6</td>\n",
       "      <td>J6</td>\n",
       "      <td>K6</td>\n",
       "      <td>NaN</td>\n",
       "      <td>NaN</td>\n",
       "      <td>NaN</td>\n",
       "      <td>NaN</td>\n",
       "      <td>NaN</td>\n",
       "    </tr>\n",
       "    <tr>\n",
       "      <th>6</th>\n",
       "      <td>NaN</td>\n",
       "      <td>NaN</td>\n",
       "      <td>NaN</td>\n",
       "      <td>NaN</td>\n",
       "      <td>H7</td>\n",
       "      <td>I7</td>\n",
       "      <td>J7</td>\n",
       "      <td>K7</td>\n",
       "      <td>NaN</td>\n",
       "      <td>NaN</td>\n",
       "      <td>NaN</td>\n",
       "      <td>NaN</td>\n",
       "      <td>NaN</td>\n",
       "    </tr>\n",
       "    <tr>\n",
       "      <th>7</th>\n",
       "      <td>NaN</td>\n",
       "      <td>NaN</td>\n",
       "      <td>NaN</td>\n",
       "      <td>NaN</td>\n",
       "      <td>H8</td>\n",
       "      <td>I8</td>\n",
       "      <td>J8</td>\n",
       "      <td>K8</td>\n",
       "      <td>NaN</td>\n",
       "      <td>NaN</td>\n",
       "      <td>NaN</td>\n",
       "      <td>NaN</td>\n",
       "      <td>NaN</td>\n",
       "    </tr>\n",
       "    <tr>\n",
       "      <th>8</th>\n",
       "      <td>NaN</td>\n",
       "      <td>NaN</td>\n",
       "      <td>NaN</td>\n",
       "      <td>NaN</td>\n",
       "      <td>NaN</td>\n",
       "      <td>NaN</td>\n",
       "      <td>NaN</td>\n",
       "      <td>NaN</td>\n",
       "      <td>H9</td>\n",
       "      <td>I9</td>\n",
       "      <td>J9</td>\n",
       "      <td>K9</td>\n",
       "      <td>L1</td>\n",
       "    </tr>\n",
       "    <tr>\n",
       "      <th>9</th>\n",
       "      <td>NaN</td>\n",
       "      <td>NaN</td>\n",
       "      <td>NaN</td>\n",
       "      <td>NaN</td>\n",
       "      <td>NaN</td>\n",
       "      <td>NaN</td>\n",
       "      <td>NaN</td>\n",
       "      <td>NaN</td>\n",
       "      <td>H10</td>\n",
       "      <td>I10</td>\n",
       "      <td>J10</td>\n",
       "      <td>K10</td>\n",
       "      <td>L2</td>\n",
       "    </tr>\n",
       "    <tr>\n",
       "      <th>10</th>\n",
       "      <td>NaN</td>\n",
       "      <td>NaN</td>\n",
       "      <td>NaN</td>\n",
       "      <td>NaN</td>\n",
       "      <td>NaN</td>\n",
       "      <td>NaN</td>\n",
       "      <td>NaN</td>\n",
       "      <td>NaN</td>\n",
       "      <td>H11</td>\n",
       "      <td>I11</td>\n",
       "      <td>J11</td>\n",
       "      <td>K11</td>\n",
       "      <td>L3</td>\n",
       "    </tr>\n",
       "    <tr>\n",
       "      <th>11</th>\n",
       "      <td>NaN</td>\n",
       "      <td>NaN</td>\n",
       "      <td>NaN</td>\n",
       "      <td>NaN</td>\n",
       "      <td>NaN</td>\n",
       "      <td>NaN</td>\n",
       "      <td>NaN</td>\n",
       "      <td>NaN</td>\n",
       "      <td>H12</td>\n",
       "      <td>I12</td>\n",
       "      <td>J12</td>\n",
       "      <td>K12</td>\n",
       "      <td>L4</td>\n",
       "    </tr>\n",
       "  </tbody>\n",
       "</table>\n",
       "</div>"
      ],
      "text/plain": [
       "      A    B    C    D    A    B    C    D    A    B    C    D    E\n",
       "0    H1   I1   J1   K1  NaN  NaN  NaN  NaN  NaN  NaN  NaN  NaN  NaN\n",
       "1    H2   I2   J2   K2  NaN  NaN  NaN  NaN  NaN  NaN  NaN  NaN  NaN\n",
       "2    H3   I3   J3   K3  NaN  NaN  NaN  NaN  NaN  NaN  NaN  NaN  NaN\n",
       "3    H4   I4   J4   K4  NaN  NaN  NaN  NaN  NaN  NaN  NaN  NaN  NaN\n",
       "4   NaN  NaN  NaN  NaN   H5   I5   J5   K5  NaN  NaN  NaN  NaN  NaN\n",
       "5   NaN  NaN  NaN  NaN   H6   I6   J6   K6  NaN  NaN  NaN  NaN  NaN\n",
       "6   NaN  NaN  NaN  NaN   H7   I7   J7   K7  NaN  NaN  NaN  NaN  NaN\n",
       "7   NaN  NaN  NaN  NaN   H8   I8   J8   K8  NaN  NaN  NaN  NaN  NaN\n",
       "8   NaN  NaN  NaN  NaN  NaN  NaN  NaN  NaN   H9   I9   J9   K9   L1\n",
       "9   NaN  NaN  NaN  NaN  NaN  NaN  NaN  NaN  H10  I10  J10  K10   L2\n",
       "10  NaN  NaN  NaN  NaN  NaN  NaN  NaN  NaN  H11  I11  J11  K11   L3\n",
       "11  NaN  NaN  NaN  NaN  NaN  NaN  NaN  NaN  H12  I12  J12  K12   L4"
      ]
     },
     "execution_count": 163,
     "metadata": {},
     "output_type": "execute_result"
    }
   ],
   "source": [
    "pd.concat([df1,df2,df3], axis=1)"
   ]
  },
  {
   "cell_type": "code",
   "execution_count": 164,
   "id": "5b0324d7-489f-489d-b7c3-7a6b975cf41e",
   "metadata": {},
   "outputs": [],
   "source": [
    "test1=pd.DataFrame({'A':['X1','X2','X3','X4'],\n",
    "'B':['Y1','Y2','Y3','Y4'], 'unique_ID':['Z1','Z2','Z3',\n",
    "'Z5'],})\n",
    "test2=pd.DataFrame({'C':['L1','L2','L3','L4'],\n",
    "'D':['M1','M2','M3','M4'], 'unique_ID':['Z1','Z2','Z3','Z6']})\n"
   ]
  },
  {
   "cell_type": "code",
   "execution_count": 165,
   "id": "bbc967d9-fe08-428c-869a-e3389dafa219",
   "metadata": {},
   "outputs": [
    {
     "data": {
      "text/html": [
       "<div>\n",
       "<style scoped>\n",
       "    .dataframe tbody tr th:only-of-type {\n",
       "        vertical-align: middle;\n",
       "    }\n",
       "\n",
       "    .dataframe tbody tr th {\n",
       "        vertical-align: top;\n",
       "    }\n",
       "\n",
       "    .dataframe thead th {\n",
       "        text-align: right;\n",
       "    }\n",
       "</style>\n",
       "<table border=\"1\" class=\"dataframe\">\n",
       "  <thead>\n",
       "    <tr style=\"text-align: right;\">\n",
       "      <th></th>\n",
       "      <th>A</th>\n",
       "      <th>B</th>\n",
       "      <th>unique_ID</th>\n",
       "    </tr>\n",
       "  </thead>\n",
       "  <tbody>\n",
       "    <tr>\n",
       "      <th>0</th>\n",
       "      <td>X1</td>\n",
       "      <td>Y1</td>\n",
       "      <td>Z1</td>\n",
       "    </tr>\n",
       "    <tr>\n",
       "      <th>1</th>\n",
       "      <td>X2</td>\n",
       "      <td>Y2</td>\n",
       "      <td>Z2</td>\n",
       "    </tr>\n",
       "    <tr>\n",
       "      <th>2</th>\n",
       "      <td>X3</td>\n",
       "      <td>Y3</td>\n",
       "      <td>Z3</td>\n",
       "    </tr>\n",
       "    <tr>\n",
       "      <th>3</th>\n",
       "      <td>X4</td>\n",
       "      <td>Y4</td>\n",
       "      <td>Z5</td>\n",
       "    </tr>\n",
       "  </tbody>\n",
       "</table>\n",
       "</div>"
      ],
      "text/plain": [
       "    A   B unique_ID\n",
       "0  X1  Y1        Z1\n",
       "1  X2  Y2        Z2\n",
       "2  X3  Y3        Z3\n",
       "3  X4  Y4        Z5"
      ]
     },
     "execution_count": 165,
     "metadata": {},
     "output_type": "execute_result"
    }
   ],
   "source": [
    "test1"
   ]
  },
  {
   "cell_type": "code",
   "execution_count": 166,
   "id": "cda0aa61-4de1-407e-8e06-f1985a60822e",
   "metadata": {},
   "outputs": [
    {
     "data": {
      "text/html": [
       "<div>\n",
       "<style scoped>\n",
       "    .dataframe tbody tr th:only-of-type {\n",
       "        vertical-align: middle;\n",
       "    }\n",
       "\n",
       "    .dataframe tbody tr th {\n",
       "        vertical-align: top;\n",
       "    }\n",
       "\n",
       "    .dataframe thead th {\n",
       "        text-align: right;\n",
       "    }\n",
       "</style>\n",
       "<table border=\"1\" class=\"dataframe\">\n",
       "  <thead>\n",
       "    <tr style=\"text-align: right;\">\n",
       "      <th></th>\n",
       "      <th>C</th>\n",
       "      <th>D</th>\n",
       "      <th>unique_ID</th>\n",
       "    </tr>\n",
       "  </thead>\n",
       "  <tbody>\n",
       "    <tr>\n",
       "      <th>0</th>\n",
       "      <td>L1</td>\n",
       "      <td>M1</td>\n",
       "      <td>Z1</td>\n",
       "    </tr>\n",
       "    <tr>\n",
       "      <th>1</th>\n",
       "      <td>L2</td>\n",
       "      <td>M2</td>\n",
       "      <td>Z2</td>\n",
       "    </tr>\n",
       "    <tr>\n",
       "      <th>2</th>\n",
       "      <td>L3</td>\n",
       "      <td>M3</td>\n",
       "      <td>Z3</td>\n",
       "    </tr>\n",
       "    <tr>\n",
       "      <th>3</th>\n",
       "      <td>L4</td>\n",
       "      <td>M4</td>\n",
       "      <td>Z6</td>\n",
       "    </tr>\n",
       "  </tbody>\n",
       "</table>\n",
       "</div>"
      ],
      "text/plain": [
       "    C   D unique_ID\n",
       "0  L1  M1        Z1\n",
       "1  L2  M2        Z2\n",
       "2  L3  M3        Z3\n",
       "3  L4  M4        Z6"
      ]
     },
     "execution_count": 166,
     "metadata": {},
     "output_type": "execute_result"
    }
   ],
   "source": [
    "test2"
   ]
  },
  {
   "cell_type": "code",
   "execution_count": 167,
   "id": "571d6bb7-1809-429f-8e29-a1b95a63de6c",
   "metadata": {},
   "outputs": [
    {
     "data": {
      "text/html": [
       "<div>\n",
       "<style scoped>\n",
       "    .dataframe tbody tr th:only-of-type {\n",
       "        vertical-align: middle;\n",
       "    }\n",
       "\n",
       "    .dataframe tbody tr th {\n",
       "        vertical-align: top;\n",
       "    }\n",
       "\n",
       "    .dataframe thead th {\n",
       "        text-align: right;\n",
       "    }\n",
       "</style>\n",
       "<table border=\"1\" class=\"dataframe\">\n",
       "  <thead>\n",
       "    <tr style=\"text-align: right;\">\n",
       "      <th></th>\n",
       "      <th>A</th>\n",
       "      <th>B</th>\n",
       "      <th>unique_ID</th>\n",
       "      <th>C</th>\n",
       "      <th>D</th>\n",
       "    </tr>\n",
       "  </thead>\n",
       "  <tbody>\n",
       "    <tr>\n",
       "      <th>0</th>\n",
       "      <td>X1</td>\n",
       "      <td>Y1</td>\n",
       "      <td>Z1</td>\n",
       "      <td>L1</td>\n",
       "      <td>M1</td>\n",
       "    </tr>\n",
       "    <tr>\n",
       "      <th>1</th>\n",
       "      <td>X2</td>\n",
       "      <td>Y2</td>\n",
       "      <td>Z2</td>\n",
       "      <td>L2</td>\n",
       "      <td>M2</td>\n",
       "    </tr>\n",
       "    <tr>\n",
       "      <th>2</th>\n",
       "      <td>X3</td>\n",
       "      <td>Y3</td>\n",
       "      <td>Z3</td>\n",
       "      <td>L3</td>\n",
       "      <td>M3</td>\n",
       "    </tr>\n",
       "  </tbody>\n",
       "</table>\n",
       "</div>"
      ],
      "text/plain": [
       "    A   B unique_ID   C   D\n",
       "0  X1  Y1        Z1  L1  M1\n",
       "1  X2  Y2        Z2  L2  M2\n",
       "2  X3  Y3        Z3  L3  M3"
      ]
     },
     "execution_count": 167,
     "metadata": {},
     "output_type": "execute_result"
    }
   ],
   "source": [
    "pd.merge(test1,test2, on='unique_ID', how='inner')"
   ]
  },
  {
   "cell_type": "code",
   "execution_count": 168,
   "id": "2b06ed99-4130-463a-ad20-5f86bc8c76bb",
   "metadata": {},
   "outputs": [
    {
     "data": {
      "text/html": [
       "<div>\n",
       "<style scoped>\n",
       "    .dataframe tbody tr th:only-of-type {\n",
       "        vertical-align: middle;\n",
       "    }\n",
       "\n",
       "    .dataframe tbody tr th {\n",
       "        vertical-align: top;\n",
       "    }\n",
       "\n",
       "    .dataframe thead th {\n",
       "        text-align: right;\n",
       "    }\n",
       "</style>\n",
       "<table border=\"1\" class=\"dataframe\">\n",
       "  <thead>\n",
       "    <tr style=\"text-align: right;\">\n",
       "      <th></th>\n",
       "      <th>A</th>\n",
       "      <th>B</th>\n",
       "      <th>unique_ID</th>\n",
       "      <th>C</th>\n",
       "      <th>D</th>\n",
       "    </tr>\n",
       "  </thead>\n",
       "  <tbody>\n",
       "    <tr>\n",
       "      <th>0</th>\n",
       "      <td>X1</td>\n",
       "      <td>Y1</td>\n",
       "      <td>Z1</td>\n",
       "      <td>L1</td>\n",
       "      <td>M1</td>\n",
       "    </tr>\n",
       "    <tr>\n",
       "      <th>1</th>\n",
       "      <td>X2</td>\n",
       "      <td>Y2</td>\n",
       "      <td>Z2</td>\n",
       "      <td>L2</td>\n",
       "      <td>M2</td>\n",
       "    </tr>\n",
       "    <tr>\n",
       "      <th>2</th>\n",
       "      <td>X3</td>\n",
       "      <td>Y3</td>\n",
       "      <td>Z3</td>\n",
       "      <td>L3</td>\n",
       "      <td>M3</td>\n",
       "    </tr>\n",
       "    <tr>\n",
       "      <th>3</th>\n",
       "      <td>X4</td>\n",
       "      <td>Y4</td>\n",
       "      <td>Z5</td>\n",
       "      <td>NaN</td>\n",
       "      <td>NaN</td>\n",
       "    </tr>\n",
       "    <tr>\n",
       "      <th>4</th>\n",
       "      <td>NaN</td>\n",
       "      <td>NaN</td>\n",
       "      <td>Z6</td>\n",
       "      <td>L4</td>\n",
       "      <td>M4</td>\n",
       "    </tr>\n",
       "  </tbody>\n",
       "</table>\n",
       "</div>"
      ],
      "text/plain": [
       "     A    B unique_ID    C    D\n",
       "0   X1   Y1        Z1   L1   M1\n",
       "1   X2   Y2        Z2   L2   M2\n",
       "2   X3   Y3        Z3   L3   M3\n",
       "3   X4   Y4        Z5  NaN  NaN\n",
       "4  NaN  NaN        Z6   L4   M4"
      ]
     },
     "execution_count": 168,
     "metadata": {},
     "output_type": "execute_result"
    }
   ],
   "source": [
    "pd.merge(test1,test2, on='unique_ID', how='outer')"
   ]
  },
  {
   "cell_type": "code",
   "execution_count": 169,
   "id": "593580a5-bfdb-428e-8ceb-324129e1f176",
   "metadata": {},
   "outputs": [],
   "source": [
    "test3=pd.DataFrame({'A':['X1','X2','X3','X4'],'B':['Y1','Y2','Y3','Y4'],\n",
    "'unique_ID_1':['Z1','Z2','Z5','Z6'],\n",
    "'unique_ID_2':['N1','N2','N6','N7']})"
   ]
  },
  {
   "cell_type": "code",
   "execution_count": 170,
   "id": "628e2ac7-a8c1-49c4-b772-8a12262b52ae",
   "metadata": {},
   "outputs": [],
   "source": [
    "test4=pd.DataFrame({'C':['L1','L2','L3','L4'],'D':['M1','M2',\n",
    "'M3','M4'],'unique_ID_1':['Z1','Z2','Z9','Z10'],\n",
    "'unique_ID_2':['N1','N2','N11','N12']})"
   ]
  },
  {
   "cell_type": "code",
   "execution_count": 171,
   "id": "64a6f4c0-e4a4-4d07-b6ed-26c1b6972038",
   "metadata": {},
   "outputs": [
    {
     "data": {
      "text/html": [
       "<div>\n",
       "<style scoped>\n",
       "    .dataframe tbody tr th:only-of-type {\n",
       "        vertical-align: middle;\n",
       "    }\n",
       "\n",
       "    .dataframe tbody tr th {\n",
       "        vertical-align: top;\n",
       "    }\n",
       "\n",
       "    .dataframe thead th {\n",
       "        text-align: right;\n",
       "    }\n",
       "</style>\n",
       "<table border=\"1\" class=\"dataframe\">\n",
       "  <thead>\n",
       "    <tr style=\"text-align: right;\">\n",
       "      <th></th>\n",
       "      <th>A</th>\n",
       "      <th>B</th>\n",
       "      <th>unique_ID_1</th>\n",
       "      <th>unique_ID_2</th>\n",
       "    </tr>\n",
       "  </thead>\n",
       "  <tbody>\n",
       "    <tr>\n",
       "      <th>0</th>\n",
       "      <td>X1</td>\n",
       "      <td>Y1</td>\n",
       "      <td>Z1</td>\n",
       "      <td>N1</td>\n",
       "    </tr>\n",
       "    <tr>\n",
       "      <th>1</th>\n",
       "      <td>X2</td>\n",
       "      <td>Y2</td>\n",
       "      <td>Z2</td>\n",
       "      <td>N2</td>\n",
       "    </tr>\n",
       "    <tr>\n",
       "      <th>2</th>\n",
       "      <td>X3</td>\n",
       "      <td>Y3</td>\n",
       "      <td>Z5</td>\n",
       "      <td>N6</td>\n",
       "    </tr>\n",
       "    <tr>\n",
       "      <th>3</th>\n",
       "      <td>X4</td>\n",
       "      <td>Y4</td>\n",
       "      <td>Z6</td>\n",
       "      <td>N7</td>\n",
       "    </tr>\n",
       "  </tbody>\n",
       "</table>\n",
       "</div>"
      ],
      "text/plain": [
       "    A   B unique_ID_1 unique_ID_2\n",
       "0  X1  Y1          Z1          N1\n",
       "1  X2  Y2          Z2          N2\n",
       "2  X3  Y3          Z5          N6\n",
       "3  X4  Y4          Z6          N7"
      ]
     },
     "execution_count": 171,
     "metadata": {},
     "output_type": "execute_result"
    }
   ],
   "source": [
    "test3"
   ]
  },
  {
   "cell_type": "code",
   "execution_count": 172,
   "id": "8c7023b9-acec-45b7-917c-431069125039",
   "metadata": {},
   "outputs": [
    {
     "data": {
      "text/html": [
       "<div>\n",
       "<style scoped>\n",
       "    .dataframe tbody tr th:only-of-type {\n",
       "        vertical-align: middle;\n",
       "    }\n",
       "\n",
       "    .dataframe tbody tr th {\n",
       "        vertical-align: top;\n",
       "    }\n",
       "\n",
       "    .dataframe thead th {\n",
       "        text-align: right;\n",
       "    }\n",
       "</style>\n",
       "<table border=\"1\" class=\"dataframe\">\n",
       "  <thead>\n",
       "    <tr style=\"text-align: right;\">\n",
       "      <th></th>\n",
       "      <th>C</th>\n",
       "      <th>D</th>\n",
       "      <th>unique_ID_1</th>\n",
       "      <th>unique_ID_2</th>\n",
       "    </tr>\n",
       "  </thead>\n",
       "  <tbody>\n",
       "    <tr>\n",
       "      <th>0</th>\n",
       "      <td>L1</td>\n",
       "      <td>M1</td>\n",
       "      <td>Z1</td>\n",
       "      <td>N1</td>\n",
       "    </tr>\n",
       "    <tr>\n",
       "      <th>1</th>\n",
       "      <td>L2</td>\n",
       "      <td>M2</td>\n",
       "      <td>Z2</td>\n",
       "      <td>N2</td>\n",
       "    </tr>\n",
       "    <tr>\n",
       "      <th>2</th>\n",
       "      <td>L3</td>\n",
       "      <td>M3</td>\n",
       "      <td>Z9</td>\n",
       "      <td>N11</td>\n",
       "    </tr>\n",
       "    <tr>\n",
       "      <th>3</th>\n",
       "      <td>L4</td>\n",
       "      <td>M4</td>\n",
       "      <td>Z10</td>\n",
       "      <td>N12</td>\n",
       "    </tr>\n",
       "  </tbody>\n",
       "</table>\n",
       "</div>"
      ],
      "text/plain": [
       "    C   D unique_ID_1 unique_ID_2\n",
       "0  L1  M1          Z1          N1\n",
       "1  L2  M2          Z2          N2\n",
       "2  L3  M3          Z9         N11\n",
       "3  L4  M4         Z10         N12"
      ]
     },
     "execution_count": 172,
     "metadata": {},
     "output_type": "execute_result"
    }
   ],
   "source": [
    "test4"
   ]
  },
  {
   "cell_type": "code",
   "execution_count": 173,
   "id": "592c4fab-6f29-46a0-adfb-dbcf8a641873",
   "metadata": {},
   "outputs": [
    {
     "data": {
      "text/html": [
       "<div>\n",
       "<style scoped>\n",
       "    .dataframe tbody tr th:only-of-type {\n",
       "        vertical-align: middle;\n",
       "    }\n",
       "\n",
       "    .dataframe tbody tr th {\n",
       "        vertical-align: top;\n",
       "    }\n",
       "\n",
       "    .dataframe thead th {\n",
       "        text-align: right;\n",
       "    }\n",
       "</style>\n",
       "<table border=\"1\" class=\"dataframe\">\n",
       "  <thead>\n",
       "    <tr style=\"text-align: right;\">\n",
       "      <th></th>\n",
       "      <th>A</th>\n",
       "      <th>B</th>\n",
       "      <th>unique_ID_1</th>\n",
       "      <th>unique_ID_2</th>\n",
       "      <th>C</th>\n",
       "      <th>D</th>\n",
       "    </tr>\n",
       "  </thead>\n",
       "  <tbody>\n",
       "    <tr>\n",
       "      <th>0</th>\n",
       "      <td>X1</td>\n",
       "      <td>Y1</td>\n",
       "      <td>Z1</td>\n",
       "      <td>N1</td>\n",
       "      <td>L1</td>\n",
       "      <td>M1</td>\n",
       "    </tr>\n",
       "    <tr>\n",
       "      <th>1</th>\n",
       "      <td>X2</td>\n",
       "      <td>Y2</td>\n",
       "      <td>Z2</td>\n",
       "      <td>N2</td>\n",
       "      <td>L2</td>\n",
       "      <td>M2</td>\n",
       "    </tr>\n",
       "  </tbody>\n",
       "</table>\n",
       "</div>"
      ],
      "text/plain": [
       "    A   B unique_ID_1 unique_ID_2   C   D\n",
       "0  X1  Y1          Z1          N1  L1  M1\n",
       "1  X2  Y2          Z2          N2  L2  M2"
      ]
     },
     "execution_count": 173,
     "metadata": {},
     "output_type": "execute_result"
    }
   ],
   "source": [
    "pd.merge(test3, test4, on=['unique_ID_1','unique_ID_2'], how='inner')"
   ]
  },
  {
   "cell_type": "markdown",
   "id": "6bb84ced-d350-4bac-a74d-d4c41b3d5fe2",
   "metadata": {},
   "source": [
    "Pandas Joining"
   ]
  },
  {
   "cell_type": "code",
   "execution_count": 176,
   "id": "43ac6f5e-8f82-4ede-9501-c6516588442b",
   "metadata": {},
   "outputs": [],
   "source": [
    "test5=pd.DataFrame({'A':['X1','X2','X3','X4'],\n",
    "'B':['Y1','Y2','Y3','Y4']}, index=['H1','H2','H3','H4'])\n",
    "test6=pd.DataFrame({'C':['X1','X2','X3','X4'],\n",
    "'D':['Y1','Y2','Y3','Y4']}, index=['H2','H3','H1','H0'])\n"
   ]
  },
  {
   "cell_type": "code",
   "execution_count": 177,
   "id": "bc38a92d-bf38-4855-b47d-cd86c19cc3f2",
   "metadata": {},
   "outputs": [
    {
     "data": {
      "text/html": [
       "<div>\n",
       "<style scoped>\n",
       "    .dataframe tbody tr th:only-of-type {\n",
       "        vertical-align: middle;\n",
       "    }\n",
       "\n",
       "    .dataframe tbody tr th {\n",
       "        vertical-align: top;\n",
       "    }\n",
       "\n",
       "    .dataframe thead th {\n",
       "        text-align: right;\n",
       "    }\n",
       "</style>\n",
       "<table border=\"1\" class=\"dataframe\">\n",
       "  <thead>\n",
       "    <tr style=\"text-align: right;\">\n",
       "      <th></th>\n",
       "      <th>A</th>\n",
       "      <th>B</th>\n",
       "    </tr>\n",
       "  </thead>\n",
       "  <tbody>\n",
       "    <tr>\n",
       "      <th>H1</th>\n",
       "      <td>X1</td>\n",
       "      <td>Y1</td>\n",
       "    </tr>\n",
       "    <tr>\n",
       "      <th>H2</th>\n",
       "      <td>X2</td>\n",
       "      <td>Y2</td>\n",
       "    </tr>\n",
       "    <tr>\n",
       "      <th>H3</th>\n",
       "      <td>X3</td>\n",
       "      <td>Y3</td>\n",
       "    </tr>\n",
       "    <tr>\n",
       "      <th>H4</th>\n",
       "      <td>X4</td>\n",
       "      <td>Y4</td>\n",
       "    </tr>\n",
       "  </tbody>\n",
       "</table>\n",
       "</div>"
      ],
      "text/plain": [
       "     A   B\n",
       "H1  X1  Y1\n",
       "H2  X2  Y2\n",
       "H3  X3  Y3\n",
       "H4  X4  Y4"
      ]
     },
     "execution_count": 177,
     "metadata": {},
     "output_type": "execute_result"
    }
   ],
   "source": [
    "test5\n"
   ]
  },
  {
   "cell_type": "code",
   "execution_count": 178,
   "id": "5ad20ffc-53eb-4740-ae5c-a90ac2272cc3",
   "metadata": {},
   "outputs": [
    {
     "data": {
      "text/html": [
       "<div>\n",
       "<style scoped>\n",
       "    .dataframe tbody tr th:only-of-type {\n",
       "        vertical-align: middle;\n",
       "    }\n",
       "\n",
       "    .dataframe tbody tr th {\n",
       "        vertical-align: top;\n",
       "    }\n",
       "\n",
       "    .dataframe thead th {\n",
       "        text-align: right;\n",
       "    }\n",
       "</style>\n",
       "<table border=\"1\" class=\"dataframe\">\n",
       "  <thead>\n",
       "    <tr style=\"text-align: right;\">\n",
       "      <th></th>\n",
       "      <th>C</th>\n",
       "      <th>D</th>\n",
       "    </tr>\n",
       "  </thead>\n",
       "  <tbody>\n",
       "    <tr>\n",
       "      <th>H2</th>\n",
       "      <td>X1</td>\n",
       "      <td>Y1</td>\n",
       "    </tr>\n",
       "    <tr>\n",
       "      <th>H3</th>\n",
       "      <td>X2</td>\n",
       "      <td>Y2</td>\n",
       "    </tr>\n",
       "    <tr>\n",
       "      <th>H1</th>\n",
       "      <td>X3</td>\n",
       "      <td>Y3</td>\n",
       "    </tr>\n",
       "    <tr>\n",
       "      <th>H0</th>\n",
       "      <td>X4</td>\n",
       "      <td>Y4</td>\n",
       "    </tr>\n",
       "  </tbody>\n",
       "</table>\n",
       "</div>"
      ],
      "text/plain": [
       "     C   D\n",
       "H2  X1  Y1\n",
       "H3  X2  Y2\n",
       "H1  X3  Y3\n",
       "H0  X4  Y4"
      ]
     },
     "execution_count": 178,
     "metadata": {},
     "output_type": "execute_result"
    }
   ],
   "source": [
    "test6"
   ]
  },
  {
   "cell_type": "code",
   "execution_count": 179,
   "id": "49bf84ca-f716-40c3-a12b-e0a5a2ddc84e",
   "metadata": {},
   "outputs": [
    {
     "data": {
      "text/html": [
       "<div>\n",
       "<style scoped>\n",
       "    .dataframe tbody tr th:only-of-type {\n",
       "        vertical-align: middle;\n",
       "    }\n",
       "\n",
       "    .dataframe tbody tr th {\n",
       "        vertical-align: top;\n",
       "    }\n",
       "\n",
       "    .dataframe thead th {\n",
       "        text-align: right;\n",
       "    }\n",
       "</style>\n",
       "<table border=\"1\" class=\"dataframe\">\n",
       "  <thead>\n",
       "    <tr style=\"text-align: right;\">\n",
       "      <th></th>\n",
       "      <th>A</th>\n",
       "      <th>B</th>\n",
       "      <th>C</th>\n",
       "      <th>D</th>\n",
       "    </tr>\n",
       "  </thead>\n",
       "  <tbody>\n",
       "    <tr>\n",
       "      <th>H1</th>\n",
       "      <td>X1</td>\n",
       "      <td>Y1</td>\n",
       "      <td>X3</td>\n",
       "      <td>Y3</td>\n",
       "    </tr>\n",
       "    <tr>\n",
       "      <th>H2</th>\n",
       "      <td>X2</td>\n",
       "      <td>Y2</td>\n",
       "      <td>X1</td>\n",
       "      <td>Y1</td>\n",
       "    </tr>\n",
       "    <tr>\n",
       "      <th>H3</th>\n",
       "      <td>X3</td>\n",
       "      <td>Y3</td>\n",
       "      <td>X2</td>\n",
       "      <td>Y2</td>\n",
       "    </tr>\n",
       "  </tbody>\n",
       "</table>\n",
       "</div>"
      ],
      "text/plain": [
       "     A   B   C   D\n",
       "H1  X1  Y1  X3  Y3\n",
       "H2  X2  Y2  X1  Y1\n",
       "H3  X3  Y3  X2  Y2"
      ]
     },
     "execution_count": 179,
     "metadata": {},
     "output_type": "execute_result"
    }
   ],
   "source": [
    "test5.join(test6, how='inner')"
   ]
  },
  {
   "cell_type": "code",
   "execution_count": 180,
   "id": "20624e29-9f1f-44ee-a357-3f0494c30ff2",
   "metadata": {},
   "outputs": [
    {
     "data": {
      "text/html": [
       "<div>\n",
       "<style scoped>\n",
       "    .dataframe tbody tr th:only-of-type {\n",
       "        vertical-align: middle;\n",
       "    }\n",
       "\n",
       "    .dataframe tbody tr th {\n",
       "        vertical-align: top;\n",
       "    }\n",
       "\n",
       "    .dataframe thead th {\n",
       "        text-align: right;\n",
       "    }\n",
       "</style>\n",
       "<table border=\"1\" class=\"dataframe\">\n",
       "  <thead>\n",
       "    <tr style=\"text-align: right;\">\n",
       "      <th></th>\n",
       "      <th>A</th>\n",
       "      <th>B</th>\n",
       "      <th>C</th>\n",
       "      <th>D</th>\n",
       "    </tr>\n",
       "  </thead>\n",
       "  <tbody>\n",
       "    <tr>\n",
       "      <th>H0</th>\n",
       "      <td>NaN</td>\n",
       "      <td>NaN</td>\n",
       "      <td>X4</td>\n",
       "      <td>Y4</td>\n",
       "    </tr>\n",
       "    <tr>\n",
       "      <th>H1</th>\n",
       "      <td>X1</td>\n",
       "      <td>Y1</td>\n",
       "      <td>X3</td>\n",
       "      <td>Y3</td>\n",
       "    </tr>\n",
       "    <tr>\n",
       "      <th>H2</th>\n",
       "      <td>X2</td>\n",
       "      <td>Y2</td>\n",
       "      <td>X1</td>\n",
       "      <td>Y1</td>\n",
       "    </tr>\n",
       "    <tr>\n",
       "      <th>H3</th>\n",
       "      <td>X3</td>\n",
       "      <td>Y3</td>\n",
       "      <td>X2</td>\n",
       "      <td>Y2</td>\n",
       "    </tr>\n",
       "    <tr>\n",
       "      <th>H4</th>\n",
       "      <td>X4</td>\n",
       "      <td>Y4</td>\n",
       "      <td>NaN</td>\n",
       "      <td>NaN</td>\n",
       "    </tr>\n",
       "  </tbody>\n",
       "</table>\n",
       "</div>"
      ],
      "text/plain": [
       "      A    B    C    D\n",
       "H0  NaN  NaN   X4   Y4\n",
       "H1   X1   Y1   X3   Y3\n",
       "H2   X2   Y2   X1   Y1\n",
       "H3   X3   Y3   X2   Y2\n",
       "H4   X4   Y4  NaN  NaN"
      ]
     },
     "execution_count": 180,
     "metadata": {},
     "output_type": "execute_result"
    }
   ],
   "source": [
    "test5.join(test6, how='outer')"
   ]
  },
  {
   "cell_type": "markdown",
   "id": "4856dbdb-bd43-4999-a9e5-9e87081f3738",
   "metadata": {},
   "source": [
    "Pandas operations"
   ]
  },
  {
   "cell_type": "code",
   "execution_count": 181,
   "id": "ec8c37c8-6645-4577-b21b-7af4bcf74bd7",
   "metadata": {},
   "outputs": [],
   "source": [
    "df_ops=pd.DataFrame({'A':[24,21,74,21],\n",
    "'B':[32,31,65,54],'C':['a','b','c','d']})"
   ]
  },
  {
   "cell_type": "code",
   "execution_count": 182,
   "id": "edba73fd-6b99-45a4-82f6-edf63d6ca55f",
   "metadata": {},
   "outputs": [
    {
     "data": {
      "text/html": [
       "<div>\n",
       "<style scoped>\n",
       "    .dataframe tbody tr th:only-of-type {\n",
       "        vertical-align: middle;\n",
       "    }\n",
       "\n",
       "    .dataframe tbody tr th {\n",
       "        vertical-align: top;\n",
       "    }\n",
       "\n",
       "    .dataframe thead th {\n",
       "        text-align: right;\n",
       "    }\n",
       "</style>\n",
       "<table border=\"1\" class=\"dataframe\">\n",
       "  <thead>\n",
       "    <tr style=\"text-align: right;\">\n",
       "      <th></th>\n",
       "      <th>A</th>\n",
       "      <th>B</th>\n",
       "      <th>C</th>\n",
       "    </tr>\n",
       "  </thead>\n",
       "  <tbody>\n",
       "    <tr>\n",
       "      <th>0</th>\n",
       "      <td>24</td>\n",
       "      <td>32</td>\n",
       "      <td>a</td>\n",
       "    </tr>\n",
       "    <tr>\n",
       "      <th>1</th>\n",
       "      <td>21</td>\n",
       "      <td>31</td>\n",
       "      <td>b</td>\n",
       "    </tr>\n",
       "    <tr>\n",
       "      <th>2</th>\n",
       "      <td>74</td>\n",
       "      <td>65</td>\n",
       "      <td>c</td>\n",
       "    </tr>\n",
       "    <tr>\n",
       "      <th>3</th>\n",
       "      <td>21</td>\n",
       "      <td>54</td>\n",
       "      <td>d</td>\n",
       "    </tr>\n",
       "  </tbody>\n",
       "</table>\n",
       "</div>"
      ],
      "text/plain": [
       "    A   B  C\n",
       "0  24  32  a\n",
       "1  21  31  b\n",
       "2  74  65  c\n",
       "3  21  54  d"
      ]
     },
     "execution_count": 182,
     "metadata": {},
     "output_type": "execute_result"
    }
   ],
   "source": [
    "df_ops"
   ]
  },
  {
   "cell_type": "code",
   "execution_count": 183,
   "id": "e5e715fe-6105-4503-ad5f-8d85611ec293",
   "metadata": {},
   "outputs": [
    {
     "data": {
      "text/plain": [
       "array([24, 21, 74])"
      ]
     },
     "execution_count": 183,
     "metadata": {},
     "output_type": "execute_result"
    }
   ],
   "source": [
    "df_ops['A'].unique()"
   ]
  },
  {
   "cell_type": "code",
   "execution_count": 184,
   "id": "19f85460-bf17-4054-82ad-d7c7380d12ae",
   "metadata": {},
   "outputs": [
    {
     "data": {
      "text/plain": [
       "3"
      ]
     },
     "execution_count": 184,
     "metadata": {},
     "output_type": "execute_result"
    }
   ],
   "source": [
    "df_ops['A'].nunique()"
   ]
  },
  {
   "cell_type": "code",
   "execution_count": 185,
   "id": "e5bd80bd-81eb-480f-a4fe-57615dc57c77",
   "metadata": {},
   "outputs": [
    {
     "data": {
      "text/plain": [
       "A    3\n",
       "B    4\n",
       "C    4\n",
       "dtype: int64"
      ]
     },
     "execution_count": 185,
     "metadata": {},
     "output_type": "execute_result"
    }
   ],
   "source": [
    "df_ops.nunique()"
   ]
  },
  {
   "cell_type": "code",
   "execution_count": 186,
   "id": "bf5c8fa5-5b8e-4086-86b6-ec628be73103",
   "metadata": {},
   "outputs": [
    {
     "data": {
      "text/plain": [
       "B\n",
       "32    1\n",
       "31    1\n",
       "65    1\n",
       "54    1\n",
       "Name: count, dtype: int64"
      ]
     },
     "execution_count": 186,
     "metadata": {},
     "output_type": "execute_result"
    }
   ],
   "source": [
    "df_ops['B'].value_counts()"
   ]
  },
  {
   "cell_type": "code",
   "execution_count": 187,
   "id": "9ccacf35-d34d-4bad-a552-0aafeff9f0c8",
   "metadata": {},
   "outputs": [
    {
     "data": {
      "text/plain": [
       "A\n",
       "21    2\n",
       "24    1\n",
       "74    1\n",
       "Name: count, dtype: int64"
      ]
     },
     "execution_count": 187,
     "metadata": {},
     "output_type": "execute_result"
    }
   ],
   "source": [
    "df_ops['A'].value_counts()"
   ]
  },
  {
   "cell_type": "code",
   "execution_count": 189,
   "id": "70bf7a89-a30f-4348-b231-ca9def99a17b",
   "metadata": {},
   "outputs": [
    {
     "data": {
      "text/html": [
       "<div>\n",
       "<style scoped>\n",
       "    .dataframe tbody tr th:only-of-type {\n",
       "        vertical-align: middle;\n",
       "    }\n",
       "\n",
       "    .dataframe tbody tr th {\n",
       "        vertical-align: top;\n",
       "    }\n",
       "\n",
       "    .dataframe thead th {\n",
       "        text-align: right;\n",
       "    }\n",
       "</style>\n",
       "<table border=\"1\" class=\"dataframe\">\n",
       "  <thead>\n",
       "    <tr style=\"text-align: right;\">\n",
       "      <th></th>\n",
       "      <th>A</th>\n",
       "      <th>B</th>\n",
       "      <th>C</th>\n",
       "    </tr>\n",
       "  </thead>\n",
       "  <tbody>\n",
       "    <tr>\n",
       "      <th>2</th>\n",
       "      <td>74</td>\n",
       "      <td>65</td>\n",
       "      <td>c</td>\n",
       "    </tr>\n",
       "  </tbody>\n",
       "</table>\n",
       "</div>"
      ],
      "text/plain": [
       "    A   B  C\n",
       "2  74  65  c"
      ]
     },
     "execution_count": 189,
     "metadata": {},
     "output_type": "execute_result"
    }
   ],
   "source": [
    "df_ops[(df_ops['A']>=20)&(df_ops['B']>=35)&(df_ops['C']=='c')]"
   ]
  },
  {
   "cell_type": "code",
   "execution_count": 190,
   "id": "4aa90f92-7164-439d-a38a-70d6695f41d2",
   "metadata": {},
   "outputs": [
    {
     "data": {
      "text/plain": [
       "0     576\n",
       "1     441\n",
       "2    5476\n",
       "3     441\n",
       "Name: A, dtype: int64"
      ]
     },
     "execution_count": 190,
     "metadata": {},
     "output_type": "execute_result"
    }
   ],
   "source": [
    "def economics(x):\n",
    "    return x**2\n",
    "df_ops['A'].apply(economics)"
   ]
  },
  {
   "cell_type": "markdown",
   "id": "da9937d7-52f7-45f4-b863-610d3a065f2f",
   "metadata": {},
   "source": [
    "Pandas lambda expression"
   ]
  },
  {
   "cell_type": "code",
   "execution_count": 191,
   "id": "dc4dc4eb-8e97-4d9b-87cf-f4e34313ed41",
   "metadata": {},
   "outputs": [
    {
     "data": {
      "text/plain": [
       "0    128\n",
       "1    124\n",
       "2    260\n",
       "3    216\n",
       "Name: B, dtype: int64"
      ]
     },
     "execution_count": 191,
     "metadata": {},
     "output_type": "execute_result"
    }
   ],
   "source": [
    "df_ops['B'].apply(lambda x:x*4)"
   ]
  },
  {
   "cell_type": "code",
   "execution_count": 192,
   "id": "04383322-327c-4145-8804-e8ea86c7d0b2",
   "metadata": {},
   "outputs": [],
   "source": [
    "df_ops['D']=df_ops['A'].apply(lambda x:x**2+1)"
   ]
  },
  {
   "cell_type": "code",
   "execution_count": 193,
   "id": "a101a30a-ccfe-4422-9973-1e14df5fd057",
   "metadata": {},
   "outputs": [
    {
     "data": {
      "text/html": [
       "<div>\n",
       "<style scoped>\n",
       "    .dataframe tbody tr th:only-of-type {\n",
       "        vertical-align: middle;\n",
       "    }\n",
       "\n",
       "    .dataframe tbody tr th {\n",
       "        vertical-align: top;\n",
       "    }\n",
       "\n",
       "    .dataframe thead th {\n",
       "        text-align: right;\n",
       "    }\n",
       "</style>\n",
       "<table border=\"1\" class=\"dataframe\">\n",
       "  <thead>\n",
       "    <tr style=\"text-align: right;\">\n",
       "      <th></th>\n",
       "      <th>A</th>\n",
       "      <th>B</th>\n",
       "      <th>C</th>\n",
       "      <th>D</th>\n",
       "    </tr>\n",
       "  </thead>\n",
       "  <tbody>\n",
       "    <tr>\n",
       "      <th>0</th>\n",
       "      <td>24</td>\n",
       "      <td>32</td>\n",
       "      <td>a</td>\n",
       "      <td>577</td>\n",
       "    </tr>\n",
       "    <tr>\n",
       "      <th>1</th>\n",
       "      <td>21</td>\n",
       "      <td>31</td>\n",
       "      <td>b</td>\n",
       "      <td>442</td>\n",
       "    </tr>\n",
       "    <tr>\n",
       "      <th>2</th>\n",
       "      <td>74</td>\n",
       "      <td>65</td>\n",
       "      <td>c</td>\n",
       "      <td>5477</td>\n",
       "    </tr>\n",
       "    <tr>\n",
       "      <th>3</th>\n",
       "      <td>21</td>\n",
       "      <td>54</td>\n",
       "      <td>d</td>\n",
       "      <td>442</td>\n",
       "    </tr>\n",
       "  </tbody>\n",
       "</table>\n",
       "</div>"
      ],
      "text/plain": [
       "    A   B  C     D\n",
       "0  24  32  a   577\n",
       "1  21  31  b   442\n",
       "2  74  65  c  5477\n",
       "3  21  54  d   442"
      ]
     },
     "execution_count": 193,
     "metadata": {},
     "output_type": "execute_result"
    }
   ],
   "source": [
    "df_ops"
   ]
  },
  {
   "cell_type": "code",
   "execution_count": 194,
   "id": "a716ed7a-0d9b-45c3-bf7e-dec1b3faf277",
   "metadata": {},
   "outputs": [],
   "source": [
    "df_ops['E']=df_ops['B'].apply(lambda x: x**3+x**2+1)"
   ]
  },
  {
   "cell_type": "code",
   "execution_count": 196,
   "id": "0e861d84-bd89-40e3-839a-b1e1f2087a87",
   "metadata": {},
   "outputs": [],
   "source": [
    "df_ops['F']=df_ops['A'].apply(lambda x: x**4+x**2+5)"
   ]
  },
  {
   "cell_type": "code",
   "execution_count": 197,
   "id": "53507129-8e83-44d0-bb70-8e74e456f253",
   "metadata": {},
   "outputs": [],
   "source": [
    "df_ops['G']=df_ops['B'].apply(lambda x: x**2+10)"
   ]
  },
  {
   "cell_type": "code",
   "execution_count": 198,
   "id": "8208ef17-d5c8-4154-b56b-5d377f6f2a4f",
   "metadata": {},
   "outputs": [],
   "source": [
    "df_ops['ALL']=df_ops['A'].apply(lambda x:x**2+10)+df_ops['A'].apply(lambda x:x**2+10)"
   ]
  },
  {
   "cell_type": "code",
   "execution_count": 199,
   "id": "ea1761cc-5b93-49c9-9369-2a9e5e23c801",
   "metadata": {},
   "outputs": [
    {
     "data": {
      "text/html": [
       "<div>\n",
       "<style scoped>\n",
       "    .dataframe tbody tr th:only-of-type {\n",
       "        vertical-align: middle;\n",
       "    }\n",
       "\n",
       "    .dataframe tbody tr th {\n",
       "        vertical-align: top;\n",
       "    }\n",
       "\n",
       "    .dataframe thead th {\n",
       "        text-align: right;\n",
       "    }\n",
       "</style>\n",
       "<table border=\"1\" class=\"dataframe\">\n",
       "  <thead>\n",
       "    <tr style=\"text-align: right;\">\n",
       "      <th></th>\n",
       "      <th>A</th>\n",
       "      <th>B</th>\n",
       "      <th>C</th>\n",
       "      <th>D</th>\n",
       "      <th>E</th>\n",
       "      <th>F</th>\n",
       "      <th>G</th>\n",
       "      <th>ALL</th>\n",
       "    </tr>\n",
       "  </thead>\n",
       "  <tbody>\n",
       "    <tr>\n",
       "      <th>0</th>\n",
       "      <td>24</td>\n",
       "      <td>32</td>\n",
       "      <td>a</td>\n",
       "      <td>577</td>\n",
       "      <td>33793</td>\n",
       "      <td>332357</td>\n",
       "      <td>1034</td>\n",
       "      <td>1172</td>\n",
       "    </tr>\n",
       "    <tr>\n",
       "      <th>1</th>\n",
       "      <td>21</td>\n",
       "      <td>31</td>\n",
       "      <td>b</td>\n",
       "      <td>442</td>\n",
       "      <td>30753</td>\n",
       "      <td>194927</td>\n",
       "      <td>971</td>\n",
       "      <td>902</td>\n",
       "    </tr>\n",
       "    <tr>\n",
       "      <th>2</th>\n",
       "      <td>74</td>\n",
       "      <td>65</td>\n",
       "      <td>c</td>\n",
       "      <td>5477</td>\n",
       "      <td>278851</td>\n",
       "      <td>29992057</td>\n",
       "      <td>4235</td>\n",
       "      <td>10972</td>\n",
       "    </tr>\n",
       "    <tr>\n",
       "      <th>3</th>\n",
       "      <td>21</td>\n",
       "      <td>54</td>\n",
       "      <td>d</td>\n",
       "      <td>442</td>\n",
       "      <td>160381</td>\n",
       "      <td>194927</td>\n",
       "      <td>2926</td>\n",
       "      <td>902</td>\n",
       "    </tr>\n",
       "  </tbody>\n",
       "</table>\n",
       "</div>"
      ],
      "text/plain": [
       "    A   B  C     D       E         F     G    ALL\n",
       "0  24  32  a   577   33793    332357  1034   1172\n",
       "1  21  31  b   442   30753    194927   971    902\n",
       "2  74  65  c  5477  278851  29992057  4235  10972\n",
       "3  21  54  d   442  160381    194927  2926    902"
      ]
     },
     "execution_count": 199,
     "metadata": {},
     "output_type": "execute_result"
    }
   ],
   "source": [
    "df_ops"
   ]
  },
  {
   "cell_type": "code",
   "execution_count": 200,
   "id": "dab69feb-993d-4d83-91de-565552661a59",
   "metadata": {},
   "outputs": [
    {
     "data": {
      "text/plain": [
       "Index(['A', 'B', 'C', 'D', 'E', 'F', 'G', 'ALL'], dtype='object')"
      ]
     },
     "execution_count": 200,
     "metadata": {},
     "output_type": "execute_result"
    }
   ],
   "source": [
    "df_ops.columns"
   ]
  },
  {
   "cell_type": "code",
   "execution_count": 204,
   "id": "aa4e6a98-d0cf-45c0-919f-c7f77173b9c7",
   "metadata": {},
   "outputs": [
    {
     "data": {
      "text/html": [
       "<div>\n",
       "<style scoped>\n",
       "    .dataframe tbody tr th:only-of-type {\n",
       "        vertical-align: middle;\n",
       "    }\n",
       "\n",
       "    .dataframe tbody tr th {\n",
       "        vertical-align: top;\n",
       "    }\n",
       "\n",
       "    .dataframe thead th {\n",
       "        text-align: right;\n",
       "    }\n",
       "</style>\n",
       "<table border=\"1\" class=\"dataframe\">\n",
       "  <thead>\n",
       "    <tr style=\"text-align: right;\">\n",
       "      <th></th>\n",
       "      <th>A</th>\n",
       "      <th>B</th>\n",
       "      <th>C</th>\n",
       "      <th>D</th>\n",
       "      <th>E</th>\n",
       "      <th>F</th>\n",
       "      <th>G</th>\n",
       "      <th>ALL</th>\n",
       "    </tr>\n",
       "  </thead>\n",
       "  <tbody>\n",
       "    <tr>\n",
       "      <th>1</th>\n",
       "      <td>21</td>\n",
       "      <td>31</td>\n",
       "      <td>b</td>\n",
       "      <td>442</td>\n",
       "      <td>30753</td>\n",
       "      <td>194927</td>\n",
       "      <td>971</td>\n",
       "      <td>902</td>\n",
       "    </tr>\n",
       "    <tr>\n",
       "      <th>3</th>\n",
       "      <td>21</td>\n",
       "      <td>54</td>\n",
       "      <td>d</td>\n",
       "      <td>442</td>\n",
       "      <td>160381</td>\n",
       "      <td>194927</td>\n",
       "      <td>2926</td>\n",
       "      <td>902</td>\n",
       "    </tr>\n",
       "    <tr>\n",
       "      <th>0</th>\n",
       "      <td>24</td>\n",
       "      <td>32</td>\n",
       "      <td>a</td>\n",
       "      <td>577</td>\n",
       "      <td>33793</td>\n",
       "      <td>332357</td>\n",
       "      <td>1034</td>\n",
       "      <td>1172</td>\n",
       "    </tr>\n",
       "    <tr>\n",
       "      <th>2</th>\n",
       "      <td>74</td>\n",
       "      <td>65</td>\n",
       "      <td>c</td>\n",
       "      <td>5477</td>\n",
       "      <td>278851</td>\n",
       "      <td>29992057</td>\n",
       "      <td>4235</td>\n",
       "      <td>10972</td>\n",
       "    </tr>\n",
       "  </tbody>\n",
       "</table>\n",
       "</div>"
      ],
      "text/plain": [
       "    A   B  C     D       E         F     G    ALL\n",
       "1  21  31  b   442   30753    194927   971    902\n",
       "3  21  54  d   442  160381    194927  2926    902\n",
       "0  24  32  a   577   33793    332357  1034   1172\n",
       "2  74  65  c  5477  278851  29992057  4235  10972"
      ]
     },
     "execution_count": 204,
     "metadata": {},
     "output_type": "execute_result"
    }
   ],
   "source": [
    "df_ops.sort_values('ALL', ascending=True)"
   ]
  },
  {
   "cell_type": "markdown",
   "id": "7155a972-7eea-492f-858c-9ba2e7ac720e",
   "metadata": {},
   "source": [
    "Dealing with missing values in Pandas"
   ]
  },
  {
   "cell_type": "code",
   "execution_count": 205,
   "id": "10264ce4-c690-4b0e-a4ad-fa710309d3c7",
   "metadata": {},
   "outputs": [],
   "source": [
    "import pandas as pd\n",
    "import numpy as np\n",
    "df_missing=pd.DataFrame({'A':[1,20,31,43,59,np.nan,6,4,5,2,5,6,7,3,np.nan],\\\n",
    "    'B':[1,20,np.nan,43,52,32,6,9,5,2,90,6,np.nan,3,100],\\\n",
    "    'C':[1,30,68,43,np.nan,32,6,4,np.nan,2,5,6,888,3,100]})"
   ]
  },
  {
   "cell_type": "code",
   "execution_count": 206,
   "id": "71cd4a50-7440-4ad2-8878-0b6e0b8bc07e",
   "metadata": {},
   "outputs": [
    {
     "data": {
      "text/html": [
       "<div>\n",
       "<style scoped>\n",
       "    .dataframe tbody tr th:only-of-type {\n",
       "        vertical-align: middle;\n",
       "    }\n",
       "\n",
       "    .dataframe tbody tr th {\n",
       "        vertical-align: top;\n",
       "    }\n",
       "\n",
       "    .dataframe thead th {\n",
       "        text-align: right;\n",
       "    }\n",
       "</style>\n",
       "<table border=\"1\" class=\"dataframe\">\n",
       "  <thead>\n",
       "    <tr style=\"text-align: right;\">\n",
       "      <th></th>\n",
       "      <th>A</th>\n",
       "      <th>B</th>\n",
       "      <th>C</th>\n",
       "    </tr>\n",
       "  </thead>\n",
       "  <tbody>\n",
       "    <tr>\n",
       "      <th>0</th>\n",
       "      <td>1.0</td>\n",
       "      <td>1.0</td>\n",
       "      <td>1.0</td>\n",
       "    </tr>\n",
       "    <tr>\n",
       "      <th>1</th>\n",
       "      <td>20.0</td>\n",
       "      <td>20.0</td>\n",
       "      <td>30.0</td>\n",
       "    </tr>\n",
       "    <tr>\n",
       "      <th>2</th>\n",
       "      <td>31.0</td>\n",
       "      <td>NaN</td>\n",
       "      <td>68.0</td>\n",
       "    </tr>\n",
       "    <tr>\n",
       "      <th>3</th>\n",
       "      <td>43.0</td>\n",
       "      <td>43.0</td>\n",
       "      <td>43.0</td>\n",
       "    </tr>\n",
       "    <tr>\n",
       "      <th>4</th>\n",
       "      <td>59.0</td>\n",
       "      <td>52.0</td>\n",
       "      <td>NaN</td>\n",
       "    </tr>\n",
       "    <tr>\n",
       "      <th>5</th>\n",
       "      <td>NaN</td>\n",
       "      <td>32.0</td>\n",
       "      <td>32.0</td>\n",
       "    </tr>\n",
       "    <tr>\n",
       "      <th>6</th>\n",
       "      <td>6.0</td>\n",
       "      <td>6.0</td>\n",
       "      <td>6.0</td>\n",
       "    </tr>\n",
       "    <tr>\n",
       "      <th>7</th>\n",
       "      <td>4.0</td>\n",
       "      <td>9.0</td>\n",
       "      <td>4.0</td>\n",
       "    </tr>\n",
       "    <tr>\n",
       "      <th>8</th>\n",
       "      <td>5.0</td>\n",
       "      <td>5.0</td>\n",
       "      <td>NaN</td>\n",
       "    </tr>\n",
       "    <tr>\n",
       "      <th>9</th>\n",
       "      <td>2.0</td>\n",
       "      <td>2.0</td>\n",
       "      <td>2.0</td>\n",
       "    </tr>\n",
       "    <tr>\n",
       "      <th>10</th>\n",
       "      <td>5.0</td>\n",
       "      <td>90.0</td>\n",
       "      <td>5.0</td>\n",
       "    </tr>\n",
       "    <tr>\n",
       "      <th>11</th>\n",
       "      <td>6.0</td>\n",
       "      <td>6.0</td>\n",
       "      <td>6.0</td>\n",
       "    </tr>\n",
       "    <tr>\n",
       "      <th>12</th>\n",
       "      <td>7.0</td>\n",
       "      <td>NaN</td>\n",
       "      <td>888.0</td>\n",
       "    </tr>\n",
       "    <tr>\n",
       "      <th>13</th>\n",
       "      <td>3.0</td>\n",
       "      <td>3.0</td>\n",
       "      <td>3.0</td>\n",
       "    </tr>\n",
       "    <tr>\n",
       "      <th>14</th>\n",
       "      <td>NaN</td>\n",
       "      <td>100.0</td>\n",
       "      <td>100.0</td>\n",
       "    </tr>\n",
       "  </tbody>\n",
       "</table>\n",
       "</div>"
      ],
      "text/plain": [
       "       A      B      C\n",
       "0    1.0    1.0    1.0\n",
       "1   20.0   20.0   30.0\n",
       "2   31.0    NaN   68.0\n",
       "3   43.0   43.0   43.0\n",
       "4   59.0   52.0    NaN\n",
       "5    NaN   32.0   32.0\n",
       "6    6.0    6.0    6.0\n",
       "7    4.0    9.0    4.0\n",
       "8    5.0    5.0    NaN\n",
       "9    2.0    2.0    2.0\n",
       "10   5.0   90.0    5.0\n",
       "11   6.0    6.0    6.0\n",
       "12   7.0    NaN  888.0\n",
       "13   3.0    3.0    3.0\n",
       "14   NaN  100.0  100.0"
      ]
     },
     "execution_count": 206,
     "metadata": {},
     "output_type": "execute_result"
    }
   ],
   "source": [
    "df_missing"
   ]
  },
  {
   "cell_type": "code",
   "execution_count": 207,
   "id": "0f97fb53-7fb5-4aaf-96ab-b519d89cf93c",
   "metadata": {},
   "outputs": [
    {
     "data": {
      "text/html": [
       "<div>\n",
       "<style scoped>\n",
       "    .dataframe tbody tr th:only-of-type {\n",
       "        vertical-align: middle;\n",
       "    }\n",
       "\n",
       "    .dataframe tbody tr th {\n",
       "        vertical-align: top;\n",
       "    }\n",
       "\n",
       "    .dataframe thead th {\n",
       "        text-align: right;\n",
       "    }\n",
       "</style>\n",
       "<table border=\"1\" class=\"dataframe\">\n",
       "  <thead>\n",
       "    <tr style=\"text-align: right;\">\n",
       "      <th></th>\n",
       "      <th>A</th>\n",
       "      <th>B</th>\n",
       "      <th>C</th>\n",
       "    </tr>\n",
       "  </thead>\n",
       "  <tbody>\n",
       "    <tr>\n",
       "      <th>0</th>\n",
       "      <td>1.0</td>\n",
       "      <td>1.0</td>\n",
       "      <td>1.0</td>\n",
       "    </tr>\n",
       "    <tr>\n",
       "      <th>1</th>\n",
       "      <td>20.0</td>\n",
       "      <td>20.0</td>\n",
       "      <td>30.0</td>\n",
       "    </tr>\n",
       "    <tr>\n",
       "      <th>2</th>\n",
       "      <td>31.0</td>\n",
       "      <td>NaN</td>\n",
       "      <td>68.0</td>\n",
       "    </tr>\n",
       "    <tr>\n",
       "      <th>3</th>\n",
       "      <td>43.0</td>\n",
       "      <td>43.0</td>\n",
       "      <td>43.0</td>\n",
       "    </tr>\n",
       "    <tr>\n",
       "      <th>4</th>\n",
       "      <td>59.0</td>\n",
       "      <td>52.0</td>\n",
       "      <td>NaN</td>\n",
       "    </tr>\n",
       "  </tbody>\n",
       "</table>\n",
       "</div>"
      ],
      "text/plain": [
       "      A     B     C\n",
       "0   1.0   1.0   1.0\n",
       "1  20.0  20.0  30.0\n",
       "2  31.0   NaN  68.0\n",
       "3  43.0  43.0  43.0\n",
       "4  59.0  52.0   NaN"
      ]
     },
     "execution_count": 207,
     "metadata": {},
     "output_type": "execute_result"
    }
   ],
   "source": [
    "df_missing.head(5)"
   ]
  },
  {
   "cell_type": "code",
   "execution_count": 208,
   "id": "56cec8e8-a6b3-4f14-9a8d-01fb1c1c43d7",
   "metadata": {},
   "outputs": [
    {
     "data": {
      "text/html": [
       "<div>\n",
       "<style scoped>\n",
       "    .dataframe tbody tr th:only-of-type {\n",
       "        vertical-align: middle;\n",
       "    }\n",
       "\n",
       "    .dataframe tbody tr th {\n",
       "        vertical-align: top;\n",
       "    }\n",
       "\n",
       "    .dataframe thead th {\n",
       "        text-align: right;\n",
       "    }\n",
       "</style>\n",
       "<table border=\"1\" class=\"dataframe\">\n",
       "  <thead>\n",
       "    <tr style=\"text-align: right;\">\n",
       "      <th></th>\n",
       "      <th>A</th>\n",
       "      <th>B</th>\n",
       "      <th>C</th>\n",
       "    </tr>\n",
       "  </thead>\n",
       "  <tbody>\n",
       "    <tr>\n",
       "      <th>0</th>\n",
       "      <td>1.0</td>\n",
       "      <td>1.0</td>\n",
       "      <td>1.0</td>\n",
       "    </tr>\n",
       "    <tr>\n",
       "      <th>1</th>\n",
       "      <td>20.0</td>\n",
       "      <td>20.0</td>\n",
       "      <td>30.0</td>\n",
       "    </tr>\n",
       "    <tr>\n",
       "      <th>3</th>\n",
       "      <td>43.0</td>\n",
       "      <td>43.0</td>\n",
       "      <td>43.0</td>\n",
       "    </tr>\n",
       "    <tr>\n",
       "      <th>6</th>\n",
       "      <td>6.0</td>\n",
       "      <td>6.0</td>\n",
       "      <td>6.0</td>\n",
       "    </tr>\n",
       "    <tr>\n",
       "      <th>7</th>\n",
       "      <td>4.0</td>\n",
       "      <td>9.0</td>\n",
       "      <td>4.0</td>\n",
       "    </tr>\n",
       "    <tr>\n",
       "      <th>9</th>\n",
       "      <td>2.0</td>\n",
       "      <td>2.0</td>\n",
       "      <td>2.0</td>\n",
       "    </tr>\n",
       "    <tr>\n",
       "      <th>10</th>\n",
       "      <td>5.0</td>\n",
       "      <td>90.0</td>\n",
       "      <td>5.0</td>\n",
       "    </tr>\n",
       "    <tr>\n",
       "      <th>11</th>\n",
       "      <td>6.0</td>\n",
       "      <td>6.0</td>\n",
       "      <td>6.0</td>\n",
       "    </tr>\n",
       "    <tr>\n",
       "      <th>13</th>\n",
       "      <td>3.0</td>\n",
       "      <td>3.0</td>\n",
       "      <td>3.0</td>\n",
       "    </tr>\n",
       "  </tbody>\n",
       "</table>\n",
       "</div>"
      ],
      "text/plain": [
       "       A     B     C\n",
       "0    1.0   1.0   1.0\n",
       "1   20.0  20.0  30.0\n",
       "3   43.0  43.0  43.0\n",
       "6    6.0   6.0   6.0\n",
       "7    4.0   9.0   4.0\n",
       "9    2.0   2.0   2.0\n",
       "10   5.0  90.0   5.0\n",
       "11   6.0   6.0   6.0\n",
       "13   3.0   3.0   3.0"
      ]
     },
     "execution_count": 208,
     "metadata": {},
     "output_type": "execute_result"
    }
   ],
   "source": [
    "df_missing.dropna(how='any')"
   ]
  },
  {
   "cell_type": "code",
   "execution_count": 211,
   "id": "486e4178-859f-4a9f-8573-69a0cd80e35e",
   "metadata": {},
   "outputs": [
    {
     "data": {
      "text/html": [
       "<div>\n",
       "<style scoped>\n",
       "    .dataframe tbody tr th:only-of-type {\n",
       "        vertical-align: middle;\n",
       "    }\n",
       "\n",
       "    .dataframe tbody tr th {\n",
       "        vertical-align: top;\n",
       "    }\n",
       "\n",
       "    .dataframe thead th {\n",
       "        text-align: right;\n",
       "    }\n",
       "</style>\n",
       "<table border=\"1\" class=\"dataframe\">\n",
       "  <thead>\n",
       "    <tr style=\"text-align: right;\">\n",
       "      <th></th>\n",
       "    </tr>\n",
       "  </thead>\n",
       "  <tbody>\n",
       "    <tr>\n",
       "      <th>0</th>\n",
       "    </tr>\n",
       "    <tr>\n",
       "      <th>1</th>\n",
       "    </tr>\n",
       "    <tr>\n",
       "      <th>2</th>\n",
       "    </tr>\n",
       "    <tr>\n",
       "      <th>3</th>\n",
       "    </tr>\n",
       "    <tr>\n",
       "      <th>4</th>\n",
       "    </tr>\n",
       "    <tr>\n",
       "      <th>5</th>\n",
       "    </tr>\n",
       "    <tr>\n",
       "      <th>6</th>\n",
       "    </tr>\n",
       "    <tr>\n",
       "      <th>7</th>\n",
       "    </tr>\n",
       "    <tr>\n",
       "      <th>8</th>\n",
       "    </tr>\n",
       "    <tr>\n",
       "      <th>9</th>\n",
       "    </tr>\n",
       "    <tr>\n",
       "      <th>10</th>\n",
       "    </tr>\n",
       "    <tr>\n",
       "      <th>11</th>\n",
       "    </tr>\n",
       "    <tr>\n",
       "      <th>12</th>\n",
       "    </tr>\n",
       "    <tr>\n",
       "      <th>13</th>\n",
       "    </tr>\n",
       "    <tr>\n",
       "      <th>14</th>\n",
       "    </tr>\n",
       "  </tbody>\n",
       "</table>\n",
       "</div>"
      ],
      "text/plain": [
       "Empty DataFrame\n",
       "Columns: []\n",
       "Index: [0, 1, 2, 3, 4, 5, 6, 7, 8, 9, 10, 11, 12, 13, 14]"
      ]
     },
     "execution_count": 211,
     "metadata": {},
     "output_type": "execute_result"
    }
   ],
   "source": [
    "df_missing.dropna(how='any', axis=1)"
   ]
  },
  {
   "cell_type": "code",
   "execution_count": 212,
   "id": "d1463e3b-dd05-41fe-a658-e803dc14ac9b",
   "metadata": {},
   "outputs": [],
   "source": [
    "df_filling=pd.DataFrame({'A':[43,59,np.nan,6,3,np.nan],'B':[1,20,np.nan,43,np.nan,32],'C':[np.nan,32,6,4,np.nan,2]})"
   ]
  },
  {
   "cell_type": "code",
   "execution_count": 213,
   "id": "eed6e8f7-3d44-4331-aa1b-566446fff523",
   "metadata": {},
   "outputs": [
    {
     "data": {
      "text/html": [
       "<div>\n",
       "<style scoped>\n",
       "    .dataframe tbody tr th:only-of-type {\n",
       "        vertical-align: middle;\n",
       "    }\n",
       "\n",
       "    .dataframe tbody tr th {\n",
       "        vertical-align: top;\n",
       "    }\n",
       "\n",
       "    .dataframe thead th {\n",
       "        text-align: right;\n",
       "    }\n",
       "</style>\n",
       "<table border=\"1\" class=\"dataframe\">\n",
       "  <thead>\n",
       "    <tr style=\"text-align: right;\">\n",
       "      <th></th>\n",
       "      <th>A</th>\n",
       "      <th>B</th>\n",
       "      <th>C</th>\n",
       "    </tr>\n",
       "  </thead>\n",
       "  <tbody>\n",
       "    <tr>\n",
       "      <th>0</th>\n",
       "      <td>43.0</td>\n",
       "      <td>1.0</td>\n",
       "      <td>NaN</td>\n",
       "    </tr>\n",
       "    <tr>\n",
       "      <th>1</th>\n",
       "      <td>59.0</td>\n",
       "      <td>20.0</td>\n",
       "      <td>32.0</td>\n",
       "    </tr>\n",
       "    <tr>\n",
       "      <th>2</th>\n",
       "      <td>NaN</td>\n",
       "      <td>NaN</td>\n",
       "      <td>6.0</td>\n",
       "    </tr>\n",
       "    <tr>\n",
       "      <th>3</th>\n",
       "      <td>6.0</td>\n",
       "      <td>43.0</td>\n",
       "      <td>4.0</td>\n",
       "    </tr>\n",
       "    <tr>\n",
       "      <th>4</th>\n",
       "      <td>3.0</td>\n",
       "      <td>NaN</td>\n",
       "      <td>NaN</td>\n",
       "    </tr>\n",
       "    <tr>\n",
       "      <th>5</th>\n",
       "      <td>NaN</td>\n",
       "      <td>32.0</td>\n",
       "      <td>2.0</td>\n",
       "    </tr>\n",
       "  </tbody>\n",
       "</table>\n",
       "</div>"
      ],
      "text/plain": [
       "      A     B     C\n",
       "0  43.0   1.0   NaN\n",
       "1  59.0  20.0  32.0\n",
       "2   NaN   NaN   6.0\n",
       "3   6.0  43.0   4.0\n",
       "4   3.0   NaN   NaN\n",
       "5   NaN  32.0   2.0"
      ]
     },
     "execution_count": 213,
     "metadata": {},
     "output_type": "execute_result"
    }
   ],
   "source": [
    "df_filling"
   ]
  },
  {
   "cell_type": "code",
   "execution_count": 214,
   "id": "15cc27bc-bdb8-46fc-b7d7-43c8f2b50dc3",
   "metadata": {},
   "outputs": [
    {
     "name": "stderr",
     "output_type": "stream",
     "text": [
      "/var/folders/y6/fxl5q2qn5kg2cd_4j_k391qm0000gn/T/ipykernel_49122/922927716.py:1: FutureWarning: Setting an item of incompatible dtype is deprecated and will raise an error in a future version of pandas. Value 'Hydraulic Fracturing' has dtype incompatible with float64, please explicitly cast to a compatible dtype first.\n",
      "  df_filling.fillna(value='Hydraulic Fracturing', inplace=True)\n"
     ]
    }
   ],
   "source": [
    "df_filling.fillna(value='Hydraulic Fracturing', inplace=True)"
   ]
  },
  {
   "cell_type": "code",
   "execution_count": 215,
   "id": "a83edb5f-81d6-4c70-a00c-9d764b774283",
   "metadata": {},
   "outputs": [
    {
     "data": {
      "text/html": [
       "<div>\n",
       "<style scoped>\n",
       "    .dataframe tbody tr th:only-of-type {\n",
       "        vertical-align: middle;\n",
       "    }\n",
       "\n",
       "    .dataframe tbody tr th {\n",
       "        vertical-align: top;\n",
       "    }\n",
       "\n",
       "    .dataframe thead th {\n",
       "        text-align: right;\n",
       "    }\n",
       "</style>\n",
       "<table border=\"1\" class=\"dataframe\">\n",
       "  <thead>\n",
       "    <tr style=\"text-align: right;\">\n",
       "      <th></th>\n",
       "      <th>A</th>\n",
       "      <th>B</th>\n",
       "      <th>C</th>\n",
       "    </tr>\n",
       "  </thead>\n",
       "  <tbody>\n",
       "    <tr>\n",
       "      <th>0</th>\n",
       "      <td>43.0</td>\n",
       "      <td>1.0</td>\n",
       "      <td>Hydraulic Fracturing</td>\n",
       "    </tr>\n",
       "    <tr>\n",
       "      <th>1</th>\n",
       "      <td>59.0</td>\n",
       "      <td>20.0</td>\n",
       "      <td>32.0</td>\n",
       "    </tr>\n",
       "    <tr>\n",
       "      <th>2</th>\n",
       "      <td>Hydraulic Fracturing</td>\n",
       "      <td>Hydraulic Fracturing</td>\n",
       "      <td>6.0</td>\n",
       "    </tr>\n",
       "    <tr>\n",
       "      <th>3</th>\n",
       "      <td>6.0</td>\n",
       "      <td>43.0</td>\n",
       "      <td>4.0</td>\n",
       "    </tr>\n",
       "    <tr>\n",
       "      <th>4</th>\n",
       "      <td>3.0</td>\n",
       "      <td>Hydraulic Fracturing</td>\n",
       "      <td>Hydraulic Fracturing</td>\n",
       "    </tr>\n",
       "    <tr>\n",
       "      <th>5</th>\n",
       "      <td>Hydraulic Fracturing</td>\n",
       "      <td>32.0</td>\n",
       "      <td>2.0</td>\n",
       "    </tr>\n",
       "  </tbody>\n",
       "</table>\n",
       "</div>"
      ],
      "text/plain": [
       "                      A                     B                     C\n",
       "0                  43.0                   1.0  Hydraulic Fracturing\n",
       "1                  59.0                  20.0                  32.0\n",
       "2  Hydraulic Fracturing  Hydraulic Fracturing                   6.0\n",
       "3                   6.0                  43.0                   4.0\n",
       "4                   3.0  Hydraulic Fracturing  Hydraulic Fracturing\n",
       "5  Hydraulic Fracturing                  32.0                   2.0"
      ]
     },
     "execution_count": 215,
     "metadata": {},
     "output_type": "execute_result"
    }
   ],
   "source": [
    "df_filling"
   ]
  },
  {
   "cell_type": "code",
   "execution_count": 216,
   "id": "0e4aa2ff-a372-482b-b6de-7bc155b3465e",
   "metadata": {},
   "outputs": [],
   "source": [
    "df_filling_mean=pd.DataFrame({'A':[43,59,np.nan,6,3,np.nan],\n",
    "'B':[1,20,np.nan,43,np.nan,32],'C':[np.nan,32,6,4,np.nan,2]})"
   ]
  },
  {
   "cell_type": "code",
   "execution_count": 217,
   "id": "e1507994-830d-40bd-a063-69611a180920",
   "metadata": {},
   "outputs": [
    {
     "data": {
      "text/html": [
       "<div>\n",
       "<style scoped>\n",
       "    .dataframe tbody tr th:only-of-type {\n",
       "        vertical-align: middle;\n",
       "    }\n",
       "\n",
       "    .dataframe tbody tr th {\n",
       "        vertical-align: top;\n",
       "    }\n",
       "\n",
       "    .dataframe thead th {\n",
       "        text-align: right;\n",
       "    }\n",
       "</style>\n",
       "<table border=\"1\" class=\"dataframe\">\n",
       "  <thead>\n",
       "    <tr style=\"text-align: right;\">\n",
       "      <th></th>\n",
       "      <th>A</th>\n",
       "      <th>B</th>\n",
       "      <th>C</th>\n",
       "    </tr>\n",
       "  </thead>\n",
       "  <tbody>\n",
       "    <tr>\n",
       "      <th>0</th>\n",
       "      <td>43.0</td>\n",
       "      <td>1.0</td>\n",
       "      <td>NaN</td>\n",
       "    </tr>\n",
       "    <tr>\n",
       "      <th>1</th>\n",
       "      <td>59.0</td>\n",
       "      <td>20.0</td>\n",
       "      <td>32.0</td>\n",
       "    </tr>\n",
       "    <tr>\n",
       "      <th>2</th>\n",
       "      <td>NaN</td>\n",
       "      <td>NaN</td>\n",
       "      <td>6.0</td>\n",
       "    </tr>\n",
       "    <tr>\n",
       "      <th>3</th>\n",
       "      <td>6.0</td>\n",
       "      <td>43.0</td>\n",
       "      <td>4.0</td>\n",
       "    </tr>\n",
       "    <tr>\n",
       "      <th>4</th>\n",
       "      <td>3.0</td>\n",
       "      <td>NaN</td>\n",
       "      <td>NaN</td>\n",
       "    </tr>\n",
       "    <tr>\n",
       "      <th>5</th>\n",
       "      <td>NaN</td>\n",
       "      <td>32.0</td>\n",
       "      <td>2.0</td>\n",
       "    </tr>\n",
       "  </tbody>\n",
       "</table>\n",
       "</div>"
      ],
      "text/plain": [
       "      A     B     C\n",
       "0  43.0   1.0   NaN\n",
       "1  59.0  20.0  32.0\n",
       "2   NaN   NaN   6.0\n",
       "3   6.0  43.0   4.0\n",
       "4   3.0   NaN   NaN\n",
       "5   NaN  32.0   2.0"
      ]
     },
     "execution_count": 217,
     "metadata": {},
     "output_type": "execute_result"
    }
   ],
   "source": [
    "df_filling_mean"
   ]
  },
  {
   "cell_type": "code",
   "execution_count": 220,
   "id": "64a0a634-b957-4bcd-ad1b-d0eb9717273c",
   "metadata": {},
   "outputs": [],
   "source": [
    "df_filling_mean.fillna(value=df_filling_mean.mean(), inplace=True)"
   ]
  },
  {
   "cell_type": "code",
   "execution_count": 221,
   "id": "10d7f720-c0e2-40a2-a8fd-bbeaaabfa491",
   "metadata": {},
   "outputs": [
    {
     "data": {
      "text/html": [
       "<div>\n",
       "<style scoped>\n",
       "    .dataframe tbody tr th:only-of-type {\n",
       "        vertical-align: middle;\n",
       "    }\n",
       "\n",
       "    .dataframe tbody tr th {\n",
       "        vertical-align: top;\n",
       "    }\n",
       "\n",
       "    .dataframe thead th {\n",
       "        text-align: right;\n",
       "    }\n",
       "</style>\n",
       "<table border=\"1\" class=\"dataframe\">\n",
       "  <thead>\n",
       "    <tr style=\"text-align: right;\">\n",
       "      <th></th>\n",
       "      <th>A</th>\n",
       "      <th>B</th>\n",
       "      <th>C</th>\n",
       "    </tr>\n",
       "  </thead>\n",
       "  <tbody>\n",
       "    <tr>\n",
       "      <th>0</th>\n",
       "      <td>43.00</td>\n",
       "      <td>1.0</td>\n",
       "      <td>11.0</td>\n",
       "    </tr>\n",
       "    <tr>\n",
       "      <th>1</th>\n",
       "      <td>59.00</td>\n",
       "      <td>20.0</td>\n",
       "      <td>32.0</td>\n",
       "    </tr>\n",
       "    <tr>\n",
       "      <th>2</th>\n",
       "      <td>27.75</td>\n",
       "      <td>24.0</td>\n",
       "      <td>6.0</td>\n",
       "    </tr>\n",
       "    <tr>\n",
       "      <th>3</th>\n",
       "      <td>6.00</td>\n",
       "      <td>43.0</td>\n",
       "      <td>4.0</td>\n",
       "    </tr>\n",
       "    <tr>\n",
       "      <th>4</th>\n",
       "      <td>3.00</td>\n",
       "      <td>24.0</td>\n",
       "      <td>11.0</td>\n",
       "    </tr>\n",
       "    <tr>\n",
       "      <th>5</th>\n",
       "      <td>27.75</td>\n",
       "      <td>32.0</td>\n",
       "      <td>2.0</td>\n",
       "    </tr>\n",
       "  </tbody>\n",
       "</table>\n",
       "</div>"
      ],
      "text/plain": [
       "       A     B     C\n",
       "0  43.00   1.0  11.0\n",
       "1  59.00  20.0  32.0\n",
       "2  27.75  24.0   6.0\n",
       "3   6.00  43.0   4.0\n",
       "4   3.00  24.0  11.0\n",
       "5  27.75  32.0   2.0"
      ]
     },
     "execution_count": 221,
     "metadata": {},
     "output_type": "execute_result"
    }
   ],
   "source": [
    "df_filling_mean"
   ]
  },
  {
   "cell_type": "code",
   "execution_count": 226,
   "id": "e35ad197-8041-4605-9774-daa35a2133a1",
   "metadata": {},
   "outputs": [
    {
     "data": {
      "text/html": [
       "<div>\n",
       "<style scoped>\n",
       "    .dataframe tbody tr th:only-of-type {\n",
       "        vertical-align: middle;\n",
       "    }\n",
       "\n",
       "    .dataframe tbody tr th {\n",
       "        vertical-align: top;\n",
       "    }\n",
       "\n",
       "    .dataframe thead th {\n",
       "        text-align: right;\n",
       "    }\n",
       "</style>\n",
       "<table border=\"1\" class=\"dataframe\">\n",
       "  <thead>\n",
       "    <tr style=\"text-align: right;\">\n",
       "      <th></th>\n",
       "      <th>A</th>\n",
       "      <th>B</th>\n",
       "      <th>C</th>\n",
       "    </tr>\n",
       "  </thead>\n",
       "  <tbody>\n",
       "    <tr>\n",
       "      <th>0</th>\n",
       "      <td>43.0</td>\n",
       "      <td>1.0</td>\n",
       "      <td>NaN</td>\n",
       "    </tr>\n",
       "    <tr>\n",
       "      <th>1</th>\n",
       "      <td>59.0</td>\n",
       "      <td>20.0</td>\n",
       "      <td>32.0</td>\n",
       "    </tr>\n",
       "    <tr>\n",
       "      <th>2</th>\n",
       "      <td>NaN</td>\n",
       "      <td>NaN</td>\n",
       "      <td>6.0</td>\n",
       "    </tr>\n",
       "    <tr>\n",
       "      <th>3</th>\n",
       "      <td>6.0</td>\n",
       "      <td>43.0</td>\n",
       "      <td>4.0</td>\n",
       "    </tr>\n",
       "    <tr>\n",
       "      <th>4</th>\n",
       "      <td>3.0</td>\n",
       "      <td>NaN</td>\n",
       "      <td>NaN</td>\n",
       "    </tr>\n",
       "    <tr>\n",
       "      <th>5</th>\n",
       "      <td>NaN</td>\n",
       "      <td>32.0</td>\n",
       "      <td>2.0</td>\n",
       "    </tr>\n",
       "  </tbody>\n",
       "</table>\n",
       "</div>"
      ],
      "text/plain": [
       "      A     B     C\n",
       "0  43.0   1.0   NaN\n",
       "1  59.0  20.0  32.0\n",
       "2   NaN   NaN   6.0\n",
       "3   6.0  43.0   4.0\n",
       "4   3.0   NaN   NaN\n",
       "5   NaN  32.0   2.0"
      ]
     },
     "execution_count": 226,
     "metadata": {},
     "output_type": "execute_result"
    }
   ],
   "source": [
    "df_filling_backfill=pd.DataFrame({'A':[43,59,np.nan,6,3,np.nan],\\\n",
    "    'B':[1,20,np.nan,43,np.nan,32],'C':[np.nan,32,6,4,np.nan,2]})\n",
    "df_filling_backfill\n"
   ]
  },
  {
   "cell_type": "code",
   "execution_count": 227,
   "id": "39318bdb-75df-461d-8b05-b18123ba3962",
   "metadata": {},
   "outputs": [
    {
     "name": "stderr",
     "output_type": "stream",
     "text": [
      "/var/folders/y6/fxl5q2qn5kg2cd_4j_k391qm0000gn/T/ipykernel_49122/4061973333.py:1: FutureWarning: DataFrame.fillna with 'method' is deprecated and will raise in a future version. Use obj.ffill() or obj.bfill() instead.\n",
      "  df_filling_backfill.fillna(method='bfill')\n"
     ]
    },
    {
     "data": {
      "text/html": [
       "<div>\n",
       "<style scoped>\n",
       "    .dataframe tbody tr th:only-of-type {\n",
       "        vertical-align: middle;\n",
       "    }\n",
       "\n",
       "    .dataframe tbody tr th {\n",
       "        vertical-align: top;\n",
       "    }\n",
       "\n",
       "    .dataframe thead th {\n",
       "        text-align: right;\n",
       "    }\n",
       "</style>\n",
       "<table border=\"1\" class=\"dataframe\">\n",
       "  <thead>\n",
       "    <tr style=\"text-align: right;\">\n",
       "      <th></th>\n",
       "      <th>A</th>\n",
       "      <th>B</th>\n",
       "      <th>C</th>\n",
       "    </tr>\n",
       "  </thead>\n",
       "  <tbody>\n",
       "    <tr>\n",
       "      <th>0</th>\n",
       "      <td>43.0</td>\n",
       "      <td>1.0</td>\n",
       "      <td>32.0</td>\n",
       "    </tr>\n",
       "    <tr>\n",
       "      <th>1</th>\n",
       "      <td>59.0</td>\n",
       "      <td>20.0</td>\n",
       "      <td>32.0</td>\n",
       "    </tr>\n",
       "    <tr>\n",
       "      <th>2</th>\n",
       "      <td>6.0</td>\n",
       "      <td>43.0</td>\n",
       "      <td>6.0</td>\n",
       "    </tr>\n",
       "    <tr>\n",
       "      <th>3</th>\n",
       "      <td>6.0</td>\n",
       "      <td>43.0</td>\n",
       "      <td>4.0</td>\n",
       "    </tr>\n",
       "    <tr>\n",
       "      <th>4</th>\n",
       "      <td>3.0</td>\n",
       "      <td>32.0</td>\n",
       "      <td>2.0</td>\n",
       "    </tr>\n",
       "    <tr>\n",
       "      <th>5</th>\n",
       "      <td>NaN</td>\n",
       "      <td>32.0</td>\n",
       "      <td>2.0</td>\n",
       "    </tr>\n",
       "  </tbody>\n",
       "</table>\n",
       "</div>"
      ],
      "text/plain": [
       "      A     B     C\n",
       "0  43.0   1.0  32.0\n",
       "1  59.0  20.0  32.0\n",
       "2   6.0  43.0   6.0\n",
       "3   6.0  43.0   4.0\n",
       "4   3.0  32.0   2.0\n",
       "5   NaN  32.0   2.0"
      ]
     },
     "execution_count": 227,
     "metadata": {},
     "output_type": "execute_result"
    }
   ],
   "source": [
    "df_filling_backfill.fillna(method='bfill')"
   ]
  },
  {
   "cell_type": "code",
   "execution_count": 228,
   "id": "da4dd7ee-4829-4da5-9bd5-139acb234d5e",
   "metadata": {},
   "outputs": [
    {
     "data": {
      "text/plain": [
       "array([ 1,  2,  3,  4,  5,  6,  7,  8,  9, 10])"
      ]
     },
     "execution_count": 228,
     "metadata": {},
     "output_type": "execute_result"
    }
   ],
   "source": [
    "import numpy as np\n",
    "A=[1,2,3,4,5,6,7,8,9,10]\n",
    "np.array(A)"
   ]
  },
  {
   "cell_type": "code",
   "execution_count": 229,
   "id": "dcc0b0ee-4b62-4fad-a972-35cd4da1326f",
   "metadata": {},
   "outputs": [],
   "source": [
    "B=[[4,5,6],[7,8,9],[10,11,12]]"
   ]
  },
  {
   "cell_type": "code",
   "execution_count": 230,
   "id": "06074dd0-b4ab-4371-a21b-761f2f8d6fe5",
   "metadata": {},
   "outputs": [
    {
     "data": {
      "text/plain": [
       "array([[ 4,  5,  6],\n",
       "       [ 7,  8,  9],\n",
       "       [10, 11, 12]])"
      ]
     },
     "execution_count": 230,
     "metadata": {},
     "output_type": "execute_result"
    }
   ],
   "source": [
    "np.array(B)"
   ]
  },
  {
   "cell_type": "code",
   "execution_count": 234,
   "id": "562fa16f-5f83-4783-8bff-0df100f61b7d",
   "metadata": {},
   "outputs": [
    {
     "data": {
      "text/plain": [
       "array([ 0,  5, 10, 15, 20, 25, 30, 35])"
      ]
     },
     "execution_count": 234,
     "metadata": {},
     "output_type": "execute_result"
    }
   ],
   "source": [
    "np.arange(0,40,5)"
   ]
  },
  {
   "cell_type": "code",
   "execution_count": 235,
   "id": "bd31022b-8098-4204-8b01-df41493fc89d",
   "metadata": {},
   "outputs": [
    {
     "data": {
      "text/plain": [
       "array([0., 0., 0., 0., 0.])"
      ]
     },
     "execution_count": 235,
     "metadata": {},
     "output_type": "execute_result"
    }
   ],
   "source": [
    "np.zeros(5)"
   ]
  },
  {
   "cell_type": "code",
   "execution_count": 236,
   "id": "e9c675b0-0072-43b8-81eb-6fe70b9fd410",
   "metadata": {},
   "outputs": [
    {
     "data": {
      "text/plain": [
       "array([[0., 0., 0., 0., 0.],\n",
       "       [0., 0., 0., 0., 0.],\n",
       "       [0., 0., 0., 0., 0.],\n",
       "       [0., 0., 0., 0., 0.],\n",
       "       [0., 0., 0., 0., 0.]])"
      ]
     },
     "execution_count": 236,
     "metadata": {},
     "output_type": "execute_result"
    }
   ],
   "source": [
    "np.zeros((5,5))"
   ]
  },
  {
   "cell_type": "code",
   "execution_count": 237,
   "id": "2b3e923c-0240-4f2b-9ac8-5adeaf9c14c3",
   "metadata": {},
   "outputs": [
    {
     "data": {
      "text/plain": [
       "array([1., 1., 1., 1., 1.])"
      ]
     },
     "execution_count": 237,
     "metadata": {},
     "output_type": "execute_result"
    }
   ],
   "source": [
    "np.ones(5)"
   ]
  },
  {
   "cell_type": "code",
   "execution_count": 238,
   "id": "f9cccdf4-a3c6-49e4-9514-ed99c58aeeee",
   "metadata": {},
   "outputs": [
    {
     "data": {
      "text/plain": [
       "array([[1., 1., 1., 1., 1.],\n",
       "       [1., 1., 1., 1., 1.],\n",
       "       [1., 1., 1., 1., 1.],\n",
       "       [1., 1., 1., 1., 1.],\n",
       "       [1., 1., 1., 1., 1.]])"
      ]
     },
     "execution_count": 238,
     "metadata": {},
     "output_type": "execute_result"
    }
   ],
   "source": [
    "np.ones((5,5))"
   ]
  },
  {
   "cell_type": "code",
   "execution_count": 239,
   "id": "f5c31cb6-230f-4e75-9f74-0c35cfcc6f64",
   "metadata": {},
   "outputs": [
    {
     "data": {
      "text/plain": [
       "array([ 0.        ,  2.22222222,  4.44444444,  6.66666667,  8.88888889,\n",
       "       11.11111111, 13.33333333, 15.55555556, 17.77777778, 20.        ])"
      ]
     },
     "execution_count": 239,
     "metadata": {},
     "output_type": "execute_result"
    }
   ],
   "source": [
    "np.linspace(0,20,10)"
   ]
  },
  {
   "cell_type": "code",
   "execution_count": 240,
   "id": "aa106fdb-66e7-4eeb-8fde-578b36900c78",
   "metadata": {},
   "outputs": [
    {
     "data": {
      "text/plain": [
       "array([[1., 0., 0., 0., 0., 0., 0., 0., 0., 0.],\n",
       "       [0., 1., 0., 0., 0., 0., 0., 0., 0., 0.],\n",
       "       [0., 0., 1., 0., 0., 0., 0., 0., 0., 0.],\n",
       "       [0., 0., 0., 1., 0., 0., 0., 0., 0., 0.],\n",
       "       [0., 0., 0., 0., 1., 0., 0., 0., 0., 0.],\n",
       "       [0., 0., 0., 0., 0., 1., 0., 0., 0., 0.],\n",
       "       [0., 0., 0., 0., 0., 0., 1., 0., 0., 0.],\n",
       "       [0., 0., 0., 0., 0., 0., 0., 1., 0., 0.],\n",
       "       [0., 0., 0., 0., 0., 0., 0., 0., 1., 0.],\n",
       "       [0., 0., 0., 0., 0., 0., 0., 0., 0., 1.]])"
      ]
     },
     "execution_count": 240,
     "metadata": {},
     "output_type": "execute_result"
    }
   ],
   "source": [
    "np.eye(10)"
   ]
  },
  {
   "cell_type": "code",
   "execution_count": 241,
   "id": "f8b35b45-02d0-400c-a2f8-7cadb5b5077c",
   "metadata": {},
   "outputs": [
    {
     "data": {
      "text/plain": [
       "array([0.54340494, 0.27836939, 0.42451759, 0.84477613, 0.00471886])"
      ]
     },
     "execution_count": 241,
     "metadata": {},
     "output_type": "execute_result"
    }
   ],
   "source": [
    "seed=100\n",
    "np.random.seed(seed)\n",
    "np.random.rand(5)"
   ]
  },
  {
   "cell_type": "code",
   "execution_count": 242,
   "id": "f6de4ca6-d1d8-4041-a1a0-661b8d9a9af9",
   "metadata": {},
   "outputs": [
    {
     "data": {
      "text/plain": [
       "array([[0.54340494, 0.27836939, 0.42451759, 0.84477613, 0.00471886],\n",
       "       [0.12156912, 0.67074908, 0.82585276, 0.13670659, 0.57509333],\n",
       "       [0.89132195, 0.20920212, 0.18532822, 0.10837689, 0.21969749],\n",
       "       [0.97862378, 0.81168315, 0.17194101, 0.81622475, 0.27407375],\n",
       "       [0.43170418, 0.94002982, 0.81764938, 0.33611195, 0.17541045]])"
      ]
     },
     "execution_count": 242,
     "metadata": {},
     "output_type": "execute_result"
    }
   ],
   "source": [
    "seed=100\n",
    "np.random.seed(seed)\n",
    "np.random.rand(5,5)"
   ]
  },
  {
   "cell_type": "code",
   "execution_count": 243,
   "id": "4da3babf-bca4-4835-887a-d3947d9a0e24",
   "metadata": {},
   "outputs": [
    {
     "data": {
      "text/plain": [
       "array([-1.74976547,  0.3426804 ,  1.1530358 , -0.25243604,  0.98132079])"
      ]
     },
     "execution_count": 243,
     "metadata": {},
     "output_type": "execute_result"
    }
   ],
   "source": [
    "seed=100\n",
    "np.random.seed(seed)\n",
    "np.random.randn(5)"
   ]
  },
  {
   "cell_type": "code",
   "execution_count": 244,
   "id": "34852061-f099-45b9-9b7e-92a5a5620058",
   "metadata": {},
   "outputs": [
    {
     "data": {
      "text/plain": [
       "array([[-1.74976547,  0.3426804 ,  1.1530358 , -0.25243604,  0.98132079],\n",
       "       [ 0.51421884,  0.22117967, -1.07004333, -0.18949583,  0.25500144],\n",
       "       [-0.45802699,  0.43516349, -0.58359505,  0.81684707,  0.67272081],\n",
       "       [-0.10441114, -0.53128038,  1.02973269, -0.43813562, -1.11831825],\n",
       "       [ 1.61898166,  1.54160517, -0.25187914, -0.84243574,  0.18451869]])"
      ]
     },
     "execution_count": 244,
     "metadata": {},
     "output_type": "execute_result"
    }
   ],
   "source": [
    "seed=100\n",
    "np.random.seed(seed)\n",
    "np.random.randn(5,5)"
   ]
  },
  {
   "cell_type": "code",
   "execution_count": 245,
   "id": "660b991f-dda5-494f-bb33-fba3c59c70de",
   "metadata": {},
   "outputs": [
    {
     "data": {
      "text/plain": [
       "array([ 14, 107,  31,  18,  54,  69, 435, 489, 348, 476])"
      ]
     },
     "execution_count": 245,
     "metadata": {},
     "output_type": "execute_result"
    }
   ],
   "source": [
    "np.random.randint(1,500,10)"
   ]
  },
  {
   "cell_type": "code",
   "execution_count": 247,
   "id": "16189f2d-0b63-42a2-bed1-0b1c502a1b6b",
   "metadata": {},
   "outputs": [],
   "source": [
    "A=np.arange(20,30)"
   ]
  },
  {
   "cell_type": "code",
   "execution_count": 248,
   "id": "4f6418db-6ba9-4428-b23e-aec46d004bac",
   "metadata": {},
   "outputs": [
    {
     "data": {
      "text/plain": [
       "array([20, 21, 22, 23, 24, 25, 26, 27, 28, 29])"
      ]
     },
     "execution_count": 248,
     "metadata": {},
     "output_type": "execute_result"
    }
   ],
   "source": [
    "A"
   ]
  },
  {
   "cell_type": "code",
   "execution_count": 249,
   "id": "24462528-5280-468c-a6ee-27f8a6ce31cd",
   "metadata": {},
   "outputs": [
    {
     "data": {
      "text/plain": [
       "array([[20, 21],\n",
       "       [22, 23],\n",
       "       [24, 25],\n",
       "       [26, 27],\n",
       "       [28, 29]])"
      ]
     },
     "execution_count": 249,
     "metadata": {},
     "output_type": "execute_result"
    }
   ],
   "source": [
    "A.reshape(5,2)"
   ]
  },
  {
   "cell_type": "code",
   "execution_count": 250,
   "id": "e66aff5f-3b7c-4040-9e05-da083e5f365f",
   "metadata": {},
   "outputs": [],
   "source": [
    "X=np.arange(30,41)"
   ]
  },
  {
   "cell_type": "code",
   "execution_count": 251,
   "id": "d56b17f0-7713-4eae-9546-96434fc50417",
   "metadata": {},
   "outputs": [
    {
     "data": {
      "text/plain": [
       "array([30, 31, 32, 33, 34, 35, 36, 37, 38, 39, 40])"
      ]
     },
     "execution_count": 251,
     "metadata": {},
     "output_type": "execute_result"
    }
   ],
   "source": [
    "X"
   ]
  },
  {
   "cell_type": "code",
   "execution_count": 252,
   "id": "592d9ad5-8ae7-4e42-bd97-0cbd8b6152b7",
   "metadata": {},
   "outputs": [
    {
     "data": {
      "text/plain": [
       "array([30, 31, 32, 33, 34, 35, 36])"
      ]
     },
     "execution_count": 252,
     "metadata": {},
     "output_type": "execute_result"
    }
   ],
   "source": [
    "X[:7]"
   ]
  },
  {
   "cell_type": "code",
   "execution_count": 253,
   "id": "fd6cd99a-b0e1-448e-b8aa-c2381222f1a0",
   "metadata": {},
   "outputs": [
    {
     "data": {
      "text/plain": [
       "array([32, 33, 34, 35, 36, 37, 38, 39, 40])"
      ]
     },
     "execution_count": 253,
     "metadata": {},
     "output_type": "execute_result"
    }
   ],
   "source": [
    "X[2:]"
   ]
  },
  {
   "cell_type": "code",
   "execution_count": 255,
   "id": "e4fba0af-5275-46e0-a8ad-efc0a5db906e",
   "metadata": {},
   "outputs": [],
   "source": [
    "Y=X.copy()*2"
   ]
  },
  {
   "cell_type": "code",
   "execution_count": 256,
   "id": "560a6360-61af-4e52-863a-483b2003f54e",
   "metadata": {},
   "outputs": [
    {
     "data": {
      "text/plain": [
       "array([60, 62, 64, 66, 68, 70, 72, 74, 76, 78, 80])"
      ]
     },
     "execution_count": 256,
     "metadata": {},
     "output_type": "execute_result"
    }
   ],
   "source": [
    "Y"
   ]
  },
  {
   "cell_type": "code",
   "execution_count": 257,
   "id": "17b1c70d-3c3d-461f-b89f-cfec962800b9",
   "metadata": {},
   "outputs": [
    {
     "data": {
      "text/plain": [
       "array([1000, 1000, 1000, 1000, 1000,   70,   72,   74,   76,   78,   80])"
      ]
     },
     "execution_count": 257,
     "metadata": {},
     "output_type": "execute_result"
    }
   ],
   "source": [
    "Y[:5]=1000\n",
    "Y"
   ]
  },
  {
   "cell_type": "code",
   "execution_count": 259,
   "id": "ad0d4b75-6195-420d-822e-63529da653be",
   "metadata": {},
   "outputs": [
    {
     "data": {
      "text/plain": [
       "array([[50, 52, 54],\n",
       "       [56, 58, 60],\n",
       "       [62, 64, 66],\n",
       "       [68, 70, 72]])"
      ]
     },
     "execution_count": 259,
     "metadata": {},
     "output_type": "execute_result"
    }
   ],
   "source": [
    "array_2d=np.array([[50,52,54],[56,58,60],[62,64,66],[68,70,72]])\n",
    "array_2d"
   ]
  },
  {
   "cell_type": "code",
   "execution_count": 260,
   "id": "cd8f067d-a90b-4f1b-bb9b-589a0022de2f",
   "metadata": {},
   "outputs": [
    {
     "data": {
      "text/plain": [
       "64"
      ]
     },
     "execution_count": 260,
     "metadata": {},
     "output_type": "execute_result"
    }
   ],
   "source": [
    "array_2d[2][1]"
   ]
  },
  {
   "cell_type": "code",
   "execution_count": 261,
   "id": "9bf6903c-0b91-4982-94af-083b2c2c7597",
   "metadata": {},
   "outputs": [
    {
     "data": {
      "text/plain": [
       "array([[68, 70, 72]])"
      ]
     },
     "execution_count": 261,
     "metadata": {},
     "output_type": "execute_result"
    }
   ],
   "source": [
    "array_2d[2:][1:]"
   ]
  },
  {
   "cell_type": "code",
   "execution_count": 262,
   "id": "f3da0710-66d8-4639-a7ef-3fae65593d24",
   "metadata": {},
   "outputs": [
    {
     "data": {
      "text/plain": [
       "array([[64, 66],\n",
       "       [70, 72]])"
      ]
     },
     "execution_count": 262,
     "metadata": {},
     "output_type": "execute_result"
    }
   ],
   "source": [
    "array_2d[2:,1:]"
   ]
  },
  {
   "cell_type": "code",
   "execution_count": 264,
   "id": "418f059b-9b20-474d-8976-5934a3b86010",
   "metadata": {},
   "outputs": [
    {
     "data": {
      "text/plain": [
       "array([68, 70])"
      ]
     },
     "execution_count": 264,
     "metadata": {},
     "output_type": "execute_result"
    }
   ],
   "source": [
    "array_2d[3,:2]"
   ]
  },
  {
   "cell_type": "code",
   "execution_count": null,
   "id": "ff18d528-8447-47e1-a80e-2bba01f5dd93",
   "metadata": {},
   "outputs": [],
   "source": []
  }
 ],
 "metadata": {
  "kernelspec": {
   "display_name": "Python 3 (ipykernel)",
   "language": "python",
   "name": "python3"
  },
  "language_info": {
   "codemirror_mode": {
    "name": "ipython",
    "version": 3
   },
   "file_extension": ".py",
   "mimetype": "text/x-python",
   "name": "python",
   "nbconvert_exporter": "python",
   "pygments_lexer": "ipython3",
   "version": "3.12.2"
  }
 },
 "nbformat": 4,
 "nbformat_minor": 5
}
