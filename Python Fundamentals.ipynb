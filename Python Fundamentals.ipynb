{
 "cells": [
  {
   "cell_type": "code",
   "execution_count": 5,
   "id": "2a2606e8-082d-4827-a8ea-0309478b9103",
   "metadata": {},
   "outputs": [],
   "source": [
    "import numpy as np"
   ]
  },
  {
   "cell_type": "code",
   "execution_count": 6,
   "id": "046b886d-41b4-45e3-a530-45bea362e714",
   "metadata": {},
   "outputs": [
    {
     "data": {
      "text/plain": [
       "16"
      ]
     },
     "execution_count": 6,
     "metadata": {},
     "output_type": "execute_result"
    }
   ],
   "source": [
    "4*4"
   ]
  },
  {
   "cell_type": "code",
   "execution_count": 7,
   "id": "dcd9e86f-89ad-4e61-bc81-61ce70d9dee6",
   "metadata": {},
   "outputs": [
    {
     "data": {
      "text/plain": [
       "42"
      ]
     },
     "execution_count": 7,
     "metadata": {},
     "output_type": "execute_result"
    }
   ],
   "source": [
    "4*4+2*4+9*2"
   ]
  },
  {
   "cell_type": "markdown",
   "id": "630ddd3c-1aa6-4f15-a95b-3ea2a1a48c1a",
   "metadata": {},
   "source": [
    "(4*2)+(8*7)\n"
   ]
  },
  {
   "cell_type": "code",
   "execution_count": 8,
   "id": "4e5b8737-1526-4ee1-82f9-242d096adc35",
   "metadata": {},
   "outputs": [
    {
     "data": {
      "text/plain": [
       "64"
      ]
     },
     "execution_count": 8,
     "metadata": {},
     "output_type": "execute_result"
    }
   ],
   "source": [
    "(4*2)+(8*7)"
   ]
  },
  {
   "cell_type": "code",
   "execution_count": 9,
   "id": "6153c45b-58de-4bae-951a-c337146dc947",
   "metadata": {},
   "outputs": [
    {
     "data": {
      "text/plain": [
       "1000"
      ]
     },
     "execution_count": 9,
     "metadata": {},
     "output_type": "execute_result"
    }
   ],
   "source": [
    "10**3"
   ]
  },
  {
   "cell_type": "code",
   "execution_count": 10,
   "id": "87a74fdb-a2db-407f-85cf-096928270c5a",
   "metadata": {},
   "outputs": [
    {
     "data": {
      "text/plain": [
       "1"
      ]
     },
     "execution_count": 10,
     "metadata": {},
     "output_type": "execute_result"
    }
   ],
   "source": [
    "13%2"
   ]
  },
  {
   "cell_type": "code",
   "execution_count": 11,
   "id": "f07b848b-85ff-4af6-8250-5e071fece52d",
   "metadata": {},
   "outputs": [
    {
     "data": {
      "text/plain": [
       "600"
      ]
     },
     "execution_count": 11,
     "metadata": {},
     "output_type": "execute_result"
    }
   ],
   "source": [
    "x=100\n",
    "y=200\n",
    "z=300\n",
    "d=x+y+z\n",
    "d"
   ]
  },
  {
   "cell_type": "code",
   "execution_count": 12,
   "id": "58867502-39f7-47ee-8c8c-6f95c8c72296",
   "metadata": {},
   "outputs": [],
   "source": [
    "y=\"Oil_Gas\"\n"
   ]
  },
  {
   "cell_type": "code",
   "execution_count": 13,
   "id": "50d61999-5f80-45f3-9db2-a553630fd659",
   "metadata": {},
   "outputs": [
    {
     "data": {
      "text/plain": [
       "'O'"
      ]
     },
     "execution_count": 13,
     "metadata": {},
     "output_type": "execute_result"
    }
   ],
   "source": [
    "y[0]"
   ]
  },
  {
   "cell_type": "code",
   "execution_count": 14,
   "id": "29874ade-9eb4-4e49-acee-7a30ade57225",
   "metadata": {},
   "outputs": [
    {
     "data": {
      "text/plain": [
       "'a'"
      ]
     },
     "execution_count": 14,
     "metadata": {},
     "output_type": "execute_result"
    }
   ],
   "source": [
    "y[5]\n"
   ]
  },
  {
   "cell_type": "code",
   "execution_count": 15,
   "id": "a5c5193e-afef-4870-aa63-2eb70a6e9359",
   "metadata": {},
   "outputs": [
    {
     "data": {
      "text/plain": [
       "'Oil_'"
      ]
     },
     "execution_count": 15,
     "metadata": {},
     "output_type": "execute_result"
    }
   ],
   "source": [
    "y[0:4]"
   ]
  },
  {
   "cell_type": "code",
   "execution_count": 16,
   "id": "3f747db2-70cc-4302-ab3f-5ff93e5a9be5",
   "metadata": {},
   "outputs": [
    {
     "data": {
      "text/plain": [
       "'Oil_Gas'"
      ]
     },
     "execution_count": 16,
     "metadata": {},
     "output_type": "execute_result"
    }
   ],
   "source": [
    "y[:]"
   ]
  },
  {
   "cell_type": "code",
   "execution_count": 17,
   "id": "ee28baec-b67a-4145-9fb3-c1eb460205ff",
   "metadata": {},
   "outputs": [
    {
     "data": {
      "text/plain": [
       "'Oil_Ga'"
      ]
     },
     "execution_count": 17,
     "metadata": {},
     "output_type": "execute_result"
    }
   ],
   "source": [
    "y[:6]\n"
   ]
  },
  {
   "cell_type": "code",
   "execution_count": 18,
   "id": "7bb69662-0c3a-4de5-894f-cdc797c05862",
   "metadata": {},
   "outputs": [
    {
     "data": {
      "text/plain": [
       "'l_Gas'"
      ]
     },
     "execution_count": 18,
     "metadata": {},
     "output_type": "execute_result"
    }
   ],
   "source": [
    "y[2:]"
   ]
  },
  {
   "cell_type": "code",
   "execution_count": 20,
   "id": "c43920c6-8a4f-47ad-af75-363e32651505",
   "metadata": {},
   "outputs": [
    {
     "data": {
      "text/plain": [
       "34"
      ]
     },
     "execution_count": 20,
     "metadata": {},
     "output_type": "execute_result"
    }
   ],
   "source": [
    "z='The optimum well spacing is 950 ft'\n",
    "len(z)"
   ]
  },
  {
   "cell_type": "code",
   "execution_count": 22,
   "id": "41f9e4c0-cb28-4814-a598-b6e9ece727b8",
   "metadata": {},
   "outputs": [],
   "source": [
    "list=['Land','Geology','Drilling']"
   ]
  },
  {
   "cell_type": "code",
   "execution_count": 23,
   "id": "bf49d555-6451-4260-a44c-2f59d8a40484",
   "metadata": {},
   "outputs": [
    {
     "data": {
      "text/plain": [
       "['Land', 'Geology', 'Drilling']"
      ]
     },
     "execution_count": 23,
     "metadata": {},
     "output_type": "execute_result"
    }
   ],
   "source": [
    "list\n"
   ]
  },
  {
   "cell_type": "code",
   "execution_count": 24,
   "id": "eb11df1b-5938-4f8e-8791-5dc67938b6ae",
   "metadata": {},
   "outputs": [],
   "source": [
    "list.append('Frac')"
   ]
  },
  {
   "cell_type": "code",
   "execution_count": 25,
   "id": "b627cc8a-a885-4399-8a61-60c9885acbe0",
   "metadata": {},
   "outputs": [
    {
     "data": {
      "text/plain": [
       "['Land', 'Geology', 'Drilling', 'Frac']"
      ]
     },
     "execution_count": 25,
     "metadata": {},
     "output_type": "execute_result"
    }
   ],
   "source": [
    "list"
   ]
  },
  {
   "cell_type": "code",
   "execution_count": 26,
   "id": "3e214721-e052-4e64-bcf1-908236fdea4b",
   "metadata": {},
   "outputs": [
    {
     "ename": "SyntaxError",
     "evalue": "incomplete input (4130884942.py, line 1)",
     "output_type": "error",
     "traceback": [
      "\u001b[0;36m  Cell \u001b[0;32mIn[26], line 1\u001b[0;36m\u001b[0m\n\u001b[0;31m    list.append(1000\u001b[0m\n\u001b[0m                    ^\u001b[0m\n\u001b[0;31mSyntaxError\u001b[0m\u001b[0;31m:\u001b[0m incomplete input\n"
     ]
    }
   ],
   "source": [
    "list.append(1000"
   ]
  },
  {
   "cell_type": "code",
   "execution_count": 27,
   "id": "d038754c-79d4-4333-aff7-babd2d042aaf",
   "metadata": {},
   "outputs": [],
   "source": [
    "list.append(100)"
   ]
  },
  {
   "cell_type": "code",
   "execution_count": 28,
   "id": "a689983c-a8d0-414b-a77d-659e294a8758",
   "metadata": {},
   "outputs": [
    {
     "data": {
      "text/plain": [
       "['Land', 'Geology', 'Drilling', 'Frac', 100]"
      ]
     },
     "execution_count": 28,
     "metadata": {},
     "output_type": "execute_result"
    }
   ],
   "source": [
    "list"
   ]
  },
  {
   "cell_type": "code",
   "execution_count": 29,
   "id": "bafb67b5-2788-4146-abe6-78a083c21de1",
   "metadata": {},
   "outputs": [
    {
     "name": "stdout",
     "output_type": "stream",
     "text": [
      "Land\n",
      "Drilling\n",
      "100\n"
     ]
    }
   ],
   "source": [
    "print(list[0])\n",
    "print(list[2])\n",
    "print(list[len(list)-1])\n"
   ]
  },
  {
   "cell_type": "code",
   "execution_count": 30,
   "id": "710ea0ef-91b8-4788-b906-a531512fd921",
   "metadata": {},
   "outputs": [],
   "source": [
    "list[0]='Title Search'\n"
   ]
  },
  {
   "cell_type": "code",
   "execution_count": 31,
   "id": "a1a25f87-5469-44b4-ba9c-7eb2aa231602",
   "metadata": {},
   "outputs": [
    {
     "data": {
      "text/plain": [
       "['Title Search', 'Geology', 'Drilling', 'Frac', 100]"
      ]
     },
     "execution_count": 31,
     "metadata": {},
     "output_type": "execute_result"
    }
   ],
   "source": [
    "list\n"
   ]
  },
  {
   "cell_type": "code",
   "execution_count": 32,
   "id": "04fdc79b-8746-4712-ac9d-af92ef08d96f",
   "metadata": {},
   "outputs": [],
   "source": [
    "list[2]='Augusto'"
   ]
  },
  {
   "cell_type": "code",
   "execution_count": 33,
   "id": "c3a41333-f834-4f96-96ad-9684d2f1b34a",
   "metadata": {},
   "outputs": [
    {
     "data": {
      "text/plain": [
       "['Title Search', 'Geology', 'Augusto', 'Frac', 100]"
      ]
     },
     "execution_count": 33,
     "metadata": {},
     "output_type": "execute_result"
    }
   ],
   "source": [
    "list"
   ]
  },
  {
   "cell_type": "code",
   "execution_count": 34,
   "id": "4990fee1-8288-419e-af96-87064c794365",
   "metadata": {},
   "outputs": [],
   "source": [
    "nested_list=[10,20, [30,40,50,60]]"
   ]
  },
  {
   "cell_type": "code",
   "execution_count": 35,
   "id": "c24db795-d77d-4d32-86f6-acd650bad939",
   "metadata": {},
   "outputs": [
    {
     "data": {
      "text/plain": [
       "40"
      ]
     },
     "execution_count": 35,
     "metadata": {},
     "output_type": "execute_result"
    }
   ],
   "source": [
    "nested_list[2][1]"
   ]
  },
  {
   "cell_type": "code",
   "execution_count": 39,
   "id": "a5ac5d56-7ff8-4118-9eb2-5d26e42e4d23",
   "metadata": {},
   "outputs": [],
   "source": [
    "nested_list2=[10,20, [30,40,50,60, [4,3,1]]]"
   ]
  },
  {
   "cell_type": "code",
   "execution_count": 40,
   "id": "0eb0ca96-fb80-466c-ba34-2caf23cf01a3",
   "metadata": {},
   "outputs": [
    {
     "data": {
      "text/plain": [
       "10"
      ]
     },
     "execution_count": 40,
     "metadata": {},
     "output_type": "execute_result"
    }
   ],
   "source": [
    "nested_list2[0]\n"
   ]
  },
  {
   "cell_type": "code",
   "execution_count": 41,
   "id": "f6b29dc9-6649-4f8a-ad2d-34298af8aed0",
   "metadata": {},
   "outputs": [
    {
     "data": {
      "text/plain": [
       "[30, 40, 50, 60, [4, 3, 1]]"
      ]
     },
     "execution_count": 41,
     "metadata": {},
     "output_type": "execute_result"
    }
   ],
   "source": [
    "nested_list2[2]"
   ]
  },
  {
   "cell_type": "code",
   "execution_count": 42,
   "id": "88450df4-7579-4b8e-bfc3-6690d79e5ac1",
   "metadata": {},
   "outputs": [
    {
     "ename": "IndexError",
     "evalue": "list index out of range",
     "output_type": "error",
     "traceback": [
      "\u001b[0;31m---------------------------------------------------------------------------\u001b[0m",
      "\u001b[0;31mIndexError\u001b[0m                                Traceback (most recent call last)",
      "Cell \u001b[0;32mIn[42], line 1\u001b[0m\n\u001b[0;32m----> 1\u001b[0m nested_list2[\u001b[38;5;241m3\u001b[39m]\n",
      "\u001b[0;31mIndexError\u001b[0m: list index out of range"
     ]
    }
   ],
   "source": [
    "nested_list2[3]"
   ]
  },
  {
   "cell_type": "code",
   "execution_count": 44,
   "id": "6bf97bc9-becf-488a-9f47-a1fb2336061c",
   "metadata": {},
   "outputs": [
    {
     "data": {
      "text/plain": [
       "3"
      ]
     },
     "execution_count": 44,
     "metadata": {},
     "output_type": "execute_result"
    }
   ],
   "source": [
    "nested_list2[2][4][1]\n"
   ]
  },
  {
   "cell_type": "code",
   "execution_count": 45,
   "id": "16cbe31a-eb83-4224-9bb7-836551d5e66f",
   "metadata": {},
   "outputs": [],
   "source": [
    "a={'ML_Models':['ANN','SVM','RF','GB','XGB'],\n",
    "'Score':[90,85,95,90,100]}"
   ]
  },
  {
   "cell_type": "code",
   "execution_count": 46,
   "id": "c15ea814-6706-4dea-894b-7c37d11b8ea5",
   "metadata": {},
   "outputs": [
    {
     "data": {
      "text/plain": [
       "{'ML_Models': ['ANN', 'SVM', 'RF', 'GB', 'XGB'],\n",
       " 'Score': [90, 85, 95, 90, 100]}"
      ]
     },
     "execution_count": 46,
     "metadata": {},
     "output_type": "execute_result"
    }
   ],
   "source": [
    "a"
   ]
  },
  {
   "cell_type": "code",
   "execution_count": 47,
   "id": "a7020bba-5c29-4461-899b-3083bf5f6764",
   "metadata": {},
   "outputs": [
    {
     "data": {
      "text/plain": [
       "['ANN', 'SVM', 'RF', 'GB', 'XGB']"
      ]
     },
     "execution_count": 47,
     "metadata": {},
     "output_type": "execute_result"
    }
   ],
   "source": [
    "a['ML_Models']"
   ]
  },
  {
   "cell_type": "code",
   "execution_count": 48,
   "id": "c2dccedd-85cb-4937-b8df-21dde6556971",
   "metadata": {},
   "outputs": [
    {
     "data": {
      "text/plain": [
       "[90, 85, 95, 90, 100]"
      ]
     },
     "execution_count": 48,
     "metadata": {},
     "output_type": "execute_result"
    }
   ],
   "source": [
    "a['Score']"
   ]
  },
  {
   "cell_type": "code",
   "execution_count": 49,
   "id": "b86b6ece-ad50-4572-a342-c6ed59770204",
   "metadata": {},
   "outputs": [],
   "source": [
    "d={'a':{'inner_a':[1,2,3]}}"
   ]
  },
  {
   "cell_type": "code",
   "execution_count": 51,
   "id": "6f99d4a7-ea74-418b-bed2-adc46579727c",
   "metadata": {},
   "outputs": [
    {
     "data": {
      "text/plain": [
       "{'a': {'inner_a': [1, 2, 3]}}"
      ]
     },
     "execution_count": 51,
     "metadata": {},
     "output_type": "execute_result"
    }
   ],
   "source": [
    "d"
   ]
  },
  {
   "cell_type": "code",
   "execution_count": 53,
   "id": "09126e90-9a20-4da8-b191-b2f7a21cd30c",
   "metadata": {},
   "outputs": [
    {
     "data": {
      "text/plain": [
       "[1, 2, 3]"
      ]
     },
     "execution_count": 53,
     "metadata": {},
     "output_type": "execute_result"
    }
   ],
   "source": [
    "d['a']['inner_a']\n"
   ]
  },
  {
   "cell_type": "code",
   "execution_count": 54,
   "id": "b7116703-d625-4a1d-8ede-564845b5d857",
   "metadata": {},
   "outputs": [],
   "source": [
    "t=(100,200,300,400)"
   ]
  },
  {
   "cell_type": "code",
   "execution_count": 55,
   "id": "95090107-dd85-442d-8e80-769c61adc724",
   "metadata": {},
   "outputs": [
    {
     "data": {
      "text/plain": [
       "(100, 200, 300, 400)"
      ]
     },
     "execution_count": 55,
     "metadata": {},
     "output_type": "execute_result"
    }
   ],
   "source": [
    "t"
   ]
  },
  {
   "cell_type": "code",
   "execution_count": 56,
   "id": "ba599cb1-88b2-4356-9de9-3c6e1fcd6f30",
   "metadata": {},
   "outputs": [
    {
     "ename": "TypeError",
     "evalue": "'tuple' object does not support item assignment",
     "output_type": "error",
     "traceback": [
      "\u001b[0;31m---------------------------------------------------------------------------\u001b[0m",
      "\u001b[0;31mTypeError\u001b[0m                                 Traceback (most recent call last)",
      "Cell \u001b[0;32mIn[56], line 1\u001b[0m\n\u001b[0;32m----> 1\u001b[0m t[\u001b[38;5;241m0\u001b[39m]\u001b[38;5;241m=\u001b[39m\u001b[38;5;124m'\u001b[39m\u001b[38;5;124mNew\u001b[39m\u001b[38;5;124m'\u001b[39m\n",
      "\u001b[0;31mTypeError\u001b[0m: 'tuple' object does not support item assignment"
     ]
    }
   ],
   "source": [
    "t[0]='New'"
   ]
  },
  {
   "cell_type": "code",
   "execution_count": 58,
   "id": "090599fb-a0dd-488c-b707-0511fa1213d7",
   "metadata": {},
   "outputs": [
    {
     "name": "stdout",
     "output_type": "stream",
     "text": [
      "Not good!\n"
     ]
    }
   ],
   "source": [
    "if 100==200:\n",
    "    print('Good job')\n",
    "else:\n",
    "    print('Not good!')"
   ]
  },
  {
   "cell_type": "code",
   "execution_count": null,
   "id": "2f378bd0-fd44-45ef-8e98-4959ea6f9aaa",
   "metadata": {},
   "outputs": [],
   "source": []
  }
 ],
 "metadata": {
  "kernelspec": {
   "display_name": "Python 3 (ipykernel)",
   "language": "python",
   "name": "python3"
  },
  "language_info": {
   "codemirror_mode": {
    "name": "ipython",
    "version": 3
   },
   "file_extension": ".py",
   "mimetype": "text/x-python",
   "name": "python",
   "nbconvert_exporter": "python",
   "pygments_lexer": "ipython3",
   "version": "3.12.2"
  }
 },
 "nbformat": 4,
 "nbformat_minor": 5
}
