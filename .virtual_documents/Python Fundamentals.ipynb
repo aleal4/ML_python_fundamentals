import numpy as np


4*4


4*4+2*4+9*2





(4*2)+(8*7)


10**3


13%2


x=100
y=200
z=300
d=x+y+z
d


y="Oil_Gas"



y[0]


y[5]



y[0:4]


y[:]


y[:6]



y[2:]


z='The optimum well spacing is 950 ft'
len(z)


list=['Land','Geology','Drilling']


list



list.append('Frac')


list


list.append(1000


list.append(100)


list


print(list[0])
print(list[2])
print(list[len(list)-1])



list[0]='Title Search'



list



list[2]='Augusto'


list


nested_list=[10,20, [30,40,50,60]]


nested_list[2][1]


nested_list2=[10,20, [30,40,50,60, [4,3,1]]]


nested_list2[0]



nested_list2[2]


nested_list2[3]


nested_list2[2][4][1]



a={'ML_Models':['ANN','SVM','RF','GB','XGB'],
'Score':[90,85,95,90,100]}


a


a['ML_Models']


a['Score']


d={'a':{'inner_a':[1,2,3]}}


d


d['a']['inner_a']



t=(100,200,300,400)


t


t[0]='New'


if 100==200:
    print('Good job')
else:
    print('Not good!')


X=100
Y=200
Z=300

if X>Y:
    A=X+Y
elif Z<Y:
    B=X+Y+Z
else:
    C=2*(X+Y+Z)
C


n=float(input("Enter any number"))
if n ==0:
    print('Zero')
elif n>0:
    print('Positive Number')
else:
    print('Negative Number')



i=range(0,5)
for x in i:
    print(x)


for x in range(0,3):
    print('edge computing')


Frac_Crews=['Frac_Crew_1', 'Frac_Crew_2', 'Frac_Crew_3', 'Frac_Crew_4']
for x in Frac_Crews:
    if x=='Frac_Crew_2':
        continue
    print(x)


for x in range(10, 19, 4):
    
    print(x)



Performance=["Low_Performing", "Medium_Performing", "High_Performing"]
Drilling_crews=["Drilling_Crew_1", "Drilling_Crew_2", "Drilling_Crew_3"]
for x in Performance: 
    for y in Drilling_crews:
        print(x, y)


i=[10,20,30,40]
out=[]
for x in i:
    out.append(x**2+200)
print(out)


[x**2+200 for x in i]


y=[5,6,7,8,9,10]
[x**2+3*x+369 for x in y]



def linear_function(n):
    return 2*n+20
linear_function(20)


def Turner_rate(x):
    return x**2+50


Turner_rate(20)



