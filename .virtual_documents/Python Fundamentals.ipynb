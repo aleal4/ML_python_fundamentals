import numpy as np


4*4


4*4+2*4+9*2





(4*2)+(8*7)


10**3


13%2


x=100
y=200
z=300
d=x+y+z
d


y="Oil_Gas"



y[0]


y[5]



y[0:4]


y[:]


y[:6]



y[2:]


z='The optimum well spacing is 950 ft'
len(z)


list=['Land','Geology','Drilling']


list



list.append('Frac')


list


list.append(1000


list.append(100)


list


print(list[0])
print(list[2])
print(list[len(list)-1])



list[0]='Title Search'



list



list[2]='Augusto'


list


nested_list=[10,20, [30,40,50,60]]


nested_list[2][1]


nested_list2=[10,20, [30,40,50,60, [4,3,1]]]


nested_list2[0]



nested_list2[2]


nested_list2[3]


nested_list2[2][4][1]



a={'ML_Models':['ANN','SVM','RF','GB','XGB'],
'Score':[90,85,95,90,100]}


a


a['ML_Models']


a['Score']


d={'a':{'inner_a':[1,2,3]}}


d


d['a']['inner_a']



t=(100,200,300,400)


t


t[0]='New'


if 100==200
    print('Good job')
else:
    print('Not good!')



